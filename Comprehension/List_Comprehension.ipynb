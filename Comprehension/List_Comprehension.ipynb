{
 "cells": [
  {
   "cell_type": "markdown",
   "id": "d3c3b365",
   "metadata": {},
   "source": [
    "# Python's List Comprehension\n",
    "\n",
    "파이썬에서 **List Comprehension** 이란 **'리스트를 쉽게, 짧게 한 줄로 만들 수 있는 파이썬의 문법'** 이다.<br>\n",
    "List Comprehension 을 사용하면 다음 코드를 더욱 쉽고, 짧게 변경 가능하다."
   ]
  },
  {
   "cell_type": "code",
   "execution_count": 1,
   "id": "1f3c59bd",
   "metadata": {},
   "outputs": [],
   "source": [
    "some_list = []\n",
    "for i in range(10):\n",
    "    some_list.append(i)"
   ]
  },
  {
   "cell_type": "code",
   "execution_count": 2,
   "id": "7c78c8f5",
   "metadata": {},
   "outputs": [],
   "source": [
    "some_list = [i for i in range(10)]"
   ]
  },
  {
   "cell_type": "markdown",
   "id": "006cdc39",
   "metadata": {},
   "source": [
    "위의 두 패턴은 같다. 1번 패턴을 2번 패턴으로 변경할 수 있도록 가능한 파이썬 문법이 **'List Comprehension'** 이다. <br>\n",
    "## 왜 사용할까?\n",
    "\n",
    "- 3줄로 이루어진 코드를 누구나 이해 가능하도록 간결하게 1줄로 줄여주었다.\n",
    "- 더 빠르다.\n",
    "- comprehension 을 사용한 코드가 'Pythonic'하다. -> Python의 코드 스타일 가이드라인에 알맞다.\n",
    "\n",
    "### 왜 더 빠를까?\n",
    "1. runtime 시 리스트의 사이즈를 resize 하는 거 대신, 리스트에 원소를 추가하기 전에 리스트의 메모리에 먼저 할당한다.\n",
    "2. 'append' 의 호출을 피할 수 있다.\n",
    "\n",
    "하지만 list comprehension 을 사용한다고 해서 **무조건! 코드가 예쁘고 간결하게 나타나는 것은 아니다.** <br>\n",
    "이러한 경우 추상화된 함수를 만드는 방법 등으로 리팩토링이 가능할 것이다."
   ]
  },
  {
   "cell_type": "markdown",
   "id": "d7583013",
   "metadata": {},
   "source": [
    "### Refactoring Code\n",
    "\n",
    "다음 함수는 a 라는 파라미터로 0 ~ a 까지 loop 를 수행하며 값을 list 에 추가한다. 추가되는 값은 짝수일 경우와 홀수일 경우가 다르다. <br>\n",
    "List Comprehension 을 사용하지 않은 코드는 다음과 같다."
   ]
  },
  {
   "cell_type": "code",
   "execution_count": 3,
   "id": "9cf13918",
   "metadata": {},
   "outputs": [],
   "source": [
    "def some_function(a):\n",
    "    some_list = []\n",
    "    for i in range(a):\n",
    "        if i%2 == 0:\n",
    "            some_list.append((i * 2) % 13)\n",
    "        else:\n",
    "            some_list.append((i * 3) % 21)"
   ]
  },
  {
   "cell_type": "markdown",
   "id": "a15e0ab8",
   "metadata": {},
   "source": [
    "list comprehension 을 사용하면 다음과 같다."
   ]
  },
  {
   "cell_type": "code",
   "execution_count": 5,
   "id": "e21b6473",
   "metadata": {},
   "outputs": [],
   "source": [
    "a = 20\n",
    "some_lsit = [(i*2)%13 if i%2 ==0 else (i*3)%21 for i in range(a)]"
   ]
  },
  {
   "cell_type": "markdown",
   "id": "fe057e79",
   "metadata": {},
   "source": [
    "6 줄로 된 코드가 list comprehension 을 사용하니 1줄로 줄여졌다. <br>\n",
    "- 과연 이 코드가 남들이 보기에 바로 이해가 가능한 코드일까? \n",
    "- 과연 이 코드가 확장성이 있을까?\n",
    "- 과연 이 코드가 유지보수성이 좋은 코드일까? <br>\n",
    "\n",
    "**아니다. 그렇기에 이를 모두 고려한 추상화된 함수를 만들 필요가 있다. (리팩토링)**"
   ]
  },
  {
   "cell_type": "code",
   "execution_count": 9,
   "id": "7b1fd136",
   "metadata": {},
   "outputs": [],
   "source": [
    "# 여러 조건과 숫자로 수행되는 로직은 다음과 같은 추상화 함수를 만들어주는 것이 효과적!\n",
    "def conversion(i, prod, mod):\n",
    "    return (i * prod) % mod\n",
    "\n",
    "def new_function(i):\n",
    "    if i % 2 == 0:\n",
    "        return conversion(i, 2, 13)\n",
    "    else:\n",
    "        return conversion(i, 3, 21)"
   ]
  },
  {
   "cell_type": "code",
   "execution_count": 10,
   "id": "0a540071",
   "metadata": {},
   "outputs": [],
   "source": [
    "some_list = [new_function(i) for i in range(a)]"
   ]
  },
  {
   "cell_type": "markdown",
   "id": "f62647db",
   "metadata": {},
   "source": [
    "다음과 같이 추상화된 함수를 생성하고 이를 이용해서 list comprehension 을 사용했다. <br>\n",
    "그럼 다음과 같이 생각할 수 있다. <br>\n",
    "**코드 line 이 더 많아졌는데???** <br>\n",
    "그렇다. 하지만, code line 에 대한 bit 수가 많아졌지만 **maintainability**, **legibility**, **scalability** 를 모두 고려하면 위의 코드가 더욱 효율적이다!\n"
   ]
  },
  {
   "cell_type": "markdown",
   "id": "993eb824",
   "metadata": {},
   "source": [
    "## 여러 List Comprehension 활용\n",
    "\n",
    "### 조건문 필터링\n",
    "List Comprehension은 조건문을 통해 특정 값을 필터링할 수 있다."
   ]
  },
  {
   "cell_type": "code",
   "execution_count": 5,
   "id": "17cdb4cb",
   "metadata": {},
   "outputs": [
    {
     "name": "stdout",
     "output_type": "stream",
     "text": [
      "[2, 4, 6, 8]\n"
     ]
    }
   ],
   "source": [
    "size = 10\n",
    "some_list = [n for n in range(1, size) if n % 2 == 0]\n",
    "print(some_list)"
   ]
  },
  {
   "cell_type": "markdown",
   "id": "45f8df48",
   "metadata": {},
   "source": [
    "* 조건문 **AND, OR 연산자는 가능**한가??<br>\n",
    "=> **모두 가능하지만 표현법에 대해 차이가 있다.**\n",
    "<br><br>\n",
    "바로 위의 코드에서 **2의 배수 and 3의 배수만** 리스트에 담는 경우를 코드로 나타내면 다음과 같다."
   ]
  },
  {
   "cell_type": "code",
   "execution_count": 14,
   "id": "11bdb0fc",
   "metadata": {},
   "outputs": [
    {
     "name": "stdout",
     "output_type": "stream",
     "text": [
      "[6, 12, 18, 24]\n"
     ]
    }
   ],
   "source": [
    "# and 연산자의 경우 따로따로 조건문을 써줘야한다.\n",
    "size = 30\n",
    "some_list = [n for n in range(1, size) if n % 2 == 0 if n % 3 == 0]\n",
    "print(some_list)"
   ]
  },
  {
   "cell_type": "code",
   "execution_count": 15,
   "id": "496b8c61",
   "metadata": {},
   "outputs": [
    {
     "ename": "SyntaxError",
     "evalue": "invalid syntax (1909126742.py, line 2)",
     "output_type": "error",
     "traceback": [
      "\u001b[0;36m  Input \u001b[0;32mIn [15]\u001b[0;36m\u001b[0m\n\u001b[0;31m    some_list = [n for n in range(1, size) if n % 2 == 0 and if n % 3 == 0]\u001b[0m\n\u001b[0m                                                             ^\u001b[0m\n\u001b[0;31mSyntaxError\u001b[0m\u001b[0;31m:\u001b[0m invalid syntax\n"
     ]
    }
   ],
   "source": [
    "# 다음과 같이 and 연산자를 쓰면 에러가 발생한다.\n",
    "some_list = [n for n in range(1, size) if n % 2 == 0 and if n % 3 == 0]\n",
    "print(some_list)"
   ]
  },
  {
   "cell_type": "markdown",
   "id": "1f653a43",
   "metadata": {},
   "source": [
    "**2의 배수 or 3의 배수**를 리스트에 담는 case"
   ]
  },
  {
   "cell_type": "code",
   "execution_count": 16,
   "id": "a5585558",
   "metadata": {},
   "outputs": [
    {
     "name": "stdout",
     "output_type": "stream",
     "text": [
      "[2, 3, 4, 6, 8, 9, 10, 12, 14, 15, 16, 18, 20, 21, 22, 24, 26, 27, 28]\n"
     ]
    }
   ],
   "source": [
    "# or 연산자의 경우 하나로 묶어줘야 한다.\n",
    "some_list = [n for n in range(1, size) if (n % 2 == 0 or n % 3 == 0)]\n",
    "print(some_list)"
   ]
  },
  {
   "cell_type": "markdown",
   "id": "ada5b548",
   "metadata": {},
   "source": [
    "### matrix 를 vector 로 차원축소"
   ]
  },
  {
   "cell_type": "code",
   "execution_count": 11,
   "id": "16a99018",
   "metadata": {},
   "outputs": [
    {
     "data": {
      "text/plain": [
       "[1, 2, 3, 4, 5, 6, 7, 8, 9]"
      ]
     },
     "execution_count": 11,
     "metadata": {},
     "output_type": "execute_result"
    }
   ],
   "source": [
    "matrix = [[1, 2, 3],\n",
    "          [4, 5, 6],\n",
    "          [7, 8, 9]]\n",
    "vector = [n for row in matrix for n in row]\n",
    "vector"
   ]
  },
  {
   "cell_type": "markdown",
   "id": "7d0284e2",
   "metadata": {},
   "source": [
    "조금 복잡하다. for 반복문이 2개가 쓰였는데 **먼저 행을 다루는 for문이 나오고, 뒤에 행 안에 열을 다루는 for문**이 나온다. 잘 기억해두자."
   ]
  },
  {
   "cell_type": "markdown",
   "id": "33acd812",
   "metadata": {},
   "source": [
    "### 2차원 행렬의 단순 데이터 조작\n",
    "\n",
    "위 코드의 matrix 변수에 할당된 2차원 행렬을 유지하면서 모든 값만 변경한다고 하면 다음과 같다."
   ]
  },
  {
   "cell_type": "code",
   "execution_count": 12,
   "id": "a05bc6e8",
   "metadata": {},
   "outputs": [
    {
     "data": {
      "text/plain": [
       "[[1, 4, 9], [16, 25, 36], [49, 64, 81]]"
      ]
     },
     "execution_count": 12,
     "metadata": {},
     "output_type": "execute_result"
    }
   ],
   "source": [
    "matrix2 = [[n ** 2 for n in row] for row in matrix]\n",
    "matrix2"
   ]
  },
  {
   "cell_type": "markdown",
   "id": "0115851a",
   "metadata": {},
   "source": [
    "## 성능 향상 측정\n",
    "실제로 for-loop 와 같은 코드의 list comprehension 식을 비교해보자."
   ]
  },
  {
   "cell_type": "code",
   "execution_count": 14,
   "id": "f5ca85d5",
   "metadata": {
    "scrolled": true
   },
   "outputs": [
    {
     "name": "stdout",
     "output_type": "stream",
     "text": [
      "1.65 seconds for list_a\n",
      "1.3 seconds for list_b\n",
      "1.26 seconds for list_a_filtered\n",
      "1.07 seconds for list_b_filtered\n"
     ]
    }
   ],
   "source": [
    "import time\n",
    "\n",
    "BIG = 20000000\n",
    "\n",
    "def f(k):\n",
    "    return 2*k\n",
    "\n",
    "# for-loop\n",
    "def list_a():\n",
    "    a_list = []\n",
    "    for i in range(BIG):\n",
    "        a_list.append(f(i))\n",
    "\n",
    "# list comprehension\n",
    "def list_b():\n",
    "    list_b = [f(i) for i in range(BIG)]\n",
    "    \n",
    "# filter + for-loop\n",
    "def list_a_filtered():\n",
    "    a_list = []\n",
    "    for i in range(BIG):\n",
    "        if i%2 == 0:\n",
    "            a_list.append(f(i))\n",
    "# filter + comprehension\n",
    "def list_b_filtered():\n",
    "    b_list = [f(i) for i in range(BIG) if i%2 == 0]\n",
    "    \n",
    "# 해당 함수 수행 시간 측정\n",
    "def benchmark(function, function_name):\n",
    "    start = time.time()\n",
    "    function()\n",
    "    end = time.time()\n",
    "    print(\"{0} seconds for {1}\".format(round(end - start, 2), function_name))\n",
    "\n",
    "benchmark(list_a, \"list_a\")\n",
    "benchmark(list_b, \"list_b\")\n",
    "benchmark(list_a_filtered, \"list_a_filtered\")\n",
    "benchmark(list_b_filtered, \"list_b_filtered\")  "
   ]
  },
  {
   "cell_type": "markdown",
   "id": "7cceebc8",
   "metadata": {},
   "source": [
    "위의 결과와 같이 list comprehension 을 사용하면 **21%** 만큼 속도가 높아진 것을 확인할 수 있다. <br>\n",
    "또한, filter 식이 포함된 경우 list comprehension 사용시 **15%**가 높아졌다.<br>\n",
    "\n",
    "이러한 결과가 나오는 가장 큰 이유는 각 iteration 에서 **append 함수 호출을 skip** 했기 때문이다."
   ]
  },
  {
   "cell_type": "markdown",
   "id": "9b041ccc",
   "metadata": {},
   "source": [
    "## 다른 data type 으로의 확장\n",
    "\n",
    "지금까진 list 만을 다뤘다. 그럼 comprehension 을 list 가 아닌 set, dict, tuple 에도 사용이 가능할까?? <br>\n",
    "**list comprehension 식으로 다른 내장 구조인 set, dict, tuple도 만들 수 있다.**\n",
    "\n",
    "### set\n",
    "set은 생성 기호 {}를 사용한다."
   ]
  },
  {
   "cell_type": "code",
   "execution_count": 19,
   "id": "5e5d4a5c",
   "metadata": {},
   "outputs": [
    {
     "name": "stdout",
     "output_type": "stream",
     "text": [
      "{0, 1, 64, 4, 36, 9, 16, 49, 81, 25}\n",
      "{0, 1, 2, 3, 4, 5, 6, 7, 8, 9}\n"
     ]
    }
   ],
   "source": [
    "# 0 ~ 9 까지의 값을 다른 값으로 치환을 하고 싶다면 comprehension 이 유용!!\n",
    "some_set = {n ** 2 for n in range(10)}\n",
    "print(some_set)\n",
    "\n",
    "# 단순 0 ~ 9까지의 값을 가지는 set 을 만들고 싶다면 다음과 같이 써줘도 된다.\n",
    "print(set(range(10)))"
   ]
  },
  {
   "cell_type": "markdown",
   "id": "7a8feff1",
   "metadata": {},
   "source": [
    "### dict\n",
    "1. list 내 dict 객체들을 값으로 추가\n",
    "2. 0 ~ 10 까지 키는 '1'~'9', 값은 2*키를 갖는 dict을 만들자! \n",
    "3. 키는 'a'~'z'까지 갖고 값은 1 ~ 26 인 dict을 만들자!"
   ]
  },
  {
   "cell_type": "code",
   "execution_count": 20,
   "id": "27281555",
   "metadata": {},
   "outputs": [
    {
     "name": "stdout",
     "output_type": "stream",
     "text": [
      "[{'number': 0, 'double': 0}, {'number': 1, 'double': 2}, {'number': 2, 'double': 4}, {'number': 3, 'double': 6}, {'number': 4, 'double': 8}, {'number': 5, 'double': 10}, {'number': 6, 'double': 12}, {'number': 7, 'double': 14}, {'number': 8, 'double': 16}, {'number': 9, 'double': 18}] \n",
      "\n",
      "{'1': 2, '2': 4, '3': 6, '4': 8, '5': 10, '6': 12, '7': 14, '8': 16, '9': 18} \n",
      "\n",
      "{'a': 1, 'b': 2, 'c': 3, 'd': 4, 'e': 5, 'f': 6, 'g': 7, 'h': 8, 'i': 9, 'j': 10, 'k': 11, 'l': 12, 'm': 13, 'n': 14, 'o': 15, 'p': 16, 'q': 17, 'r': 18, 's': 19, 't': 20, 'u': 21, 'v': 22, 'w': 23, 'x': 24, 'y': 25, 'z': 26} \n",
      "\n",
      "{'a': 1, 'b': 2, 'c': 3, 'd': 4, 'e': 5, 'f': 6, 'g': 7, 'h': 8, 'i': 9, 'j': 10, 'k': 11, 'l': 12, 'm': 13, 'n': 14, 'o': 15, 'p': 16, 'q': 17, 'r': 18, 's': 19, 't': 20, 'u': 21, 'v': 22, 'w': 23, 'x': 24, 'y': 25, 'z': 26}\n"
     ]
    }
   ],
   "source": [
    "# 1. list 내 dict 객체들을 값으로 추가\n",
    "def dict_obj(k):\n",
    "    return {'number':k, 'double':2*k}\n",
    "\n",
    "dict_list = [dict_obj(k) for k in range(10)]\n",
    "print(dict_list, '\\n')\n",
    "\n",
    "# 2. 0 ~ 10 까지 키는 '1'~'9', 값은 2*키를 갖는 dict을 만들자! \n",
    "dict_of_doubles = {\n",
    "    str(k) : 2*k for k in range(1, 10)\n",
    "}\n",
    "print(dict_of_doubles,'\\n')\n",
    "\n",
    "# 3. 키는 'a'~'z'까지 갖고 값은 1 ~ 26까지 값을 갖는 dict 생성\n",
    "from string import ascii_lowercase as LOWERS\n",
    "\n",
    "make_dict = {c: n for c , n in zip(LOWERS, range(1, 27))}\n",
    "print(make_dict, '\\n')\n",
    "\n",
    "print(dict(zip(LOWERS, range(1, len(LOWERS) + 1)))) # 다음과 같이 표현 가능!"
   ]
  },
  {
   "cell_type": "markdown",
   "id": "ca79f07f",
   "metadata": {},
   "source": [
    "* zip 함수\n",
    "여러 개의 순회 가능한(iterable) 객체를 인자로 받고, 각 객체가 담고 있는 원소를 튜플의 형태로 차례로 접근할 수 있는 반복자(iterator)를 반환"
   ]
  },
  {
   "cell_type": "code",
   "execution_count": 22,
   "id": "7809b879",
   "metadata": {},
   "outputs": [
    {
     "name": "stdout",
     "output_type": "stream",
     "text": [
      "(1, 'A')\n",
      "(2, 'B')\n",
      "(3, 'C')\n"
     ]
    }
   ],
   "source": [
    "# zip 함수 예\n",
    "numbers = [1, 2, 3]\n",
    "letters = [\"A\", \"B\", \"C\"]\n",
    "for pair in zip(numbers, letters):\n",
    "    print(pair)"
   ]
  },
  {
   "cell_type": "markdown",
   "id": "60a43a77",
   "metadata": {},
   "source": [
    "### tuple\n",
    "\n",
    "tuple 의 경우 list comprehension 에서 단순히 [ ] 대신 ()를 사용하면 다른 객체가 생성이 된다."
   ]
  },
  {
   "cell_type": "code",
   "execution_count": 23,
   "id": "f8b926da",
   "metadata": {},
   "outputs": [
    {
     "name": "stdout",
     "output_type": "stream",
     "text": [
      "<generator object <genexpr> at 0x110e376d0>\n"
     ]
    }
   ],
   "source": [
    "some_tuple = (n for n in range(10))\n",
    "print(some_tuple)"
   ]
  },
  {
   "cell_type": "markdown",
   "id": "3d96d2d9",
   "metadata": {},
   "source": [
    "위의 코드는 Generator Comprehension 이다. \n",
    "- **Generator Comprehension: 어떤 일련의 값을 연속해서 반환할 예정이 되어 있는 순회 객체**"
   ]
  },
  {
   "cell_type": "code",
   "execution_count": 24,
   "id": "701f9e68",
   "metadata": {},
   "outputs": [
    {
     "name": "stdout",
     "output_type": "stream",
     "text": [
      "(0, 1, 2, 3, 4, 5, 6, 7, 8, 9)\n"
     ]
    }
   ],
   "source": [
    "# tuple comprehension\n",
    "some_tuple = tuple(n for n in range(10))\n",
    "print(some_tuple)"
   ]
  },
  {
   "cell_type": "markdown",
   "id": "3fb29b2d",
   "metadata": {},
   "source": [
    "위의 코드와 같이 tuple 생성자에 괄호 없는 comprehension 식을 넣어야 의도한대로 tuple 객체가 생성된다."
   ]
  }
 ],
 "metadata": {
  "kernelspec": {
   "display_name": "Python 3 (ipykernel)",
   "language": "python",
   "name": "python3"
  },
  "language_info": {
   "codemirror_mode": {
    "name": "ipython",
    "version": 3
   },
   "file_extension": ".py",
   "mimetype": "text/x-python",
   "name": "python",
   "nbconvert_exporter": "python",
   "pygments_lexer": "ipython3",
   "version": "3.9.13"
  }
 },
 "nbformat": 4,
 "nbformat_minor": 5
}
