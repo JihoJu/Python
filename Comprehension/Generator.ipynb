{
 "cells": [
  {
   "cell_type": "markdown",
   "id": "090aae3f",
   "metadata": {},
   "source": [
    "# Generator 란?\n",
    "Generator 란 컴퓨터 공학적 의미로써 다음 의미를 가지고 있다.\n",
    "> In computer science, a **generator** is a routine that can be used to control the iteration behaviour of a loop. - [wikipedia](https://en.wikipedia.org/wiki/Generator_(computer_programming))\n",
    ">\n",
    "\n",
    "파이썬에선 Generator 란 **\"iterator 를 생성해주는 개념 또는 함수\"** 이다. \n",
    "- 파이썬에서 generator는 지속적인 상태를 유지하는 기능에 용이하다. <br>\n",
    "  => 이는 증가하는 계산량과 반복에 유용하다.\n",
    "- Generator 는 메모리를 효율적으로 사용하기 위해 배열 대신해 사용한다.<br>\n",
    "  => 제너레이터는 Iterable Object 를 **lazily** 생성한다.\n",
    "\n",
    "#### Iterable Object 를 **lazily** 생성?\n",
    "생성한 Iterable Object 에서 i번째 값이 필요할 때까지 생성되지 않는다. => 가상메모리에 먼저 할당되지 않는다.<br>\n",
    "> Generators do not store the values, but rather the computation logic with the state of the function, similar to an unevaluated function instance ready to be fired. - [Anuradha Wickramarachchi](https://medium.com/towards-data-science/python-generators-393455aa48a3)\n",
    ">\n",
    "\n",
    "Generator를 만드는 방법은 대표적으로 2 가지이다.\n",
    "## 1. Generator Comprehension\n",
    "이전에 [파이썬 List Comprehension](https://github.com/JihoJu/Python/blob/main/Comprehension/List_Comprehension.ipynb)에 대해 정리를 했다. Comprehension은 List 뿐만 아니라 set, tuple, dict으로 확장이 가능했다. <br>\n",
    "Tuple Comprehension 식에서 tuple()을 사용한 방법이 아니라 (n for n in range(10)) 방법으로 comprehension 식을 쓰면 다음과 같은 결과가 나온다."
   ]
  },
  {
   "cell_type": "code",
   "execution_count": 121,
   "id": "9c51c949",
   "metadata": {},
   "outputs": [
    {
     "name": "stdout",
     "output_type": "stream",
     "text": [
      "<generator object <genexpr> at 0x2dd348040>\n"
     ]
    }
   ],
   "source": [
    "print((n for n in range(10)))"
   ]
  },
  {
   "cell_type": "markdown",
   "id": "8533f6db",
   "metadata": {},
   "source": [
    "**Generator Comprehension**은 리스트 생성 방식 **[ ]** -> **( )** 로 대신해서 사용한다.<br>\n",
    "배열과 달리, generator는 runtime 시 값을 생성한다."
   ]
  },
  {
   "cell_type": "code",
   "execution_count": 7,
   "id": "86767abc",
   "metadata": {},
   "outputs": [
    {
     "name": "stdout",
     "output_type": "stream",
     "text": [
      "85176\n",
      "112 <generator object <genexpr> at 0x106469cf0>\n"
     ]
    }
   ],
   "source": [
    "import sys\n",
    "some_list = [i for i in range(10000)]\n",
    "some_generator = (i for i in range(10000))\n",
    "\n",
    "print(sys.getsizeof(some_list)) # some_list: [0, 1, 2, ..., 9999] 출력\n",
    "print(sys.getsizeof(some_generator), some_generator)"
   ]
  },
  {
   "cell_type": "markdown",
   "id": "b742229a",
   "metadata": {},
   "source": [
    "위의 코드 결과를 보면, Generator가 List에 비해 메모리를 매우! 덜 차지하는 것을 확인할 수 있다.\n",
    "\n",
    "## 2. yield 문 사용\n",
    "**return 문 대신 yield 문을 사용하여 generator를 표현한 방법이다.** <br>\n",
    "다음 예제는 1부터 무한 루프를 돌면서 해당 값이 소수라면 generate 하는 코드이다."
   ]
  },
  {
   "cell_type": "code",
   "execution_count": 100,
   "id": "e77f3393",
   "metadata": {},
   "outputs": [],
   "source": [
    "def is_prime(n):\n",
    "    if n < 2 or n % 1 > 0:\n",
    "        return False\n",
    "    elif n == 2 or n == 3:\n",
    "        return True\n",
    "    for x in range(2, int(n**0.5) + 1):\n",
    "        if n % x == 0:\n",
    "            return False\n",
    "    return True\n",
    "\n",
    "def get_prime():\n",
    "    value = 0\n",
    "    while True:\n",
    "        if is_prime(value):\n",
    "            yield value\n",
    "        value += 1"
   ]
  },
  {
   "cell_type": "code",
   "execution_count": 20,
   "id": "64f86447",
   "metadata": {},
   "outputs": [
    {
     "name": "stdout",
     "output_type": "stream",
     "text": [
      "<generator object get_prime at 0x1091179e0>\n",
      "2\n",
      "3\n",
      "5\n",
      "7\n"
     ]
    },
    {
     "ename": "TypeError",
     "evalue": "object of type 'generator' has no len()",
     "output_type": "error",
     "traceback": [
      "\u001b[0;31m---------------------------------------------------------------------------\u001b[0m",
      "\u001b[0;31mTypeError\u001b[0m                                 Traceback (most recent call last)",
      "Input \u001b[0;32mIn [20]\u001b[0m, in \u001b[0;36m<cell line: 7>\u001b[0;34m()\u001b[0m\n\u001b[1;32m      5\u001b[0m \u001b[38;5;28mprint\u001b[39m(\u001b[38;5;28mnext\u001b[39m(primes))\n\u001b[1;32m      6\u001b[0m \u001b[38;5;28mprint\u001b[39m(\u001b[38;5;28mnext\u001b[39m(primes))\n\u001b[0;32m----> 7\u001b[0m \u001b[38;5;28mprint\u001b[39m(\u001b[38;5;28;43mlen\u001b[39;49m\u001b[43m(\u001b[49m\u001b[43mprimes\u001b[49m\u001b[43m)\u001b[49m)\n",
      "\u001b[0;31mTypeError\u001b[0m: object of type 'generator' has no len()"
     ]
    }
   ],
   "source": [
    "primes = get_prime()\n",
    "print(primes)\n",
    "print(next(primes))\n",
    "print(next(primes))\n",
    "print(next(primes))\n",
    "print(next(primes))\n",
    "print(len(primes))"
   ]
  },
  {
   "cell_type": "markdown",
   "id": "bd61e497",
   "metadata": {},
   "source": [
    "get_prime() 함수를 호출하면 generator 객체가 생성 후 primes 변수에 할당된다.<br>\n",
    "primes 변수는 generator 이기에 다음 특징을 갖는다.\n",
    "- **generator는 iterable object를 lazy하게 생성해서 미리 length를 알 수 없다.** <br>\n",
    "=> 위의 코드에서 len(primes) 시 Error가 발생한다."
   ]
  },
  {
   "cell_type": "markdown",
   "id": "75253871",
   "metadata": {},
   "source": [
    "### 왜 yield를 사용해야할까??\n",
    "다음 상황을 가정해보자.\n",
    "한 log file의 크기가 1TB이고 말뭉치가 500000 이다.<br>\n",
    "이 file 의 log data를 모두 읽은 후 parsing 후의 결과를 또다른 file에 즉시 저장한다고 가정해보자<br>\n",
    "\n",
    "1. File 의 모든 데이터를 읽은 후 list data type에 데이터를 할당한 후 parsing을 진행한다.\n",
    "2. 한번에 file을 open할 필요없이 1줄씩 읽은 후 parsing 후 yield로 결과를 반환 받는다."
   ]
  },
  {
   "cell_type": "code",
   "execution_count": 79,
   "id": "69112582",
   "metadata": {},
   "outputs": [],
   "source": [
    "# 1번째 방법\n",
    "def read_data_1(path):\n",
    "    with open(path) as f:\n",
    "        data = [d for d in f.readlines()]\n",
    "    return data\n",
    "\n",
    "def parse(data):\n",
    "    line = data.strip().lower()\n",
    "    return line, len(data)\n",
    "\n",
    "def function_1():\n",
    "    for data in read_data_1('./hadoop.log'):\n",
    "        d, s = parse(data)\n",
    "        # print(parse(d))"
   ]
  },
  {
   "cell_type": "code",
   "execution_count": 80,
   "id": "0458f6a6",
   "metadata": {},
   "outputs": [],
   "source": [
    "# 2번째 방법 - Generator(yield) 사용\n",
    "def read_data_2(path):\n",
    "    with open(path) as f:\n",
    "        for data in f:\n",
    "            yield data.strip().lower(), len(data.strip().lower())\n",
    "            \n",
    "def function_2():\n",
    "    data2 = read_data_2(\"./hadoop.log\")\n",
    "    for l, s in data2:\n",
    "        continue\n",
    "        # print(l, s)"
   ]
  },
  {
   "cell_type": "code",
   "execution_count": 81,
   "id": "00ccfe97",
   "metadata": {},
   "outputs": [
    {
     "name": "stdout",
     "output_type": "stream",
     "text": [
      "0.01 seconds for function_1\n",
      "0.01 seconds for function_2\n"
     ]
    }
   ],
   "source": [
    "import time\n",
    "\n",
    "def benchmark(function, function_name):\n",
    "    start = time.time()\n",
    "    function()\n",
    "    end = time.time()\n",
    "    print(\"{0} seconds for {1}\".format(round(end-start, 2), function_name))\n",
    "\n",
    "benchmark(function_1, \"function_1\")\n",
    "benchmark(function_2, \"function_2\")"
   ]
  },
  {
   "cell_type": "markdown",
   "id": "ff2a1620",
   "metadata": {},
   "source": [
    "1번 방법의 문제점은 한번에 file을 읽어 1TB만큼의 메모리를 계속 할당해야만 한다는 점이다.<br>\n",
    "2번 방법은 **한번에 file을 읽지 않고 각 iter마다 1줄씩 읽는다.**\n",
    "=> yield를 사용한 2번 방법이 메모리 측면에서 매우 효율적이다.\n",
    "\n",
    "또한, 2번 방법은 **clean code 문법을 제공**한다."
   ]
  },
  {
   "cell_type": "markdown",
   "id": "e1a0a346",
   "metadata": {},
   "source": [
    "## 그럼 Generator 2가지 방법 중 어떤 방법을 사용해야할까?\n",
    "앞에서 Generator를 만드는 방법으로 2가지 방법을 정리했다. 그럼 이 중 어떤 방법을 사용하는게 좋을까? <br>\n",
    "=> 답은 **'상황에 따라 다르다'** 이다. <br><br>\n",
    "\n",
    "List Comprehension으로 무조건 한 줄로 표현하는 것이 가독성, 확장성, 유지보수성 등이 비효율적인 상황이 있었다. <br>\n",
    "Generator Comprehension에서도 마찬가지이다. 어떤 기능이든 **'trade-off'** 가 존재하기 마련이다. <br>\n",
    "Generator Comprehension 사용하기 더 쉬워지고 간략해지는 대신 복잡한 요구상항을 매우 비효율적으로 표현해야만 한다.(기능 한계) <br>\n",
    "### 결론\n",
    "**복잡한 프로그램일수록 Iterable, Iterator를 만들어 쓰는 yield 방식이 좋을 선택일수도 있고, 프로그램이 매우 단순하다면 Generator Comprehension을 사용하는 방법이 좋은 선택이 될 수 있을 것이다.**"
   ]
  },
  {
   "cell_type": "markdown",
   "id": "59748ca1",
   "metadata": {},
   "source": [
    "### Generator Comprehension가 효율적인 예제\n",
    "다음 상황을 가정해보자.<br>\n",
    "1부터 10까지의 값의 제곱을 모두 더한 값을 구한다고 가정해보자. 이를 코드로 나타내면 다음과 같다."
   ]
  },
  {
   "cell_type": "code",
   "execution_count": 94,
   "id": "5fe26746",
   "metadata": {},
   "outputs": [
    {
     "name": "stdout",
     "output_type": "stream",
     "text": [
      "385\n",
      "0.0001547337 seconds for list_func\n",
      "385\n",
      "1.50204e-05 seconds for generator_func\n"
     ]
    }
   ],
   "source": [
    "# list comprehension\n",
    "def list_func():\n",
    "    print(sum([n ** 2 for n in range(1, 11)]))\n",
    "\n",
    "# generator comprehension\n",
    "def generator_func():\n",
    "    print(sum((n ** 2 for n in range(1, 11))))\n",
    "    \n",
    "\n",
    "def benchmark(function, function_name):    \n",
    "    start = time.time()\n",
    "    function()\n",
    "    end = time.time()\n",
    "    print(\"{0} seconds for {1}\".format(round(end - start, 10), function_name))\n",
    "    \n",
    "benchmark(list_func, \"list_func\")\n",
    "benchmark(generator_func, \"generator_func\")"
   ]
  },
  {
   "cell_type": "markdown",
   "id": "563c9dc8",
   "metadata": {},
   "source": [
    "위의 경우 generator comprehension이 메모리, 속도 측면에서 더욱 효율적인 것을 확인할 수 있다."
   ]
  },
  {
   "cell_type": "markdown",
   "id": "6382a2a0",
   "metadata": {},
   "source": [
    "## send, throw, and close\n",
    "\n",
    "### send\n",
    "위의 prime number 예제를 생각해보자. 만약 10 이상의 소수, 100 이상의 소수를 바로 구하고 싶으면 어떻게 하면 될까?<br>\n",
    "send() 함수를 사용하면 된다!!"
   ]
  },
  {
   "cell_type": "code",
   "execution_count": 117,
   "id": "e610b9a6",
   "metadata": {},
   "outputs": [
    {
     "name": "stdout",
     "output_type": "stream",
     "text": [
      "2\n",
      "11\n",
      "101\n"
     ]
    },
    {
     "ename": "TypeError",
     "evalue": "can't send non-None value to a just-started generator",
     "output_type": "error",
     "traceback": [
      "\u001b[0;31m---------------------------------------------------------------------------\u001b[0m",
      "\u001b[0;31mTypeError\u001b[0m                                 Traceback (most recent call last)",
      "Input \u001b[0;32mIn [117]\u001b[0m, in \u001b[0;36m<cell line: 17>\u001b[0;34m()\u001b[0m\n\u001b[1;32m     14\u001b[0m \u001b[38;5;28mprint\u001b[39m(primes\u001b[38;5;241m.\u001b[39msend(\u001b[38;5;241m100\u001b[39m))\n\u001b[1;32m     16\u001b[0m primes \u001b[38;5;241m=\u001b[39m get_prime_2()\n\u001b[0;32m---> 17\u001b[0m \u001b[38;5;28mprint\u001b[39m(\u001b[43mprimes\u001b[49m\u001b[38;5;241;43m.\u001b[39;49m\u001b[43msend\u001b[49m\u001b[43m(\u001b[49m\u001b[38;5;241;43m10\u001b[39;49m\u001b[43m)\u001b[49m)\n\u001b[1;32m     18\u001b[0m \u001b[38;5;28mprint\u001b[39m(primes\u001b[38;5;241m.\u001b[39msend(\u001b[38;5;241m100\u001b[39m))\n",
      "\u001b[0;31mTypeError\u001b[0m: can't send non-None value to a just-started generator"
     ]
    }
   ],
   "source": [
    "# send 를 위한 get_prime 함수\n",
    "def get_prime_2():\n",
    "    value = 0\n",
    "    while True:\n",
    "        if is_prime(value):\n",
    "            i = yield value # next(primes) 시 여기서 일단 멈추고 send 로 10을 받아오면 i에 할당\n",
    "            if i is not None:\n",
    "                value = i\n",
    "        value += 1\n",
    "\n",
    "primes = get_prime_2()\n",
    "print(next(primes))\n",
    "print(primes.send(10))\n",
    "print(primes.send(100))\n",
    "\n",
    "primes = get_prime_2()\n",
    "print(primes.send(10))\n",
    "print(primes.send(100))"
   ]
  },
  {
   "cell_type": "markdown",
   "id": "ac642686",
   "metadata": {},
   "source": [
    "**NOTE**: send() 함수를 호출하기 전에 적어도 한번은 next() 함수를 호출해야만 한다. 그렇지 않으면 위와 같은 에러가 발생!! "
   ]
  },
  {
   "cell_type": "markdown",
   "id": "e5af2577",
   "metadata": {},
   "source": [
    "### throw function\n",
    "만약 get_prime 함수에서 10 이상의 값이 나오면 overflow or timeout이 된다고 가정해보자.<br>\n",
    "**throw() 함수**는 generator 가 예외를 raising 하여 멈추게 해준다."
   ]
  },
  {
   "cell_type": "code",
   "execution_count": 118,
   "id": "cbd0b773",
   "metadata": {},
   "outputs": [
    {
     "name": "stdout",
     "output_type": "stream",
     "text": [
      "2\n",
      "3\n",
      "5\n",
      "7\n"
     ]
    },
    {
     "ename": "ValueError",
     "evalue": "Too large",
     "output_type": "error",
     "traceback": [
      "\u001b[0;31m---------------------------------------------------------------------------\u001b[0m",
      "\u001b[0;31mValueError\u001b[0m                                Traceback (most recent call last)",
      "Input \u001b[0;32mIn [118]\u001b[0m, in \u001b[0;36m<cell line: 2>\u001b[0;34m()\u001b[0m\n\u001b[1;32m      2\u001b[0m \u001b[38;5;28;01mfor\u001b[39;00m x \u001b[38;5;129;01min\u001b[39;00m primes:\n\u001b[1;32m      3\u001b[0m     \u001b[38;5;28;01mif\u001b[39;00m x \u001b[38;5;241m>\u001b[39m \u001b[38;5;241m10\u001b[39m:\n\u001b[0;32m----> 4\u001b[0m         \u001b[43mprimes\u001b[49m\u001b[38;5;241;43m.\u001b[39;49m\u001b[43mthrow\u001b[49m\u001b[43m(\u001b[49m\u001b[38;5;167;43;01mValueError\u001b[39;49;00m\u001b[43m,\u001b[49m\u001b[43m \u001b[49m\u001b[38;5;124;43m\"\u001b[39;49m\u001b[38;5;124;43mToo large\u001b[39;49m\u001b[38;5;124;43m\"\u001b[39;49m\u001b[43m)\u001b[49m\n\u001b[1;32m      5\u001b[0m     \u001b[38;5;28mprint\u001b[39m(x)\n",
      "Input \u001b[0;32mIn [117]\u001b[0m, in \u001b[0;36mget_prime_2\u001b[0;34m()\u001b[0m\n\u001b[1;32m      4\u001b[0m \u001b[38;5;28;01mwhile\u001b[39;00m \u001b[38;5;28;01mTrue\u001b[39;00m:\n\u001b[1;32m      5\u001b[0m     \u001b[38;5;28;01mif\u001b[39;00m is_prime(value):\n\u001b[0;32m----> 6\u001b[0m         i \u001b[38;5;241m=\u001b[39m \u001b[38;5;28;01myield\u001b[39;00m value \u001b[38;5;66;03m# next(primes) 시 여기서 일단 멈추고 send 로 10을 받아오면 i에 할당\u001b[39;00m\n\u001b[1;32m      7\u001b[0m         \u001b[38;5;28;01mif\u001b[39;00m i \u001b[38;5;129;01mis\u001b[39;00m \u001b[38;5;129;01mnot\u001b[39;00m \u001b[38;5;28;01mNone\u001b[39;00m:\n\u001b[1;32m      8\u001b[0m             value \u001b[38;5;241m=\u001b[39m i\n",
      "\u001b[0;31mValueError\u001b[0m: Too large"
     ]
    }
   ],
   "source": [
    "primes = get_prime_2()\n",
    "for x in primes:\n",
    "    if x > 10:\n",
    "        primes.throw(ValueError, \"Too large\")\n",
    "    print(x)"
   ]
  },
  {
   "cell_type": "markdown",
   "id": "51b8b690",
   "metadata": {},
   "source": [
    "### close function\n",
    "**close() 함수**는 throw() function과 달리 예외 처리 없이 generator 를 종료시킬 수 있다."
   ]
  },
  {
   "cell_type": "code",
   "execution_count": 119,
   "id": "8a637502",
   "metadata": {},
   "outputs": [
    {
     "name": "stdout",
     "output_type": "stream",
     "text": [
      "2\n",
      "3\n",
      "5\n",
      "7\n",
      "11\n"
     ]
    }
   ],
   "source": [
    "primes = get_prime_2()\n",
    "for x in primes:\n",
    "    if x > 10:\n",
    "        primes.close()\n",
    "    print(x)"
   ]
  },
  {
   "cell_type": "markdown",
   "id": "abd9b85b",
   "metadata": {},
   "source": [
    "=> 11 값까지 나오는 이유는 이는 c/c++에서 do while 과 같이 작동하기 때문!!!"
   ]
  },
  {
   "cell_type": "markdown",
   "id": "cc46d404",
   "metadata": {},
   "source": [
    "## List vs Generator\n",
    "\n",
    "결과만 따져본다면 List Comprehension를 쓰거나, 함수를 만들어 list를 반환하는 등과 같은 방법을 써도 결과는 같다. 굳이 왜 generator를 사용해야할까??<br>\n",
    "다음 2개의 코드를 비교해보자."
   ]
  },
  {
   "cell_type": "code",
   "execution_count": 99,
   "id": "e21aca55",
   "metadata": {},
   "outputs": [],
   "source": [
    "# 1. list를 사용해 출력\n",
    "for elem in [n for n in range(1, 11)]:\n",
    "    print(elem)\n",
    "    \n",
    "# 2. Generator를 사용해 출력\n",
    "for elem in (n for n in range(1, 11)):\n",
    "    print(elem)"
   ]
  },
  {
   "cell_type": "markdown",
   "id": "705d293a",
   "metadata": {},
   "source": [
    "두 개의 결과는 똑같으면서 표현식도 비슷하다. 하지만, 이 두 방법의 가장 큰 차이점은 **메모리**이다.<br>\n",
    "#### 1. list comprehension\n",
    "리스트를 선언하면 메모리에 해당 리스트 객체에 대한 메모리가 할당되고 리스트의 주소값을 반환한다. 즉, 1\\~10의 원소값을 저장해두기 위한 메모리 공간이 할당된다.<br> \n",
    "=> **eager loading pattern**\n",
    "#### 2. generator comprehension\n",
    "generator는 지정한 규칙대로 값을 반환할 규칙과 현재 어디까지 반환했는지 등을 관리하는 여러 상태값을 담고 있지만 generator 생성 당시  1\\~10까지의 모든 값을 메모리에 할당해두지 않는다.<br>\n",
    "=> **lazy loading** pattern <br><br>\n",
    "여기에 결정적인 차이가 있다!!!\n",
    "\n",
    "### 그런데도 왜 이 두 개를 분리해서 사용할까?\n",
    "라고 생각할 수 있다. 다음 코드를 비교해보자."
   ]
  },
  {
   "cell_type": "code",
   "execution_count": 97,
   "id": "f7709b8f",
   "metadata": {},
   "outputs": [],
   "source": [
    "big_list = [i for i in range(1, 100000000000000000000+1)]\n",
    "\n",
    "# 생성이 되지 않는다."
   ]
  },
  {
   "cell_type": "code",
   "execution_count": 98,
   "id": "e507e82c",
   "metadata": {},
   "outputs": [],
   "source": [
    "big_generator = (i for i in range(1, 100000000000000000000+1))\n",
    "\n",
    "# 문제없이 바로 생성됨."
   ]
  },
  {
   "cell_type": "markdown",
   "id": "e1e3ba3b",
   "metadata": {},
   "source": [
    "list comprehension으로 매우 큰 list를 생성하게 되면 아마 멈추거나 인터프리터가 종료될 것이다.<br>\n",
    "**그 이유는 list 자료구조는 eager loading 으로 원소의 크기에 따라 총 크기가 결정되므로 매우 큰 크기의 list를 선언하면, 일반 컴퓨터의 한정된 용량의 메모리로는 감당할 수 없기 때문이다.**\n",
    "반면에, generator comprehension으로 생성한 매우 큰 generator는 문제없이 실행된다.<br>\n",
    "\n",
    "# 결론\n",
    "앞으로 크기가 매우 큰 자료구조를 다룰 일이 많을 것이다. 예를 들어, 매운 큰 파일을 읽는다거나, 네트워크를 통해 대용량의 데이터를 다운로드 등. 이러한 대용량의 데이터를 한 줄 등의 한 단위를 필요로 할 때 한 줄씩 평가하는(evaluate) lazy loading이 한 번에 모든 데이터를 loading 하는 eager loading 보다 안전하고 효율적이다. <br><br>\n",
    "\n",
    "**Generator의 장점은 일련의 값을 사용할 때 모든 값을 메모리에 모두 로딩하는 대신 한 값씩 필요할 때마다 로딩, 평가함으로써 메모리를 절약하고, 메모리 부족으로 프로그램이 실패하는 것을 방지할 수 있는 안전성을 제공한다.**"
   ]
  },
  {
   "cell_type": "markdown",
   "id": "67b86e09",
   "metadata": {},
   "source": [
    "# References\n",
    "- https://medium.com/towards-data-science/pythons-list-generators-what-when-how-and-why-2a560abd3879\n",
    "- https://shoark7.github.io/programming/python/iterable-iterator-generator-in-python#4a\n",
    "- https://medium.com/towards-data-science/python-generators-393455aa48a3"
   ]
  }
 ],
 "metadata": {
  "kernelspec": {
   "display_name": "Python 3 (ipykernel)",
   "language": "python",
   "name": "python3"
  },
  "language_info": {
   "codemirror_mode": {
    "name": "ipython",
    "version": 3
   },
   "file_extension": ".py",
   "mimetype": "text/x-python",
   "name": "python",
   "nbconvert_exporter": "python",
   "pygments_lexer": "ipython3",
   "version": "3.9.13"
  }
 },
 "nbformat": 4,
 "nbformat_minor": 5
}
