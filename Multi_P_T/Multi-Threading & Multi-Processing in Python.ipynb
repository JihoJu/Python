{
 "cells": [
  {
   "cell_type": "markdown",
   "id": "00fb40ae",
   "metadata": {},
   "source": [
    "# Performance Comparison of Using Python Multi-threading and Multi-Processing\n",
    "\n",
    "Multi-Processing & Multi-Threading 의 개념은 다음 링크에 정리 -> [Multi-Processing & Multi-Threading 의 개념](https://medium.com/@jihoju96/%EB%A9%80%ED%8B%B0-%ED%94%84%EB%A1%9C%EC%84%B8%EC%8B%B1-multi-processing-%EA%B3%BC-%EB%A9%80%ED%8B%B0-%EC%8A%A4%EB%A0%88%EB%94%A9-multi-threading-b981bb706f4b)\n",
    "\n",
    "I/O bound 작업과 CPU bound 작업에 대해 Sing-thread/process, Multi-threading, Multi-Processing 프로그래밍 방식에 장단점이 존재한다. <br>\n",
    "=> 이를 실습 예제를 통해 비교해보자.\n",
    "\n",
    "- **IO-bound**: 프로세스가 진행되는 속도가 I/O 하위 시스템의 속도에 의해 제한됨. -> 파일의 행 수를 계산하는 것과 같이 디스크에서 데이터를 처리하는 작업\n",
    "- **CPU-bound**: 프로세스 진행 속도가 CPU 속도에 의해 제한됨. -> 작은 숫자를 곱하는 것과 같이 작은 숫자 집합에서 계산을 수행하는 작업"
   ]
  },
  {
   "cell_type": "markdown",
   "id": "2d23893f",
   "metadata": {},
   "source": [
    "### urllib.request\n",
    "\n",
    "- **urllib**: URL 처리에 관련된 모듈을 모아 놓은 패키지\n",
    "- **request**: urllib 패키지의 모듈 중 하나\n",
    "- **urlopen**: URL(Uniform Resource Locator)을 가져오기 위한 함수로 URL 열기에 성공하면 response.status 값이 200이 나온다. 이 200 값은 HTTP 상태 코드이며 웹 서버가 요청을 제대로 처리했다는 뜻이다.\n",
    "\n",
    "### requests vs urllib.request 차이점\n",
    "### 1. requests\n",
    "\n",
    "- 데이터를 보낼 때 딕셔너리 형태로 보낸다.\n",
    "- 없는 페이지를 요청해도 에러를 띄우지 않고 <페이지를 띄울 수 없습니다> 같은 해당 내용을 응답으로 받는다.\n",
    "\n",
    "### 2. urllib.request\n",
    "\n",
    "- 데이터를 보낼 때 인코딩하여 바이너리 형태로 보낸다.\n",
    "- 없는 페이지를 요청하면 에러를 띄운다.\n",
    "\n",
    "=> 대체로 requests 를 많이 사용하며, request.get() 방법이 HTTP method와 연관되어 직관적이라 이해가 쉬운 거 같다."
   ]
  },
  {
   "cell_type": "markdown",
   "id": "357995ef",
   "metadata": {},
   "source": [
    "# 1. I/O-bound Task\n",
    "\n",
    "### 다음 예제는 urllib.request.urlopen 으로 list 에 담긴 여러 url 을 여는 IO-bound 작업이다."
   ]
  },
  {
   "cell_type": "markdown",
   "id": "3d4e9211",
   "metadata": {},
   "source": [
    "### Single-thread/process"
   ]
  },
  {
   "cell_type": "code",
   "execution_count": 16,
   "id": "88309504",
   "metadata": {},
   "outputs": [],
   "source": [
    "import urllib.request"
   ]
  },
  {
   "cell_type": "code",
   "execution_count": 17,
   "id": "b1cb803e",
   "metadata": {},
   "outputs": [],
   "source": [
    "urls = [\n",
    "    'http://www.python.org',\n",
    "    'https://docs.python.org/3/',\n",
    "    'https://docs.python.org/3/whatsnew/3.7.html',\n",
    "    'https://docs.python.org/3/tutorial/index.html',\n",
    "    'https://docs.python.org/3/library/index.html',\n",
    "    'https://docs.python.org/3/reference/index.html',\n",
    "    'https://docs.python.org/3/using/index.html',\n",
    "    'https://docs.python.org/3/howto/index.html',\n",
    "    'https://docs.python.org/3/installing/index.html',\n",
    "    'https://docs.python.org/3/distributing/index.html',\n",
    "    'https://docs.python.org/3/extending/index.html',\n",
    "    'https://docs.python.org/3/c-api/index.html',\n",
    "    'https://docs.python.org/3/faq/index.html'\n",
    "    ]"
   ]
  },
  {
   "cell_type": "code",
   "execution_count": 21,
   "id": "97113f7a",
   "metadata": {},
   "outputs": [
    {
     "name": "stdout",
     "output_type": "stream",
     "text": [
      "CPU times: user 269 ms, sys: 23.3 ms, total: 292 ms\n",
      "Wall time: 740 ms\n"
     ]
    }
   ],
   "source": [
    "%%time\n",
    "\n",
    "results = []\n",
    "for url in urls:\n",
    "    with urllib.request.urlopen(url) as src:\n",
    "        results.append(src)"
   ]
  },
  {
   "cell_type": "markdown",
   "id": "07e7e9ab",
   "metadata": {},
   "source": [
    "### Multi-threading"
   ]
  },
  {
   "cell_type": "code",
   "execution_count": 22,
   "id": "9659ebdf",
   "metadata": {},
   "outputs": [],
   "source": [
    "import urllib.request\n",
    "from concurrent.futures import ThreadPoolExecutor"
   ]
  },
  {
   "cell_type": "markdown",
   "id": "dbd3046f",
   "metadata": {},
   "source": [
    "#### - map() 함수\n",
    "You can also submit tasks by calling the map() function and specifying the name of the function to execute and the iterable of items to which your function will be applied."
   ]
  },
  {
   "cell_type": "code",
   "execution_count": 23,
   "id": "172b6b10",
   "metadata": {},
   "outputs": [
    {
     "name": "stdout",
     "output_type": "stream",
     "text": [
      "CPU times: user 115 ms, sys: 11.6 ms, total: 127 ms\n",
      "Wall time: 210 ms\n"
     ]
    }
   ],
   "source": [
    "%%time\n",
    "\n",
    "with ThreadPoolExecutor(4) as executor:\n",
    "    results = executor.map(urllib.request.urlopen, urls)"
   ]
  },
  {
   "cell_type": "code",
   "execution_count": 24,
   "id": "60722ab0",
   "metadata": {},
   "outputs": [
    {
     "name": "stdout",
     "output_type": "stream",
     "text": [
      "CPU times: user 97.1 ms, sys: 10.6 ms, total: 108 ms\n",
      "Wall time: 165 ms\n"
     ]
    }
   ],
   "source": [
    "%%time\n",
    "\n",
    "with ThreadPoolExecutor(8) as executor:\n",
    "    results = executor.map(urllib.request.urlopen, urls)"
   ]
  },
  {
   "cell_type": "code",
   "execution_count": 25,
   "id": "47d5c760",
   "metadata": {
    "scrolled": false
   },
   "outputs": [
    {
     "name": "stdout",
     "output_type": "stream",
     "text": [
      "CPU times: user 89.4 ms, sys: 11.3 ms, total: 101 ms\n",
      "Wall time: 149 ms\n"
     ]
    }
   ],
   "source": [
    "%%time\n",
    "\n",
    "with ThreadPoolExecutor(16) as executor:\n",
    "    results = executor.map(urllib.request.urlopen, urls)"
   ]
  },
  {
   "cell_type": "markdown",
   "id": "e600bd03",
   "metadata": {},
   "source": [
    "**단일 스레드의 경우 740ms** 가 소요되었지만, **멀티 스레드(4개)의 경우 210ms** 가 소요되었다.<br>\n",
    "스레드를 1개에서 4개로 늘린 **멀티 스레드 환경에서 소요되는 시간이 71.62%가 감소했다.**\n",
    "\n",
    "이처럼 **IO-bound 작업에서 Multi-Threading 은 비약적인 속도 향상**을 한다.\n",
    "\n",
    "I/O bound 프로그램 수행 시, 컴퓨터 자원은 대부분의 시간을 input/output 을 기다리는데 사용한다. \n",
    "\n",
    "- Ex) network, database, file, user, etc...\n",
    "\n",
    "I/O 작업을 여러 스레드가 동시에(concurrently) 수행하면 컴퓨터 자원(CPU)은 I/O 작업을 계속 기다리지 않고 다른 스레드를 수행할 수 있다.\n",
    "\n",
    "### => **I/O bound 작업 시, Multi-threading은 성능을 비약적으로 향상**시킬 수 있다.\n",
    "\n",
    "### **🙌 주의할 점**: Multi-Threaded는 I/O bound 작업 시 효율을 내지만 **CPU-bound 작업은 오히려 성능을 떨어뜨린다!!**\n",
    "\n",
    "Python에서 Thread 는 **GIL(Global Interpreter Lock)에 종속**된다. \n",
    "\n",
    "- GIL은 참조 파이썬 인터프리터내의 프로그래밍 패턴이다.\n",
    "- GIL은 lock 으로써 **한 프로세스 내의 한 명령어는 같은 시간에 하나의 스레드만이 수행할 수 있도록 한 동기화 기법**이다.\n",
    "\n",
    "=> **Multi-Threading은 CPU 작업 + thread switching 이 수행되기 때문에 순차적인 처리보다 오히려 성능이 떨어진다.**"
   ]
  },
  {
   "cell_type": "markdown",
   "id": "d5dc8cb4",
   "metadata": {},
   "source": [
    "# 2. CPU-bound Task\n",
    "\n",
    "### 다음 예제는 0 ~ 1000000 까지 모든 소수의 합을 구하는 연산 작업으로 CPU-bound 작업이다."
   ]
  },
  {
   "cell_type": "code",
   "execution_count": 30,
   "id": "18d7e30b",
   "metadata": {},
   "outputs": [],
   "source": [
    "def is_prime(x):\n",
    "    if x <= 1:\n",
    "        return 0\n",
    "    elif x <= 3:\n",
    "        return x\n",
    "    elif x % 2 == 0 or x % 3 == 0:\n",
    "        return 0\n",
    "    i = 5\n",
    "    while i**2 <= x:\n",
    "        if x % i == 0 or x % (i + 2) == 0:\n",
    "            return 0\n",
    "        i += 6\n",
    "    return x"
   ]
  },
  {
   "cell_type": "markdown",
   "id": "748b744b",
   "metadata": {},
   "source": [
    "### 단일 프로세스 및 스레드"
   ]
  },
  {
   "cell_type": "code",
   "execution_count": 33,
   "id": "d6ecabae",
   "metadata": {
    "scrolled": true
   },
   "outputs": [
    {
     "name": "stdout",
     "output_type": "stream",
     "text": [
      "CPU times: user 3.11 s, sys: 6.35 ms, total: 3.11 s\n",
      "Wall time: 3.11 s\n"
     ]
    }
   ],
   "source": [
    "%%time\n",
    "\n",
    "answer = 0\n",
    "\n",
    "for i in range(1000000):\n",
    "    answer += is_prime(i)"
   ]
  },
  {
   "cell_type": "markdown",
   "id": "e53e234a",
   "metadata": {},
   "source": [
    "### Multi-threading"
   ]
  },
  {
   "cell_type": "code",
   "execution_count": 29,
   "id": "675b39e2",
   "metadata": {},
   "outputs": [],
   "source": [
    "from concurrent.futures import ThreadPoolExecutor"
   ]
  },
  {
   "cell_type": "code",
   "execution_count": 32,
   "id": "1bac3ec0",
   "metadata": {},
   "outputs": [
    {
     "name": "stdout",
     "output_type": "stream",
     "text": [
      "CPU times: user 11.9 s, sys: 294 ms, total: 12.2 s\n",
      "Wall time: 12.1 s\n"
     ]
    }
   ],
   "source": [
    "%%time\n",
    "\n",
    "with ThreadPoolExecutor(4) as executor:\n",
    "    results = executor.map(is_prime, list(range(1000000)))"
   ]
  },
  {
   "cell_type": "markdown",
   "id": "e0d92e5d",
   "metadata": {},
   "source": [
    "위의 단일 스레드와 멀티 스레드 환경에서의 수행 시간을 비교해보면 Multi-threading은 오히려 성능을 매우 나쁘게 만든다.\n",
    "\n",
    "- **단일 스레드: 3.11s**\n",
    "- **멀티 스레드(4): 12.1s**\n",
    "- **약 4배 차이**가 난다,,,\n",
    "\n",
    "**=> CPU-bound 작업에 Multi-threading 방식을 사용하면 위의 결과처럼 성능을 더욱 악화시킨다.**"
   ]
  },
  {
   "cell_type": "markdown",
   "id": "ff8a5c6c",
   "metadata": {},
   "source": [
    "### Multi-Processing"
   ]
  },
  {
   "cell_type": "code",
   "execution_count": 28,
   "id": "dced4cfe",
   "metadata": {},
   "outputs": [],
   "source": [
    "from multiprocessing import Pool"
   ]
  },
  {
   "cell_type": "code",
   "execution_count": 34,
   "id": "2b2c54cd",
   "metadata": {},
   "outputs": [
    {
     "name": "stdout",
     "output_type": "stream",
     "text": [
      "CPU times: user 64.9 ms, sys: 58.5 ms, total: 123 ms\n",
      "Wall time: 1.79 s\n"
     ]
    }
   ],
   "source": [
    "%%time\n",
    "\n",
    "# IPython 환경에서 같은 파일에 구현된 함수를 Multi-Processing 에 활용하면 의도치 않은 에러가 발생\n",
    "# 위의 is_prime 함수를 다른 모듈에 구현 후 import\n",
    "from practice_module import is_prime\n",
    "\n",
    "if __name__ == '__main__':\n",
    "    with Pool(2) as p:\n",
    "        answer = sum(p.map(is_prime, list(range(1000000))))"
   ]
  },
  {
   "cell_type": "code",
   "execution_count": 35,
   "id": "a58ccbe5",
   "metadata": {},
   "outputs": [
    {
     "name": "stdout",
     "output_type": "stream",
     "text": [
      "CPU times: user 72 ms, sys: 51.7 ms, total: 124 ms\n",
      "Wall time: 1 s\n"
     ]
    }
   ],
   "source": [
    "%%time\n",
    "\n",
    "from practice_module import is_prime\n",
    "\n",
    "if __name__ == '__main__':\n",
    "    with Pool(4) as p:\n",
    "        answer = sum(p.map(is_prime, list(range(1000000))))"
   ]
  },
  {
   "cell_type": "code",
   "execution_count": 37,
   "id": "66b481ef",
   "metadata": {},
   "outputs": [
    {
     "name": "stdout",
     "output_type": "stream",
     "text": [
      "CPU times: user 106 ms, sys: 82.5 ms, total: 189 ms\n",
      "Wall time: 763 ms\n"
     ]
    }
   ],
   "source": [
    "%%time\n",
    "\n",
    "from practice_module import is_prime\n",
    "\n",
    "if __name__ == '__main__':\n",
    "    with Pool(8) as p:\n",
    "        answer = sum(p.map(is_prime, list(range(1000000))))"
   ]
  },
  {
   "cell_type": "code",
   "execution_count": 38,
   "id": "face57ff",
   "metadata": {},
   "outputs": [
    {
     "name": "stdout",
     "output_type": "stream",
     "text": [
      "CPU times: user 119 ms, sys: 136 ms, total: 255 ms\n",
      "Wall time: 822 ms\n"
     ]
    }
   ],
   "source": [
    "%%time\n",
    "\n",
    "from practice_module import is_prime\n",
    "\n",
    "if __name__ == '__main__':\n",
    "    with Pool(16) as p:\n",
    "        answer = sum(p.map(is_prime, list(range(1000000))))"
   ]
  },
  {
   "cell_type": "code",
   "execution_count": 39,
   "id": "75ea624b",
   "metadata": {},
   "outputs": [
    {
     "name": "stdout",
     "output_type": "stream",
     "text": [
      "CPU times: user 143 ms, sys: 247 ms, total: 389 ms\n",
      "Wall time: 954 ms\n"
     ]
    }
   ],
   "source": [
    "%%time\n",
    "\n",
    "from practice_module import is_prime\n",
    "\n",
    "if __name__ == '__main__':\n",
    "    with Pool(32) as p:\n",
    "        answer = sum(p.map(is_prime, list(range(1000000))))"
   ]
  },
  {
   "cell_type": "code",
   "execution_count": 40,
   "id": "21fa9787",
   "metadata": {},
   "outputs": [
    {
     "name": "stdout",
     "output_type": "stream",
     "text": [
      "CPU times: user 195 ms, sys: 480 ms, total: 675 ms\n",
      "Wall time: 1.29 s\n"
     ]
    }
   ],
   "source": [
    "%%time\n",
    "\n",
    "from practice_module import is_prime\n",
    "\n",
    "if __name__ == '__main__':\n",
    "    with Pool(64) as p:\n",
    "        answer = sum(p.map(is_prime, list(range(1000000))))"
   ]
  },
  {
   "cell_type": "markdown",
   "id": "2cf35321",
   "metadata": {},
   "source": [
    "- 이 작업을 수행하는 컴퓨터의 CPU core는 8개이다. \n",
    "- **8개의 멀티-프로세스 환경에서의 수행 속도가 가장 빨랐다.**\n",
    "- **16개, 32개, 64개로 프로세스의 개수를 늘려갔을 때, 수행 시간이 점점 길어지는 것을 확인할 수 있다.**\n",
    "\n",
    "CPU 보다 많은 프로세스들이 서로 **context-switching** 이 일어나며 속도가 줄어들어 위와 같은 결과가 나온 것이다.\n",
    "\n",
    "**🙌 주의할 점 => Multi-Processing 시 CPU 개수 이상으로 프로세스를 생성하지 말자!**"
   ]
  },
  {
   "cell_type": "markdown",
   "id": "f41b3f08",
   "metadata": {},
   "source": [
    "위의 결과를 보면, multi-processing 방식은 CPU bound 작업의 수행 속도를 향상시켜주는 것을 알 수 있다.\n",
    "\n",
    "- **단일 프로세스: 3.11s**\n",
    "- **멀티 스레드(4): 12.1s**\n",
    "- **멀티 프로세스(8): 763ms**\n",
    "\n",
    "CPU bound 프로그램에서 컴퓨터 자원(CPU)은 대부분의 시간을 계산 연산 작업을 수행하는데 보낸다.\n",
    "\n",
    "- ex) mathematical computations, image processing, etc. \n",
    "\n",
    "### Multi-prossing은 여러 프로세스가 독립적으로 **\"동시에 or 같은 시간에(in parallel)\"** 연산 작업을 수행하여 수행 속도를 향상시킬 수 있다.\n",
    "\n",
    "다음 프로세스로 Mult-Processing 방식을 사용\n",
    "\n",
    "1. **수행할 함수**를 정의\n",
    "2. 정의한 함수를 적용시킬 리스트를 준비\n",
    "3. **multiprocessing.Pool을 사용해서 작업을 수행할 프로세스를 생성**\n",
    "\n",
    "    - Pool()의 인자로 들어가는 숫자는 생성할 프로세스의 개수이다.\n",
    "    - with 으로 묶으면 작업이 끝난 후에 생성한 프로세스들이 종료된다. -> 효율적\n",
    "    \n",
    "4. **Pool의 메서드인 map 함수**를 사용하여 수행 결과를 합치자.\n",
    "\n",
    "    - map 함수는 리스트 내 각 원소에 적용되는 함수이다.\n",
    "    \n",
    "### 🙌 주의할 점: I/O bound 작업 수행 시 multi-processing 으로 속도를 향상시킬 수 있지만 많은 프로세스를 관리하는데 오버헤드가 발생\n",
    "\n",
    "- 각 프로세스마다 interpreter를 생성\n",
    "- 별도의 독립적인 메모리 공간을 할당\n",
    "\n",
    "이러한 이유로 **I/O bound 작업을 수행할 때는 오버헤드가 비교적 적은 multi-threading을 사용하는 것이 효율적**이다."
   ]
  },
  {
   "cell_type": "markdown",
   "id": "50ca86a9",
   "metadata": {},
   "source": [
    "# 3. 정리\n",
    "\n",
    "#### - I/O-bound 작업 시, multithreading 을 사용하면 성능이 향상된다.\n",
    "#### - I/O-bound 작업 시, multiprocessing 도 역시 성능이 향상되지만, multithreading 을 사용하는 것보다 많은 오버헤드가 발생한다.\n",
    "#### - Python GIL 은 파이썬 프로그램 내에서 같은 시간에 오직 한 스레드만이 수행될 수 있는 것을 의미한다.\n",
    "#### - CPU-bound 작업 시, multithreading 을 사용하면 성능이 더욱 나빠진다.\n",
    "#### - CPU-bound 작업 시, multiprocessing 을 사용하면 성능을 향상시킬 수 있다."
   ]
  },
  {
   "cell_type": "markdown",
   "id": "61598f93",
   "metadata": {},
   "source": [
    "## References\n",
    "- https://pub.towardsai.net/the-why-when-and-how-of-using-python-multi-threading-and-multi-processing-afd1b8a8ecca\n",
    "- https://superfastpython.com/threadpoolexecutor-vs-threads/"
   ]
  }
 ],
 "metadata": {
  "kernelspec": {
   "display_name": "Python 3 (ipykernel)",
   "language": "python",
   "name": "python3"
  },
  "language_info": {
   "codemirror_mode": {
    "name": "ipython",
    "version": 3
   },
   "file_extension": ".py",
   "mimetype": "text/x-python",
   "name": "python",
   "nbconvert_exporter": "python",
   "pygments_lexer": "ipython3",
   "version": "3.9.13"
  }
 },
 "nbformat": 4,
 "nbformat_minor": 5
}
