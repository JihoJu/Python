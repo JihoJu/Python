{
 "cells": [
  {
   "cell_type": "markdown",
   "id": "fef390ca",
   "metadata": {},
   "source": [
    "# 부동소수점이란?\n",
    "\n",
    "> 실수를 컴퓨터상에서 근사하여 표현할 때 소수점의 위치를 고정하지 않고 그 위치를 나타내는 수를 따로 적는 것으로, 숫자를 나타내는 가수(假數)와 소수점의 위치를 풀이하는 지수(指數)로 나누어 표현한다. - [위키백과](https://ko.wikipedia.org/wiki/%EB%B6%80%EB%8F%99%EC%86%8C%EC%88%98%EC%A0%90)\n",
    "> \n",
    "- **고정소수점**: 각각 정수와 소수를 표현하는 비트의 수를 미리 정해 놓고 정해진 비트 만큼만 사용해서 수를 표현하는 방식\n",
    "- **부동소수점**: 고정소수점과 달리 소수점의 위치를 고정하지 않고 소수점의 위치를 나타내는 수를 따로 적어 표현한다.\n",
    "\n",
    "100.4 를 고정소수점과 부동소수점으로 표현해보면 다음과 같다.\n",
    "\n",
    "- 고정소수점: 100.4 한 가지 표현만 가능하다.\n",
    "- 부동소수점: [10.04 * 10^1], [1.004 * 10^2] 등 다양하게 표현이 가능하다.\n",
    "\n",
    "# 유한 정밀도\n",
    "\n",
    "파이썬에서는 **부동소수점 수의 값이 길어질수록 부정확해지기에 이를 처리**해야한다.<br>\n",
    "#### Ex) 2/3 과 5/3 연산을 해보자."
   ]
  },
  {
   "cell_type": "code",
   "execution_count": 1,
   "id": "f753c9a4",
   "metadata": {
    "scrolled": true
   },
   "outputs": [
    {
     "name": "stdout",
     "output_type": "stream",
     "text": [
      "0.6666666666666666\n",
      "1.6666666666666667\n"
     ]
    }
   ],
   "source": [
    "print(2/3)\n",
    "print(5/3)"
   ]
  },
  {
   "cell_type": "markdown",
   "id": "04ebc420",
   "metadata": {},
   "source": [
    "위의 연산을 사람이 한다면 소수점 이후의 숫자가 모두 6으로 계산되었을 것이다.\n",
    "\n",
    "#### 파이썬에서 위와 같은 결과가 나온 이유는 다음과 같다.\n",
    "\n",
    "- 컴퓨터 메모리 용량이 한정되어 있다.\n",
    "- 그렇기에 파이썬이 한 숫자에 대해 저장하는 정보 용량을 제한한다.\n",
    "\n",
    "따라서 위의 값들은 **제한된 양의 메모리에 실제로 저장할 수 있는 각 연산(2/3), (5/3)의 답에 가장 가까운 값**이다.\n",
    "\n",
    "값의 차이가 아주 미세할 지라도 실제 계산에서 0.6666666666666666를 사용할 떄 일어날 오류는 크다.\n",
    "\n",
    "#### 5/3은 1+(2/3)과 같은 값이지만 파이썬으로 계산으로 계산해보면 다음과 같다."
   ]
  },
  {
   "cell_type": "code",
   "execution_count": 2,
   "id": "b6fd7bdc",
   "metadata": {
    "scrolled": true
   },
   "outputs": [
    {
     "name": "stdout",
     "output_type": "stream",
     "text": [
      "1.6666666666666665\n",
      "1.6666666666666667\n"
     ]
    }
   ],
   "source": [
    "print(1 + (2/3))\n",
    "print(5/3)"
   ]
  },
  {
   "cell_type": "markdown",
   "id": "68c81d7d",
   "metadata": {},
   "source": [
    "위의 값을 보면 서로 다른 값이 계산된 것을 확인할 수 있다.\n",
    "\n",
    "#### ❗️계산을 더 할수록 오류는 더 커지고, 특히 매우 큰 수와 매우 작은 수를 연산하면 더 커진다.\n",
    "\n",
    "컴퓨터는 위에서 말한 것처럼 메모리에 한계가 있기 때문에 이 문제를 완벽히 해결할 방법은 없다.\n",
    "#### 부동소수점 정밀도를 해결할 유일한 방법은 최대한 작은 수부터 계산하는 것이 오류를 최소화하는 유일한 방법이다."
   ]
  }
 ],
 "metadata": {
  "kernelspec": {
   "display_name": "Python 3 (ipykernel)",
   "language": "python",
   "name": "python3"
  },
  "language_info": {
   "codemirror_mode": {
    "name": "ipython",
    "version": 3
   },
   "file_extension": ".py",
   "mimetype": "text/x-python",
   "name": "python",
   "nbconvert_exporter": "python",
   "pygments_lexer": "ipython3",
   "version": "3.9.13"
  }
 },
 "nbformat": 4,
 "nbformat_minor": 5
}
