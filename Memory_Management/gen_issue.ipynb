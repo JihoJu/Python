{
 "cells": [
  {
   "cell_type": "markdown",
   "id": "285572bf",
   "metadata": {},
   "source": [
    "# Generator 사용 시 발생한 issue\n",
    "\n",
    "## 파일을 write 하는 과정에서 무한 반복...\n",
    "\n",
    "<img src=\"./img/gen_issue1.jpeg\" width=\"800px\" height=\"200px\"><br>\n",
    "### [상황]\n",
    "1. filepath_list(제너레이터)가 돌면서 A/a.csv, A/b.csv 차례로 리턴.\n",
    "2. A/a.csv 파일을 read -> A/new.csv 생성\n",
    "3. A/a.csv 에서 읽은 data를 A/new.csv에 write\n",
    "4. filepath_list(제너레이터)에 A/new.csv path가 추가\n",
    "5. A/new.csv 파일을 read\n",
    "6. A/new.csv 내에 있는 data를 그대로 다시 A/new.csv 에 write\n",
    "\n",
    "**=> 5, 6번이 무한 반복!!!!**"
   ]
  },
  {
   "cell_type": "code",
   "execution_count": null,
   "id": "094316f0",
   "metadata": {},
   "outputs": [],
   "source": [
    "def get_filepath(self):\n",
    "    \"\"\" 입력 디렉토리 경로 내 존재하는 file 경로 반환\n",
    "\n",
    "    :return: file path\n",
    "    \"\"\"\n",
    "\n",
    "    if os.path.isdir(self.read_path):\n",
    "        for (root, _, files) in os.walk(self.read_path):\n",
    "            for file in files:\n",
    "                file_path = os.path.join(root, file)\n",
    "                yield file_path        \n",
    "    elif os.path.isfile(self.read_path):  # 파일을 입력으로 받았을 경우\n",
    "        yield self.read_path\n",
    "    else:\n",
    "        logging.error(\"해당 디렉토리 및 파일이 존재하지 않습니다.\")"
   ]
  },
  {
   "cell_type": "code",
   "execution_count": null,
   "id": "69957150",
   "metadata": {},
   "outputs": [],
   "source": [
    "def read(self):\n",
    "    \"\"\" path 내 파일을 읽어 한줄 씩 반환 generator\n",
    "\n",
    "    :return: file contents line\n",
    "    \"\"\"\n",
    "    filepath_list = self.get_filepath()    # file path list\n",
    "    \n",
    "    for filepath in filepath_list:\n",
    "        print(filepath)    # new.csv 에 멈춰있는 상태\n",
    "        ext = filepath.split(\".\")[-1]  # 확장자\n",
    "        read_function = eval(f\"read_{ext}\")\n",
    "        for line in read_function(filepath):\n",
    "            yield line"
   ]
  },
  {
   "cell_type": "code",
   "execution_count": null,
   "id": "142935ff",
   "metadata": {},
   "outputs": [],
   "source": [
    "def write_csv(self):\n",
    "    data = self.read()\n",
    "    with open(self.write_path, 'w') as file:\n",
    "        wr = csv.writer(file)\n",
    "        for d in data:\n",
    "            wr.writerow(d)"
   ]
  },
  {
   "cell_type": "markdown",
   "id": "0d9b074a",
   "metadata": {},
   "source": [
    "## 해결 방법\n",
    "\n",
    "### 1. read 할 디렉토리 경로와 write할 파일 경로를 다르게 설정\n",
    "\n",
    "### 2. get_filepath를 generator가 아닌 리스트 객체로 반환\n",
    "\n",
    "### 결론\n",
    "1번은 해당 문제를 계속 인식하며 class를 사용해야 하고 다른 사람이 이 코드를 사용했을 때 똑같은 이슈가 발생할 수 있는 가능성이 있다. 2번 방법으로 해당 문제를 해결하는 것이 더 나을 것이라 생각한다."
   ]
  }
 ],
 "metadata": {
  "kernelspec": {
   "display_name": "Python 3 (ipykernel)",
   "language": "python",
   "name": "python3"
  },
  "language_info": {
   "codemirror_mode": {
    "name": "ipython",
    "version": 3
   },
   "file_extension": ".py",
   "mimetype": "text/x-python",
   "name": "python",
   "nbconvert_exporter": "python",
   "pygments_lexer": "ipython3",
   "version": "3.9.13"
  }
 },
 "nbformat": 4,
 "nbformat_minor": 5
}
