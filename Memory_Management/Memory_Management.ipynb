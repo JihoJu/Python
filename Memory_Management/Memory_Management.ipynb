{
 "cells": [
  {
   "cell_type": "markdown",
   "id": "f32ca15f",
   "metadata": {},
   "source": [
    "# Python Memory Management"
   ]
  },
  {
   "cell_type": "markdown",
   "id": "f972ac80",
   "metadata": {},
   "source": [
    "# 1. Objects in Python\n",
    "### Everything in Python is an object!! \n",
    "파이썬은 모든 것들이 객체로 이루어져 있다. 클래스, 함수, 데이터 타입(integer, float, and string)은 역시 파이썬에서 객체로 이루어져 있다. "
   ]
  },
  {
   "cell_type": "code",
   "execution_count": 9,
   "id": "43f9eea5",
   "metadata": {},
   "outputs": [
    {
     "name": "stdout",
     "output_type": "stream",
     "text": [
      "<class 'int'>\n",
      "<class 'list'>\n",
      "<class 'function'>\n"
     ]
    }
   ],
   "source": [
    "# 3 은 integer class 에 속한 integer object 이다.\n",
    "a = 3\n",
    "print(type(a))\n",
    "\n",
    "L = [1, 2, 3]\n",
    "print(type(L))\n",
    "\n",
    "def my_func(x):\n",
    "    x += 1\n",
    "    return x\n",
    "print(type(my_func))"
   ]
  },
  {
   "cell_type": "markdown",
   "id": "830f123d",
   "metadata": {},
   "source": [
    "만약 한 변수에 integer 값 100을 할당한다면 파이썬 내부적으로 다음 절차가 진행된다.\n",
    "```\n",
    "a = 100\n",
    "\n",
    "1. CPython은 내부적으로 integer type의 object(객체) 100 을 생성한다.\n",
    "2. 100 이란 object 는 heap memory 에 저장된다.\n",
    "3. heap memory 에 저장된 메모리 주소값을 a 라는 변수에 리턴해준다.\n",
    "4. a 변수는 100 객체의 메모리 주소를 참조할 뿐이다. (a 변수에 값을 저장x)\n",
    "```"
   ]
  },
  {
   "cell_type": "markdown",
   "id": "1f5f26cb",
   "metadata": {},
   "source": [
    "---\n",
    "\n",
    "# 2. Variables in Python\n",
    "특정 메모리 주소를 담는 혹은 가리키는 name or label 이다. 즉, 파이썬에서 변수는 “메모리 주소에 붙이는 라벨” 이다.<br>\n",
    "\n",
    "<img src=\"./img/memory.png\" width=\"400px\" height=\"200px\" alt=\"https://www.honeybadger.io/blog/memory-management-in-python/#python-as-a-language-specification\"><br>\n",
    "위의 경우는 100 이란 integer object 의 주소를 가리키는 변수 a 의 주소를 다시 변수 b 가 할당 받고 있다.<br>\n",
    "즉, 100 객체를 동시에 변수 a, b 가 가리키고 있다. (같은 메모리 주소를 담고 있다.)"
   ]
  },
  {
   "cell_type": "code",
   "execution_count": 31,
   "id": "a8fd1422",
   "metadata": {},
   "outputs": [
    {
     "name": "stdout",
     "output_type": "stream",
     "text": [
      "0x100d815d0\n",
      "0x100d815d0\n"
     ]
    }
   ],
   "source": [
    "a = 100\n",
    "b = a\n",
    "\n",
    "# same!!\n",
    "print(hex(id(a)))\n",
    "print(hex(id(b)))  "
   ]
  },
  {
   "cell_type": "markdown",
   "id": "11900af7",
   "metadata": {},
   "source": [
    "### id 함수 → (id(obj))\n",
    "\n",
    "python Built-in function(내장함수)로 해당 객체/변수의 메모리 주소 값을 반환 (C/C++의 & 포인터 연산자와 동일)\n",
    "- Built-in function(내장함수): 언제 어디서나 사용 가능한 다양한 함수가 파이썬에 내장되어 있다."
   ]
  },
  {
   "cell_type": "code",
   "execution_count": 34,
   "id": "8a4a0419",
   "metadata": {},
   "outputs": [
    {
     "name": "stdout",
     "output_type": "stream",
     "text": [
      "0x100e69ab0\n",
      "0x100e20a30\n"
     ]
    }
   ],
   "source": [
    "print(hex(id('a')))\n",
    "print(hex(id('b')))\n",
    "# ‘a’ 문자열과 ‘b’ 문자열은 서로 다른 메모리 주소에 저장되어 있다.\n",
    "\n",
    "# C / C++ language\n",
    "# char chr = 'a';\n",
    "# printf(\"%x\", &chr);"
   ]
  },
  {
   "cell_type": "markdown",
   "id": "a7f2292c",
   "metadata": {},
   "source": [
    "---\n",
    "\n",
    "# 3. a is b / a == b\n",
    "\n",
    "- **is 연산자**: 메모리 주소를 비교\n",
    "- **== 연산자**: 2개의 값만 비교\n",
    "</br></br>\n",
    "- == 에 비해 is 가 약간 더 빠르다.\n",
    "    - == 은 메모리 주소를 불러온 뒤 그 메모리 주소에 저장된 값을 비교하기 때문이다.\n",
    "    - is 는 메모리 주소만을 비교한다.\n",
    "- is 연산자는 오버라이드가 불가능\n",
    "    - == 연산자는 파이썬에서 custom 연산자로 오버라이드가 가능\n",
    "    - is 는 오버라이드가 불가능해 언제 어디서든 똑같은 경험을 제공 가능"
   ]
  },
  {
   "cell_type": "code",
   "execution_count": 37,
   "id": "b4f7f205",
   "metadata": {},
   "outputs": [
    {
     "name": "stdout",
     "output_type": "stream",
     "text": [
      "1 False\n",
      "2 True\n",
      "3 True\n",
      "4 True\n"
     ]
    }
   ],
   "source": [
    "a = 1000\n",
    "b = 1000\n",
    "\n",
    "print(\"1\", a is b)\n",
    "print(\"2\", a == b)\n",
    "\n",
    "a = 1000\n",
    "b = a\n",
    "\n",
    "print(\"3\", a is b)\n",
    "print(\"4\", a == b)"
   ]
  },
  {
   "cell_type": "markdown",
   "id": "c0e3b328",
   "metadata": {},
   "source": [
    "---\n",
    "\n",
    "# 4. Mutable vs Immutable Objects"
   ]
  },
  {
   "cell_type": "markdown",
   "id": "864ca610",
   "metadata": {},
   "source": [
    "### Mutable\n",
    "\n",
    "- 변경 가능한 객체이다. 즉, 같은 주소값 내에서 값이 변경 가능한 객체이다.\n",
    "- 객체 값 변경 시 메모리 재할당 없다. ⇒ 변수에 할당된 메모리 번지(주소) 값이 바뀌지 않는다.\n",
    "- list, dict, set, byte array, user-definded classes"
   ]
  },
  {
   "cell_type": "code",
   "execution_count": 38,
   "id": "cbf28352",
   "metadata": {
    "scrolled": true
   },
   "outputs": [
    {
     "name": "stdout",
     "output_type": "stream",
     "text": [
      "0x1076c49c0\n",
      "0x1076c49c0\n",
      "0x1076c49c0\n",
      "0x1076803c0\n"
     ]
    }
   ],
   "source": [
    "mutable_L = [1, 2, 3]\n",
    "print(hex(id(mutable_L)))  # same\n",
    "\n",
    "mutable_L.append(4)\n",
    "print(hex(id(mutable_L)))  # same\n",
    "\n",
    "mutable_L += [5]\n",
    "print(hex(id(mutable_L)))  # same\n",
    "\n",
    "# But, + 연산자만 사용할 경우 주소값이 다르게 출력\n",
    "mutable_L = mutable_L + [6]\n",
    "print(hex(id(mutable_L)))  # different!!"
   ]
  },
  {
   "cell_type": "markdown",
   "id": "ebe4ad87",
   "metadata": {},
   "source": [
    "- 왜 + 연산자만 mutable_L 변수의 주소값이 다르게 나올까??\n",
    "    - '+' 연산자는 **__add__ magic method** 라고 한다. (명시적으로 호출할 필요없이 자동으로 호출되는 메서드) </br>\n",
    "      이 연산자는 같은 주소에서 두 인자를 변경하지 않는다. 그러므로 mutable_L + [6] 로 새로운 객체가 생성되고 해당 주소값을 mutable_L 변수에 리턴한다.\n",
    "    - '+=' 연산자는 __iadd__ magic method로 같은 주소에서 인자들을 수정해준다.\n",
    "    \n",
    "    ⇒ 해당 case 는 mutable 과 관련된 case"
   ]
  },
  {
   "cell_type": "markdown",
   "id": "6bacb719",
   "metadata": {},
   "source": [
    "### Immutable:\n",
    "- 변경 불가능 객체이다. 즉, ***같은 주소값 내에서 값이 변경 불가한 객체***이다.\n",
    "- 객체 값 변경 시 **메모리를 재할당** 한다.\n",
    "    - 객체 값 변경 시 실제 메모리에 할당된 값이 변경되는 것이 아니라 변수가 가리키고 있는 메모리의 값이 바뀐다.\n",
    "\n",
    "    1. 객체 값을 변경한다.\n",
    "    2. 실제 메로리에 할당된 값이 변경되지 않는다.\n",
    "    3. 변경한 새로운 값에 대한 객체를 생성한다.\n",
    "    4. 해당 변수는 새로 생성된 객체의 주소값을 참조한다.\n",
    "\n",
    "\n",
    "- int, float, string, tuple, bool, complex"
   ]
  },
  {
   "cell_type": "code",
   "execution_count": 39,
   "id": "6957e933",
   "metadata": {},
   "outputs": [
    {
     "name": "stdout",
     "output_type": "stream",
     "text": [
      "0x107957a10\n",
      "0x107957e50\n"
     ]
    }
   ],
   "source": [
    "immutable_i = 1000  # int\n",
    "print(hex(id(immutable_i)))\n",
    "\n",
    "immutable_i += 1\n",
    "print(hex(id(immutable_i)))  # different!!"
   ]
  },
  {
   "cell_type": "markdown",
   "id": "0c72dc5f",
   "metadata": {},
   "source": [
    "## ⚠️ 주의점: mutable 변수 참조 시 발생하는 문제점\n",
    "\n",
    "### immutable"
   ]
  },
  {
   "cell_type": "code",
   "execution_count": 41,
   "id": "45f0e714",
   "metadata": {},
   "outputs": [
    {
     "name": "stdout",
     "output_type": "stream",
     "text": [
      "1000 1001 False\n"
     ]
    }
   ],
   "source": [
    "## immutuable\n",
    "a = 1000\n",
    "b = a  # b 변수가 1000 객체의 메모리 주소값을 가리키게 된다.\n",
    "b += 1  # 1001 integer object 생성 후 할당된 메모리 주소값을 변수 b가 가리킨다.\n",
    "print(a, b, a is b)\n",
    "\n",
    "# 여기서 immutuable은 아무런 문제가 없다."
   ]
  },
  {
   "cell_type": "markdown",
   "id": "a93865e2",
   "metadata": {},
   "source": [
    "### mutable"
   ]
  },
  {
   "cell_type": "code",
   "execution_count": 2,
   "id": "4f24090f",
   "metadata": {},
   "outputs": [
    {
     "name": "stdout",
     "output_type": "stream",
     "text": [
      "['Mon', 'Tue', 'Wed'] ['Mon', 'Tue', 'Wed'] True\n"
     ]
    }
   ],
   "source": [
    "a = [\"Mon\", \"Tue\"]\n",
    "b = a\n",
    "b.append(\"Wed\")\n",
    "print(a, b, a is b)\n",
    "\n",
    "# a와 b는 서로 메모리 주소가 동일하여 둘 중 하나만 변경해도 전부 변경된다.\n",
    "# ⇒ mutable 자료형은 메모리에 저장되어 있는 값 **자체를** 바꾸기에 주의해야 한다. "
   ]
  },
  {
   "cell_type": "markdown",
   "id": "a11d2c50",
   "metadata": {},
   "source": [
    "a와 b는 서로 메모리 주소가 동일하여 둘 중 하나만 변경해도 전부 변경된다.</br>\n",
    "⇒ mutable 자료형은 메모리에 저장되어 있는 값 **자체를** 바꾸기에 주의해야 한다. </br></br>\n",
    "이런 상황을 해결하기 위해 여러 가지 방법들이 존재한다."
   ]
  },
  {
   "cell_type": "markdown",
   "id": "4a370b6d",
   "metadata": {},
   "source": [
    "### 1. **첫 번째 방법**\n",
    "\n",
    "- **slice operator** 를 사용한 편법이라고 볼 수 있다.\n",
    "- **[:]** : 배열 처음과 끝까지 복사\n",
    "    - 메모리 주소값이 복사되는 것이 아닌 객체 자체가 복사\n",
    "    - a 와 b 는 서로 독립된 상태를 유지 가능"
   ]
  },
  {
   "cell_type": "code",
   "execution_count": 5,
   "id": "3aa92541",
   "metadata": {},
   "outputs": [
    {
     "name": "stdout",
     "output_type": "stream",
     "text": [
      "a: ['Mon', 'Tue']\n",
      "b: ['Mon', 'Tue', 'Wed']\n",
      "a is b: False\n"
     ]
    }
   ],
   "source": [
    "# 첫 번째 방법\n",
    "a = [\"Mon\", \"Tue\"]\n",
    "b = a[:]  # only for list\n",
    "b.append(\"Wed\")\n",
    "\n",
    "print(\"a:\", a)\n",
    "print(\"b:\", b)\n",
    "print(\"a is b:\", a is b)"
   ]
  },
  {
   "cell_type": "markdown",
   "id": "bcd6b14a",
   "metadata": {},
   "source": [
    "### 2. **두 번째 방법**\n",
    "\n",
    "- copy() 메서드 사용\n",
    "- copy 메서드는 [:] 에 비해 list, dict, set 모두에 사용 가능\n",
    "- But, 직접 만든 객체, 클래스, 클래스 인스턴스에는 사용 불가,,,"
   ]
  },
  {
   "cell_type": "code",
   "execution_count": 14,
   "id": "4e5b69bb",
   "metadata": {},
   "outputs": [
    {
     "name": "stdout",
     "output_type": "stream",
     "text": [
      "case1\n",
      "a: ['Mon', 'Tue']\n",
      "b: ['Mon', 'Tue', 'Wed']\n",
      "a is b: False \n",
      "\n",
      "case2\n",
      "a: ['Head', ['Sub', 'Sub2']]\n",
      "b: ['Head', ['Sub', 'Sub2']]\n",
      ">> b 객체만 수정했는데 a 객체도 수정되었다!!! 왜??\n"
     ]
    }
   ],
   "source": [
    "# case 1\n",
    "a = [\"Mon\", \"Tue\"]\n",
    "b = a.copy()  # for list, dict, set\n",
    "b.append(\"Wed\")\n",
    "\n",
    "print(\"case1\")\n",
    "print(\"a:\", a)\n",
    "print(\"b:\", b)\n",
    "print(\"a is b:\", a is b, '\\n')\n",
    "\n",
    "# case 2\n",
    "a = [\"Head\", [\"Sub\"]]\n",
    "b = a.copy()  # or a[:]\n",
    "b[1].append(\"Sub2\")\n",
    "\n",
    "print(\"case2\")\n",
    "print(\"a:\", a)\n",
    "print(\"b:\", b)\n",
    "print(\">> b 객체만 수정했는데 a 객체도 수정되었다!!! 왜??\")"
   ]
  },
  {
   "cell_type": "markdown",
   "id": "8fe5ba68",
   "metadata": {},
   "source": [
    "다음과 같이 copy() 로 복사를 해줬음에도 불구하고 b 를 수정하니 a 도 같이 수정되었다. </br>\n",
    "⇒ copy() 메서드는 ***‘얕은 복사’***를 하기 때문에 이러한 문제가 발생한다. </br></br>\n",
    "이런 ***‘얕은 복사’***로 인한 문제점을 해결하기 위해서 파이썬에선 **<module ‘copy’>**가 존재한다."
   ]
  },
  {
   "cell_type": "markdown",
   "id": "804acd64",
   "metadata": {},
   "source": [
    "### 3. **세 번째 방법**\n",
    "\n",
    "- **<module ‘copy’>**\n",
    "    - copy 모듈에는 2가지 메서드만이 존재한다.\n",
    "    1. **copy.copy() method**\n",
    "        - 해당 객체만 메모리를 새로 할당\n",
    "        - 하위 객체들은 메모리 주소 유지\n",
    "        - [:]이나, .copy() 등과 같은 기능\n",
    "\n",
    "        ⇒ a 라는 배열이 있고 둘 다 월, 화를 가리키고 있었고 이걸 복사할 경우  b 라는 리스트 자체는 아예 새로 생성되지만 결국 동일한 월, 화를 가리키고 있다!\n",
    "\n",
    "    2. **copy.deepcopy()**\n",
    "        - 해당 객체와 하위 객체들의 메모리를 새로 할당\n",
    "        - 완전히 새로운 객체를 만든다."
   ]
  },
  {
   "cell_type": "code",
   "execution_count": 12,
   "id": "4a7a4dbf",
   "metadata": {
    "scrolled": true
   },
   "outputs": [
    {
     "name": "stdout",
     "output_type": "stream",
     "text": [
      "['Head', ['Sub']]\n",
      "['Head', ['Sub', 'Sub2']]\n"
     ]
    }
   ],
   "source": [
    "import copy\n",
    "\n",
    "a = [\"Head\", [\"Sub\"]]\n",
    "b = copy.deepcopy(a)\n",
    "b[1].append(\"Sub2\")\n",
    "\n",
    "print(a)\n",
    "print(b)\n",
    "\n",
    "# [:], .copy() 같이 얕은 복사로 인한 문제 해결!"
   ]
  },
  {
   "cell_type": "markdown",
   "id": "beca9fc7",
   "metadata": {},
   "source": [
    "---\n",
    "\n",
    "# 5. 파이썬은 Call by Value vs Call by Reference ?\n",
    "\n",
    "Python은 명시적인 Call by Reference 또는 Call by Value 라는 개념이 존재하지 않는다. Python의 함수(function)에 인자(argument)를 전달할 때, **\"call by assignment\"**라는 방식으로 전달된다. \n",
    "\n",
    "**Call by assignment는 파라미터(Parameter)로 전달받은 객체에 따라 객체의 참조방식이 결정된다는 개념**이다. \n",
    "\n",
    "공식 문서에 따르면 **Mutuable Object는 Call by Reference**의 형태로 참조형으로 변수를 다루며 **Immutable Object는 Call by Value**의 형태로 변수를 다룬다.\n",
    "\n",
    "### case 1: mutable 객체를 함수 파라미터로 넘기는 경우\n",
    "\n",
    "mutable 객체를 전달받은 파라미터 변수는 인자로 넘겨준 변수가 가리키는 객체 주소값을 그대로 참조한다. 즉, 두 변수 모두 같은 주소를 참조한다.\n",
    "\n",
    "함수 내에서 파라미터 변수 값을 변경(list 값 추가, dict 키, 값 추가, 삭제 등)한다면 인자로 넘겨준 변수값 역시 바뀐다.\n",
    "\n",
    "하지만, 함수 내에서 mutable 객체를 재할당하려면 global 사용!\n",
    "\n",
    "=> 이러한 개념은 **Call by Reference** 라고 볼 수 있겠다.\n",
    "\n",
    "### case 2: immutable 객체를 함수 파라미터로 넘기는 경우\n",
    "\n",
    "immutable 객체를 전달받은 파라미터 변수는 인자로 넘겨준 변수가 가리키는 객체 주소값을 그대로 참조한다. -> mutable 객체와 같다.\n",
    "\n",
    "하지만, 함수 내에서 지역변수인 파라미터 변수값을 변경할 때마다, 새로운 객체를 생성 후에 파라미터 변수는 새로운 객체 주소를 가리키게 된다.\n",
    "\n",
    "즉, 함수내 지역변수 값을 아무리 변경해도 인자로 넘겨준 전역변수 값은 변하지 않는다.\n",
    "\n",
    "=> 이러한 개념은 **Call by Value** 라고 볼 수 있겠다.\n",
    "\n",
    "### 결론\n",
    "\n",
    "**파이썬은 모든 것이 객체로 이루어져 있으며 객체의 타입(mutable, immutable)에 따라 객체 참조방식이 달라진다.**\n",
    "\n",
    "**함수에 인자를 전달할 때, mutable, immutable 상관없이 객체값 자체를 전달하는 것이 아니라 객체를 가리키는 주소를 전달**한다고 볼 수 있다.\n",
    "\n",
    "하지만, **객체가 mutable 또는 immutable 인지에 따라 값 변경 절차가 다르기 때문에 Call by Reference 또는 Call by Value 라는 개념이 존재하지 않는다고 볼 수 있다.**"
   ]
  },
  {
   "cell_type": "markdown",
   "id": "796935a2",
   "metadata": {},
   "source": [
    "### Mutable, Immutable 객체 인자로 전달 시 함수 내에서의 주소값 확인\n",
    "#### 아래 결과를 보면, immutable, mutable 객체 모두 함수에 파라미터로 넘기게 되면 전역변수와 지역변수가 같은 주소를 참조하는 것을 확인할 수 있다."
   ]
  },
  {
   "cell_type": "code",
   "execution_count": 4,
   "id": "3e319eed",
   "metadata": {},
   "outputs": [
    {
     "name": "stdout",
     "output_type": "stream",
     "text": [
      "4335397776\n",
      "4335397776\n"
     ]
    }
   ],
   "source": [
    "### immutable 객체를 인자로 함수에 전달할 경우\n",
    "\n",
    "some_var = 20    # 전역 변수\n",
    "\n",
    "def func(param):    # param: 함수 내 지역 변수 (파라미터)\n",
    "    print(id(param))\n",
    "    \n",
    "print(id(some_var))    # 전역 변수 주소값 확인\n",
    "func(some_var)  # 함수 내 파라미터 변수 주소값 확인 "
   ]
  },
  {
   "cell_type": "code",
   "execution_count": 5,
   "id": "c5c297d8",
   "metadata": {},
   "outputs": [
    {
     "name": "stdout",
     "output_type": "stream",
     "text": [
      "4384733440\n",
      "4384733440\n"
     ]
    }
   ],
   "source": [
    "### mutable 객체를 인자로 함수에 전달할 경우\n",
    "\n",
    "some_var = [1, 2, 3]    # 전역 변수\n",
    "\n",
    "def func(param):    # param: 함수 내 지역 변수 (파라미터)\n",
    "    print(id(param))\n",
    "    \n",
    "print(id(some_var))    # 전역 변수 주소값 확인\n",
    "func(some_var)  # 함수 내 파라미터 변수 주소값 확인"
   ]
  },
  {
   "cell_type": "markdown",
   "id": "d2000e38",
   "metadata": {},
   "source": [
    "### 인자로 전달한 Mutable, Immutable 객체 수정 후 결과 비교\n",
    "\n",
    "아래 결과를 확인\n",
    "\n",
    "- mutable 객체를 함수 내에서 수정하니 **전역 변수와 지역 변수는 다른 주소를 참조하고 값 또한 다른** 것을 확인할 수 있다.\n",
    "- immutable 객체를 함수 내에서 수정하니 **전역 변수와 지역 변수는 같은 주소를 참조하고 값 또한 같은** 것을 확인 할 수 있다."
   ]
  },
  {
   "cell_type": "code",
   "execution_count": 10,
   "id": "d343a933",
   "metadata": {},
   "outputs": [
    {
     "name": "stdout",
     "output_type": "stream",
     "text": [
      "지역 변수 param - 값: 21, 주소: 4335397808\n",
      "전역 변수 some_var - 값: 20, 주소: 4335397776\n"
     ]
    }
   ],
   "source": [
    "### immutable 객체를 인자로 함수에 전달할 경우\n",
    "\n",
    "some_var = 20    # 전역 변수\n",
    "\n",
    "def func(param):    # param: 함수 내 지역 변수 (파라미터)\n",
    "    param += 1\n",
    "    print(\"지역 변수 param - 값: {}, 주소: {}\".format(param, id(param)))\n",
    "    \n",
    "\n",
    "func(some_var)  # 함수 내 파라미터 변수 값, 주소 확인\n",
    "print(\"전역 변수 some_var - 값: {}, 주소: {}\".format(some_var, id(some_var)))    # 전역 변수 값, 주소 확인"
   ]
  },
  {
   "cell_type": "code",
   "execution_count": 13,
   "id": "1ac7fc57",
   "metadata": {},
   "outputs": [
    {
     "name": "stdout",
     "output_type": "stream",
     "text": [
      "지역변수 param - 값: [1, 2, 3, 4], 주소: 4408834240\n",
      "전역 변수 some_var - 값: [1, 2, 3, 4], 주소: 4408834240\n"
     ]
    }
   ],
   "source": [
    "### mutable 객체를 인자로 함수에 전달할 경우\n",
    "\n",
    "some_var = [1, 2, 3]    # 전역 변수\n",
    "\n",
    "def func(param):    # param: 함수 내 지역 변수 (파라미터)\n",
    "    param.append(4)\n",
    "    print(\"지역변수 param - 값: {}, 주소: {}\".format(param, id(param)))\n",
    "    \n",
    "func(some_var)  # 함수 내 파라미터 변수 값, 주소 확인\n",
    "print(\"전역 변수 some_var - 값: {}, 주소: {}\".format(some_var, id(some_var)))    # 전역 변수 값, 주소 확인"
   ]
  },
  {
   "cell_type": "markdown",
   "id": "1975b3d2",
   "metadata": {},
   "source": [
    "### 전역 변수를 함수 내에서 수정할 경우\n",
    "\n",
    "- mutable 객체가 할당된 전역 변수를 함수 내에서 바로 참조 및 수정이 가능하다.\n",
    "- immutable 객체가 할당된 전역 변수는 함수 내에서 바로 사용 시, 변수에 할당 전에 변수를 참조했다고 UnboundLocalError 가 발생한다.\n",
    "    - immutable 객체가 할당된 전역 변수는 함수 내에서 global 선언을 해야 참조가 가능하다!!"
   ]
  },
  {
   "cell_type": "code",
   "execution_count": 23,
   "id": "84d1e006",
   "metadata": {
    "scrolled": true
   },
   "outputs": [
    {
     "name": "stdout",
     "output_type": "stream",
     "text": [
      "{'a': 2}\n"
     ]
    },
    {
     "ename": "UnboundLocalError",
     "evalue": "local variable 'immutable_var' referenced before assignment",
     "output_type": "error",
     "traceback": [
      "\u001b[0;31m---------------------------------------------------------------------------\u001b[0m",
      "\u001b[0;31mUnboundLocalError\u001b[0m                         Traceback (most recent call last)",
      "Input \u001b[0;32mIn [23]\u001b[0m, in \u001b[0;36m<cell line: 14>\u001b[0;34m()\u001b[0m\n\u001b[1;32m     11\u001b[0m     immutable_var \u001b[38;5;241m+\u001b[39m\u001b[38;5;241m=\u001b[39m \u001b[38;5;241m1\u001b[39m\n\u001b[1;32m     12\u001b[0m     \u001b[38;5;28mprint\u001b[39m(mutable_var)\n\u001b[0;32m---> 14\u001b[0m \u001b[43mfunc\u001b[49m\u001b[43m(\u001b[49m\u001b[43m)\u001b[49m\n",
      "Input \u001b[0;32mIn [23]\u001b[0m, in \u001b[0;36mfunc\u001b[0;34m()\u001b[0m\n\u001b[1;32m      8\u001b[0m \u001b[38;5;28mprint\u001b[39m(mutable_var)\n\u001b[1;32m     10\u001b[0m \u001b[38;5;66;03m# global immutable_var # => 전역 변수 immutable_var 참조 가능!!\u001b[39;00m\n\u001b[0;32m---> 11\u001b[0m immutable_var \u001b[38;5;241m+\u001b[39m\u001b[38;5;241m=\u001b[39m \u001b[38;5;241m1\u001b[39m\n\u001b[1;32m     12\u001b[0m \u001b[38;5;28mprint\u001b[39m(mutable_var)\n",
      "\u001b[0;31mUnboundLocalError\u001b[0m: local variable 'immutable_var' referenced before assignment"
     ]
    }
   ],
   "source": [
    "### immutable 객체를 인자로 함수에 전달할 경우\n",
    "\n",
    "immutable_var = 20     # 전역 변수\n",
    "mutable_var = {\"a\": 1} # 전역 변수\n",
    "\n",
    "def func():\n",
    "    mutable_var[\"a\"] += 1\n",
    "    print(mutable_var)\n",
    "    \n",
    "    # global immutable_var # => 전역 변수 immutable_var 참조 가능!!\n",
    "    immutable_var += 1\n",
    "    print(mutable_var)\n",
    "    \n",
    "func()"
   ]
  },
  {
   "cell_type": "markdown",
   "id": "64598630",
   "metadata": {},
   "source": [
    "---\n",
    "\n",
    "# 6. 필요 없는 메모리 값을 지우기\n",
    "\n",
    "### 'del' keyword\n",
    "- 변수를 명시적으로 제거\n",
    "- 변수의 선언을 취소\n",
    "- dictionary 에서는 특정 키의 값을 제거하는 역할"
   ]
  },
  {
   "cell_type": "code",
   "execution_count": 2,
   "id": "637a2952",
   "metadata": {
    "scrolled": true
   },
   "outputs": [
    {
     "name": "stdout",
     "output_type": "stream",
     "text": [
      "1000\n"
     ]
    },
    {
     "ename": "NameError",
     "evalue": "name 'a' is not defined",
     "output_type": "error",
     "traceback": [
      "\u001b[0;31m---------------------------------------------------------------------------\u001b[0m",
      "\u001b[0;31mNameError\u001b[0m                                 Traceback (most recent call last)",
      "Input \u001b[0;32mIn [2]\u001b[0m, in \u001b[0;36m<cell line: 5>\u001b[0;34m()\u001b[0m\n\u001b[1;32m      2\u001b[0m \u001b[38;5;28mprint\u001b[39m(a)\n\u001b[1;32m      4\u001b[0m \u001b[38;5;28;01mdel\u001b[39;00m a\n\u001b[0;32m----> 5\u001b[0m \u001b[38;5;28mprint\u001b[39m(\u001b[43ma\u001b[49m)\n",
      "\u001b[0;31mNameError\u001b[0m: name 'a' is not defined"
     ]
    }
   ],
   "source": [
    "a = 1000\n",
    "print(a)\n",
    "\n",
    "del a\n",
    "print(a)\n",
    "# a 는 다시 선언되기 전의 상태로 \n",
    "# 즉, 더이상 사용하지 않는 메모리는 c/c++ free 함수와 마찬가지로 명시적으로 해제를 할 수 있다."
   ]
  },
  {
   "cell_type": "markdown",
   "id": "8cae20d9",
   "metadata": {},
   "source": [
    "## Garbage Collection\n",
    "Garbage Collection 은 ***필요 없는 할당된 메모리를 자동으로 해제 또는 교정의 과정***이다.\n",
    "\n",
    "> Garbage collection (GC) is a form of automatic memory management. The garbage collector attempts to reclaim memory which was allocated by the program, but is no longer referenced — also called garbage. - [Wikipedia](https://en.wikipedia.org/wiki/Garbage_collection_(computer_science))\n",
    "> \n",
    "\n",
    "C 언어는 사용되지 않는 메모리를 수동으로 해제(free)해줘야한다. 반면에, Python 은 자동적으로 이를 수행한다.\n",
    "\n",
    "Garbage Collection 을 이해하기 앞서 다음 개념을 이해해야한다.\n",
    "\n",
    "1. Reference count\n",
    "2. Generation\n",
    "\n",
    "\n",
    "### 1. Reference Count\n",
    "\n",
    "**Reference Count** 란 **특정 메모리 주소를 참조하는 곳의 개수를 의미**한다.\n",
    "\n",
    "**a = [’ref’, ‘count’]** 이 코드가 실행된다고 가정해보자.\n",
    "\n",
    "```\n",
    "1. Mutable Type 의 리스트 객체가 생성되고 Heap 메모리 공간에 할당된다.\n",
    "2. 어떠한 함수에 의해 해당 메모리 주소를 a 변수에 리턴해준다.\n",
    "3. 변수 a 는 리스트 객체의 메모리 주소를 참조하게 된다.\n",
    "\n",
    "리스트 객체를 참조하는 변수 a 가 하나 있으니 리스트 객체의 reference count 값은 1이 된다.\n",
    "```\n",
    "\n",
    "Reference Count 값이 0 이라는 것은 해당 객체가 더이상 참조되지 않는다는 것을 의미한다. 다음 Garbage Collection 수행 시 메모리에서 해제가 된다.<br>\n",
    "즉, 특정 메모리에 할당된 객체가 아무런 변수에 할당되어 있지 않거나 해당 객체가 프로그램에서 필요없다고 판단되면 다음 Garbage Collection 이 수행될 때 메모리에서 자동적으로 해제가 된다."
   ]
  },
  {
   "cell_type": "code",
   "execution_count": 4,
   "id": "1275e144",
   "metadata": {},
   "outputs": [
    {
     "name": "stdout",
     "output_type": "stream",
     "text": [
      "3\n"
     ]
    }
   ],
   "source": [
    "import sys\n",
    "\n",
    "a = ['ref', 'count']\n",
    "\n",
    "b = a\n",
    "print(sys.getrefcount(a))  # 특정 값이나 문자열의 referece count 값을 구할 수 있는 메서드\n",
    "# refcount + 1"
   ]
  },
  {
   "cell_type": "markdown",
   "id": "fbb757f5",
   "metadata": {},
   "source": [
    "- 왜 2가 아니라 3?\n",
    "    - getrefcount 에 a 를 인자로 넘겨줬다. -> 이는 **배열의 메모리 주소**를 인자로 넘겨줬음\n",
    "    - 인자로 넘겨주는 순간 sys.getrefcount()도 해당 객체를 참조하니 reference count 가 1이 증가\n",
    "    - **결론**: sys.getrefcount 시 실제 reference count 보다 + 1 이 된다."
   ]
  },
  {
   "cell_type": "markdown",
   "id": "24fb315c",
   "metadata": {},
   "source": [
    "### 2. Generation\n",
    "\n",
    "Garbage Collection 은 여러 Generation 으로 나눠서 메모리를 관리한다. \n",
    "\n",
    "각 Generation 마다 최대로 들어갈 수 있는 변수는 개수가 정해져있다. ⇒ **Threshold** 값"
   ]
  },
  {
   "cell_type": "code",
   "execution_count": 6,
   "id": "2846cd23",
   "metadata": {},
   "outputs": [],
   "source": [
    "import gc\n",
    "\n",
    "gc.set_threshold(3)  # 실제 threshold 는 매우 큰 수를 유지\n",
    "\n",
    "# Generation 이 3개라 가정\n",
    "# Generation | 2 : 가장 예전, 오래된 변수들이 할당\n",
    "# Generation | 1\n",
    "# Generation | 0 : 가장 최근에 할당된 변수들"
   ]
  },
  {
   "cell_type": "markdown",
   "id": "c4b0cb71",
   "metadata": {},
   "source": [
    "위의 개념을 정리해보면\n",
    "\n",
    "- Garbage Collection 은 **Reference Count 와 휴리스틱** 등으로 성능을 최적화 한다.\n",
    "    - 휴리스틱: ***파이썬에서는 가장 최근에 할당된 변수가 가장 먼저 쓸모가 없어지는 경우가 많다***고 여긴다.\n",
    "        - 배열 내에서 사용하는 임시 변수들 등\n",
    "- Garbage Collection 은 **여러 Generation 으로 나눠서 관리**하며 **각 Generation 마다 최대로 들어갈 수 있는 변수의 특정 Threshold가 존재**한다.\n",
    "- Garbage Collection 은 가장 낮은 Generation 부터 수행된다.\n",
    "\n",
    "⇒ 예전부터 오랫동안 남아있는 변수보다 최근에 할당된 변수가 쓰레기 값이 될 확률이 좀 더 높다고 판단하고 파이썬에서는 최근에 할당된 메모리 주소부터 GC 를 돌린다.\n",
    "\n",
    "그럼 Python 에서 어떻게 Garbage Collection 으로 메모리 관리하는 지 알아보자."
   ]
  },
  {
   "cell_type": "code",
   "execution_count": 7,
   "id": "3939fdb3",
   "metadata": {},
   "outputs": [],
   "source": [
    "# Threshold = 3 -> 각 generation 에 최대 3개의 변수가 할당 가능\n",
    "# Generation 2\n",
    "# Generation 1\n",
    "# Generation 0\n",
    "a = 'a'\n",
    "b = 'b'\n",
    "c = 'c'\n",
    "d = 'd'\n",
    "del b\n",
    "e = 'e'\n",
    "f = 'f'\n",
    "g = 'g'"
   ]
  },
  {
   "cell_type": "markdown",
   "id": "fa560a14",
   "metadata": {},
   "source": [
    "1. ‘a’, ‘b’, ‘c’ 문자열 객체가 차례로 generation 0 에 할당된다.\n",
    "2. ‘d’ 가 들어갈 경우 generation 0 의 threshold 값이 3이 초과가 된다. → 0에 더이상 변수 할당 x\n",
    "3. **_PyObject_GC_Malloc 함수**에서 collect_generation(~~) 함수를 호출\n",
    "    1. **collect_generation 함수**는 제일 위 (가장 오래된 generation)에서 부터 각 generation에 값이 몇 개가 할당되어 있는 지 확인을 한다. \n",
    "    2. 초과가 될 generation 을 탐색\n",
    "4. generation 0 이 초과가 될테니 **collect(0)** 을 호출해 GC 를 돌리라는 명령이 수행\n",
    "    1. **collect(0):** generation 0 에 있는 값들을 모두 불러온 뒤 제일 앞에서 부터 reference count 를 체크\n",
    "    2. Reference Count 가 0 인 경우 해당 값을 메모리에서 지워버린다. \n",
    "    3. Reference Count ≠ 0 인 경우 어디선가 사용되고 있는 변수로서 해당 변수는 바로 위 generation 에 올린다.\n",
    "5. ‘a’, ‘b’, ‘c’ 은 모두 reference count 가 1 이니 바로 위 generation 1 로 모두 올라가게 된다.\n",
    "6. ‘d’ 는 generation 0 에 할당된다.\n",
    "7. del b 로 ‘b’ 를 찾는 곳이 없어진다 → ‘b’ 의 Reference Count 가 0이 된다.\n",
    "8. ‘e’, ‘f’ 는 차례로 generation 0 에 할당된다.\n",
    "9. ‘g’ 를 할당할 때 generation 0 에 더이상 할당할 수 없다.\n",
    "10. **collect_generation()** 함수이 수행\n",
    "    1. generation 1 에 값이 3개 → generation 1에 GC 가 수행 → collect(1)\n",
    "        - generation 1 에 있는 ‘b’ 의 reference count 가 0 이므로 메모리에서 지운다.\n",
    "        - ‘a’, ‘c’ 는 ref count 가 1 이니 위 generation 2 로 올린다.\n",
    "    2. generation 0 에 값이 3개 → generation 0에 GC 수행 → collect(0)\n",
    "        - generation 0 에 있는 ‘d’, ‘e’, ‘f’ 는 모두 generation 1로 올린다.\n",
    "    3. ‘g’ 는 generation 0 에 올라간다.\n",
    "\n",
    "**C 언어**와 같이 free 등으로 메모리 할당 해제를 수동으로 해야하는 반면, **Python은** 내부적으로 Garbage Collection 을 자동으로 수행되므로 사용자는 메모리 관리를 신경 쓰지 않고 프로그래밍을 할 수 있다!"
   ]
  },
  {
   "cell_type": "markdown",
   "id": "9448c36b",
   "metadata": {},
   "source": [
    "---\n",
    "\n",
    "# 7. 프로그래밍 시 메모리 관련 Tips\n",
    "\n",
    "## 1. ~~String Concatenation~~\n",
    "\n",
    "문자열 결합 피하기!!\n",
    "#### case1"
   ]
  },
  {
   "cell_type": "code",
   "execution_count": null,
   "id": "574a3fbf",
   "metadata": {},
   "outputs": [],
   "source": [
    "# case 1\n",
    "s = ''  # immutable type\n",
    "for x in somelist:\n",
    "  s += some_function(x)"
   ]
  },
  {
   "cell_type": "markdown",
   "id": "ce26c1f1",
   "metadata": {},
   "source": [
    "**문제점**\n",
    "- loop 가 한번씩 돌때마다 완전히 새로운 메모리 주소에 점점 늘어나는 s를 메모리에 저장하게 된다.\n",
    "- loop 가 길거나 문자열이 많을 때 성능 저하로 이어질 수 있다.\n",
    "\n",
    "**해결** : **map function** 을 사용!"
   ]
  },
  {
   "cell_type": "code",
   "execution_count": null,
   "id": "36a4910e",
   "metadata": {},
   "outputs": [],
   "source": [
    "''.join(map(some_function, somelist))"
   ]
  },
  {
   "cell_type": "markdown",
   "id": "57faf2df",
   "metadata": {},
   "source": [
    "map은 python code에서 해당 동작이 수행되는 것이 아니라 C native Code 에서 수행되기에 속도 면에서 더욱 빠르다."
   ]
  },
  {
   "cell_type": "markdown",
   "id": "37445167",
   "metadata": {},
   "source": [
    "#### case 2"
   ]
  },
  {
   "cell_type": "code",
   "execution_count": null,
   "id": "86853836",
   "metadata": {},
   "outputs": [],
   "source": [
    "# case 2\n",
    "s = 'Hello! ' + first_name + ' ' + last_name + '!'"
   ]
  },
  {
   "cell_type": "markdown",
   "id": "641c8307",
   "metadata": {},
   "source": [
    "**문제점**\n",
    "- ‘Hello! ’ 객체가 생성이 되고, first_name 이랑 합쳐진 string 객체가 또 다시 메모리에 할당. 이 과정을 계속 반복\n",
    "- 성능 저하ㅠ\n",
    "\n",
    "**해결** : **python 제공 formatter 사용!**"
   ]
  },
  {
   "cell_type": "code",
   "execution_count": null,
   "id": "17071fe3",
   "metadata": {},
   "outputs": [],
   "source": [
    "s = 'Hello! {} {}'.format(first_name, last_name)"
   ]
  },
  {
   "cell_type": "markdown",
   "id": "a138b3f3",
   "metadata": {},
   "source": [
    "## 2. Iterating over list/dict\n",
    "\n",
    "- iterate 도중 변경되는 객체의 경우 복사해서 사용"
   ]
  },
  {
   "cell_type": "code",
   "execution_count": null,
   "id": "5c1dd6ab",
   "metadata": {},
   "outputs": [],
   "source": [
    "for k, v in somedict.items():\n",
    "    somedict[k] = v * 2"
   ]
  },
  {
   "cell_type": "markdown",
   "id": "147d5150",
   "metadata": {},
   "source": [
    "**문제점**: Iterating 이 돌아가는 객체 자체의 값을 바꾸기에 문제가 발생 가능\n",
    "\n",
    "**해결**: copy() 함수 사용!"
   ]
  },
  {
   "cell_type": "code",
   "execution_count": null,
   "id": "255f33fa",
   "metadata": {},
   "outputs": [],
   "source": [
    "for k, v in somedict.copy().items(): # copy()\n",
    "    somedict[k] = v * 2"
   ]
  },
  {
   "cell_type": "markdown",
   "id": "8d46ad3e",
   "metadata": {},
   "source": [
    "## 3. Use a little scope as possible\n",
    "\n",
    "- with 키워드 등을 사용해 최대한 scope 를 작게 유지"
   ]
  },
  {
   "cell_type": "code",
   "execution_count": null,
   "id": "ea6b56e0",
   "metadata": {},
   "outputs": [],
   "source": [
    "f = file('test.pak', 'rb')\n",
    "data = f.read()\n",
    "print(data)"
   ]
  },
  {
   "cell_type": "markdown",
   "id": "5b125e98",
   "metadata": {},
   "source": [
    "**문제점**: f 와 data 는 더이상 필요가 없어졌음에도 불구하고 python program 이 끝날 때까지 메모리에 남아있게 된다. → reference count 가 남아있기 때문에!\n",
    "\n",
    "**해결**: **with 구문 사용!**"
   ]
  },
  {
   "cell_type": "code",
   "execution_count": null,
   "id": "64aaefde",
   "metadata": {},
   "outputs": [],
   "source": [
    "with f = file('test.pak', 'rb') as f:\n",
    "    data = f.read()\n",
    "    print(data)"
   ]
  },
  {
   "cell_type": "markdown",
   "id": "15d6d206",
   "metadata": {},
   "source": [
    "=> with 구문이 끝나게 되면 f, data 는 메모리에서 자동으로 해제"
   ]
  }
 ],
 "metadata": {
  "kernelspec": {
   "display_name": "Python 3 (ipykernel)",
   "language": "python",
   "name": "python3"
  },
  "language_info": {
   "codemirror_mode": {
    "name": "ipython",
    "version": 3
   },
   "file_extension": ".py",
   "mimetype": "text/x-python",
   "name": "python",
   "nbconvert_exporter": "python",
   "pygments_lexer": "ipython3",
   "version": "3.9.13"
  }
 },
 "nbformat": 4,
 "nbformat_minor": 5
}
