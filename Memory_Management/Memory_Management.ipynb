{
 "cells": [
  {
   "cell_type": "markdown",
   "id": "f32ca15f",
   "metadata": {},
   "source": [
    "# Python Memory Management"
   ]
  },
  {
   "cell_type": "markdown",
   "id": "f972ac80",
   "metadata": {},
   "source": [
    "## Objects in Python\n",
    "Everything in Python is an object!! 파이썬은 모든 것들이 객체로 이루어져 있다. 클래스, 함수, 데이터 타입(integer, float, and string)은 역시 파이썬에서 객체로 이루어져 있다. "
   ]
  },
  {
   "cell_type": "code",
   "execution_count": 24,
   "id": "43f9eea5",
   "metadata": {},
   "outputs": [
    {
     "name": "stdout",
     "output_type": "stream",
     "text": [
      "<class 'int'>\n",
      "<class 'list'>\n",
      "<class 'function'>\n"
     ]
    }
   ],
   "source": [
    "# 3 은 integer class 에 속한 integer object 이다.\n",
    "a = 3\n",
    "print(type(a))\n",
    "\n",
    "L = [1, 2, 3]\n",
    "print(type(L))\n",
    "\n",
    "def my_func(x):\n",
    "    x += 1\n",
    "    return x\n",
    "print(type(my_func))"
   ]
  },
  {
   "cell_type": "markdown",
   "id": "830f123d",
   "metadata": {},
   "source": [
    "만약 한 변수에 integer 값 100을 할당한다면 파이썬 내부적으로 다음 절차가 진행된다.\n",
    "```\n",
    "a = 100\n",
    "\n",
    "1. CPython은 내부적으로 integer type의 object(객체) 100 을 생성한다.\n",
    "2. 100 이란 object 는 heap memory 에 저장된다.\n",
    "3. heap memory 에 저장된 메모리 주소값을 a 라는 변수에 리턴해준다.\n",
    "4. a 변수는 100 객체의 메모리 주소를 참조할 뿐이다. (a 변수에 값을 저장x)\n",
    "```"
   ]
  },
  {
   "cell_type": "markdown",
   "id": "1f5f26cb",
   "metadata": {},
   "source": [
    "## Variables in Python\n",
    "특정 메모리 주소를 담는 혹은 가리키는 name or label 이다. 즉, 파이썬에서 변수는 “메모리 주소에 붙이는 라벨” 이다.</br>\n",
    "\n",
    "<img src=\"./img/memory.png\" width=\"400px\" height=\"200px\" alt=\"https://www.honeybadger.io/blog/memory-management-in-python/#python-as-a-language-specification\">\n",
    "위의 경우는 100 이란 integer object 의 주소를 가리키는 변수 a 의 주소를 다시 변수 b 가 할당 받고 있다.</br>\n",
    "즉, 100 객체를 동시에 변수 a, b 가 가리키고 있다. (같은 메모리 주소를 담고 있다.)"
   ]
  },
  {
   "cell_type": "code",
   "execution_count": 31,
   "id": "a8fd1422",
   "metadata": {},
   "outputs": [
    {
     "name": "stdout",
     "output_type": "stream",
     "text": [
      "0x100d815d0\n",
      "0x100d815d0\n"
     ]
    }
   ],
   "source": [
    "a = 100\n",
    "b = a\n",
    "\n",
    "# same!!\n",
    "print(hex(id(a)))\n",
    "print(hex(id(b)))  "
   ]
  },
  {
   "cell_type": "markdown",
   "id": "11900af7",
   "metadata": {},
   "source": [
    "### id 함수 → (id(obj))\n",
    "\n",
    "python Built-in function(내장함수)로 해당 객체/변수의 메모리 주소 값을 반환 (C/C++의 & 포인터 연산자와 동일)\n",
    "- Built-in function(내장함수): 언제 어디서나 사용 가능한 다양한 함수가 파이썬에 내장되어 있다."
   ]
  },
  {
   "cell_type": "code",
   "execution_count": 34,
   "id": "8a4a0419",
   "metadata": {},
   "outputs": [
    {
     "name": "stdout",
     "output_type": "stream",
     "text": [
      "0x100e69ab0\n",
      "0x100e20a30\n"
     ]
    }
   ],
   "source": [
    "print(hex(id('a')))\n",
    "print(hex(id('b')))\n",
    "# ‘a’ 문자열과 ‘b’ 문자열은 서로 다른 메모리 주소에 저장되어 있다.\n",
    "\n",
    "# C / C++ language\n",
    "# char chr = 'a';\n",
    "# printf(\"%x\", &chr);"
   ]
  },
  {
   "cell_type": "markdown",
   "id": "a7f2292c",
   "metadata": {},
   "source": [
    "## a is b / a == b\n",
    "\n",
    "- **is 연산자**: 메모리 주소를 비교\n",
    "- **== 연산자**: 2개의 값만 비교\n",
    "</br></br>\n",
    "- == 에 비해 is 가 약간 더 빠르다.\n",
    "    - == 은 메모리 주소를 불러온 뒤 그 메모리 주소에 저장된 값을 비교하기 때문이다.\n",
    "    - is 는 메모리 주소만을 비교한다.\n",
    "- is 연산자는 오버라이드가 불가능\n",
    "    - == 연산자는 파이썬에서 custom 연산자로 오버라이드가 가능\n",
    "    - is 는 오버라이드가 불가능해 언제 어디서든 똑같은 경험을 제공 가능"
   ]
  },
  {
   "cell_type": "code",
   "execution_count": 37,
   "id": "b4f7f205",
   "metadata": {},
   "outputs": [
    {
     "name": "stdout",
     "output_type": "stream",
     "text": [
      "1 False\n",
      "2 True\n",
      "3 True\n",
      "4 True\n"
     ]
    }
   ],
   "source": [
    "a = 1000\n",
    "b = 1000\n",
    "\n",
    "print(\"1\", a is b)\n",
    "print(\"2\", a == b)\n",
    "\n",
    "a = 1000\n",
    "b = a\n",
    "\n",
    "print(\"3\", a is b)\n",
    "print(\"4\", a == b)"
   ]
  },
  {
   "cell_type": "markdown",
   "id": "c0e3b328",
   "metadata": {},
   "source": [
    "## mutable vs immutable Objects"
   ]
  },
  {
   "cell_type": "markdown",
   "id": "864ca610",
   "metadata": {},
   "source": [
    "- **Mutable**\n",
    "    - 변경 가능한 객체이다. 즉, 같은 주소값 내에서 값이 변경 가능한 객체이다.\n",
    "    - 객체 값 변경 시 메모리 재할당 없다. ⇒ 변수에 할당된 메모리 번지(주소) 값이 바뀌지 않는다.\n",
    "    - list, dict, set, byte array, user-definded classes"
   ]
  },
  {
   "cell_type": "code",
   "execution_count": 38,
   "id": "cbf28352",
   "metadata": {
    "scrolled": true
   },
   "outputs": [
    {
     "name": "stdout",
     "output_type": "stream",
     "text": [
      "0x1076c49c0\n",
      "0x1076c49c0\n",
      "0x1076c49c0\n",
      "0x1076803c0\n"
     ]
    }
   ],
   "source": [
    "mutable_L = [1, 2, 3]\n",
    "print(hex(id(mutable_L)))  # same\n",
    "\n",
    "mutable_L.append(4)\n",
    "print(hex(id(mutable_L)))  # same\n",
    "\n",
    "mutable_L += [5]\n",
    "print(hex(id(mutable_L)))  # same\n",
    "\n",
    "# But, + 연산자만 사용할 경우 주소값이 다르게 출력\n",
    "mutable_L = mutable_L + [6]\n",
    "print(hex(id(mutable_L)))  # different!!"
   ]
  },
  {
   "cell_type": "markdown",
   "id": "ebe4ad87",
   "metadata": {},
   "source": [
    "- 왜 + 연산자만 mutable_L 변수의 주소값이 다르게 나올까??\n",
    "    - '+' 연산자는 **__add__ magic method** 라고 한다. (명시적으로 호출할 필요없이 자동으로 호출되는 메서드) </br>\n",
    "      이 연산자는 같은 주소에서 두 인자를 변경하지 않는다. 그러므로 mutable_L + [6] 로 새로운 객체가 생성되고 해당 주소값을 mutable_L 변수에 리턴한다.\n",
    "    - '+=' 연산자는 __iadd__ magic method로 같은 주소에서 인자들을 수정해준다.\n",
    "    \n",
    "    ⇒ 해당 case 는 mutable 과 관련된 case"
   ]
  },
  {
   "cell_type": "markdown",
   "id": "6bacb719",
   "metadata": {},
   "source": [
    "- **Immutable:**\n",
    "    - 변경 불가능 객체이다. 즉, ***같은 주소값 내에서 값이 변경 불가한 객체***이다.\n",
    "    - 객체 값 변경 시 **메모리를 재할당** 한다.\n",
    "        - 객체 값 변경 시 실제 메모리에 할당된 값이 변경되는 것이 아니라 변수가 가리키고 있는 메모리의 값이 바뀐다.\n",
    "\n",
    "        1. 객체 값을 변경한다.\n",
    "        2. 실제 메로리에 할당된 값이 변경되지 않는다.\n",
    "        3. 변경한 새로운 값에 대한 객체를 생성한다.\n",
    "        4. 해당 변수는 새로 생성된 객체의 주소값을 참조한다.\n",
    "\n",
    "        \n",
    "    - int, float, string, string tuple, bool, complex"
   ]
  },
  {
   "cell_type": "code",
   "execution_count": 39,
   "id": "6957e933",
   "metadata": {},
   "outputs": [
    {
     "name": "stdout",
     "output_type": "stream",
     "text": [
      "0x107957a10\n",
      "0x107957e50\n"
     ]
    }
   ],
   "source": [
    "immutable_i = 1000  # int\n",
    "print(hex(id(immutable_i)))\n",
    "\n",
    "immutable_i += 1\n",
    "print(hex(id(immutable_i)))  # different!!"
   ]
  },
  {
   "cell_type": "markdown",
   "id": "0c72dc5f",
   "metadata": {},
   "source": [
    "## 주의점\n",
    "\n",
    "### immutable"
   ]
  },
  {
   "cell_type": "code",
   "execution_count": 41,
   "id": "45f0e714",
   "metadata": {},
   "outputs": [
    {
     "name": "stdout",
     "output_type": "stream",
     "text": [
      "1000 1001 False\n"
     ]
    }
   ],
   "source": [
    "## immutuable\n",
    "a = 1000\n",
    "b = a  # b 변수가 1000 객체의 메모리 주소값을 가리키게 된다.\n",
    "b += 1  # 1001 integer object 생성 후 할당된 메모리 주소값을 변수 b가 가리킨다.\n",
    "print(a, b, a is b)\n",
    "\n",
    "# 여기서 immutuable은 아무런 문제가 없다."
   ]
  },
  {
   "cell_type": "markdown",
   "id": "a93865e2",
   "metadata": {},
   "source": [
    "### mutable"
   ]
  },
  {
   "cell_type": "code",
   "execution_count": 2,
   "id": "4f24090f",
   "metadata": {},
   "outputs": [
    {
     "name": "stdout",
     "output_type": "stream",
     "text": [
      "['Mon', 'Tue', 'Wed'] ['Mon', 'Tue', 'Wed'] True\n"
     ]
    }
   ],
   "source": [
    "a = [\"Mon\", \"Tue\"]\n",
    "b = a\n",
    "b.append(\"Wed\")\n",
    "print(a, b, a is b)\n",
    "\n",
    "# a와 b는 서로 메모리 주소가 동일하여 둘 중 하나만 변경해도 전부 변경된다.\n",
    "# ⇒ mutable 자료형은 메모리에 저장되어 있는 값 **자체를** 바꾸기에 주의해야 한다. "
   ]
  },
  {
   "cell_type": "markdown",
   "id": "a11d2c50",
   "metadata": {},
   "source": [
    "a와 b는 서로 메모리 주소가 동일하여 둘 중 하나만 변경해도 전부 변경된다.</br>\n",
    "⇒ mutable 자료형은 메모리에 저장되어 있는 값 **자체를** 바꾸기에 주의해야 한다. </br></br>\n",
    "이런 상황을 해결하기 위해 여러 가지 방법들이 존재한다."
   ]
  },
  {
   "cell_type": "markdown",
   "id": "4a370b6d",
   "metadata": {},
   "source": [
    "### 1. **첫 번째 방법**\n",
    "\n",
    "- **slice operator** 를 사용한 편법이라고 볼 수 있다.\n",
    "- **[:]** : 배열 처음과 끝까지 복사\n",
    "    - 메모리 주소값이 복사되는 것이 아닌 객체 자체가 복사\n",
    "    - a 와 b 는 서로 독립된 상태를 유지 가능"
   ]
  },
  {
   "cell_type": "code",
   "execution_count": 5,
   "id": "3aa92541",
   "metadata": {},
   "outputs": [
    {
     "name": "stdout",
     "output_type": "stream",
     "text": [
      "a: ['Mon', 'Tue']\n",
      "b: ['Mon', 'Tue', 'Wed']\n",
      "a is b: False\n"
     ]
    }
   ],
   "source": [
    "# 첫 번째 방법\n",
    "a = [\"Mon\", \"Tue\"]\n",
    "b = a[:]  # only for list\n",
    "b.append(\"Wed\")\n",
    "\n",
    "print(\"a:\", a)\n",
    "print(\"b:\", b)\n",
    "print(\"a is b:\", a is b)"
   ]
  },
  {
   "cell_type": "markdown",
   "id": "bcd6b14a",
   "metadata": {},
   "source": [
    "### 2. **두 번째 방법**\n",
    "\n",
    "- copy() 메서드 사용\n",
    "- copy 메서드는 [:] 에 비해 list, dict, set 모두에 사용 가능\n",
    "- But, 직접 만든 객체, 클래스, 클래스 인스턴스에는 사용 불가,,,"
   ]
  },
  {
   "cell_type": "code",
   "execution_count": 14,
   "id": "4e5b69bb",
   "metadata": {},
   "outputs": [
    {
     "name": "stdout",
     "output_type": "stream",
     "text": [
      "case1\n",
      "a: ['Mon', 'Tue']\n",
      "b: ['Mon', 'Tue', 'Wed']\n",
      "a is b: False \n",
      "\n",
      "case2\n",
      "a: ['Head', ['Sub', 'Sub2']]\n",
      "b: ['Head', ['Sub', 'Sub2']]\n",
      ">> b 객체만 수정했는데 a 객체도 수정되었다!!! 왜??\n"
     ]
    }
   ],
   "source": [
    "# case 1\n",
    "a = [\"Mon\", \"Tue\"]\n",
    "b = a.copy()  # for list, dict, set\n",
    "b.append(\"Wed\")\n",
    "\n",
    "print(\"case1\")\n",
    "print(\"a:\", a)\n",
    "print(\"b:\", b)\n",
    "print(\"a is b:\", a is b, '\\n')\n",
    "\n",
    "# case 2\n",
    "a = [\"Head\", [\"Sub\"]]\n",
    "b = a.copy()  # or a[:]\n",
    "b[1].append(\"Sub2\")\n",
    "\n",
    "print(\"case2\")\n",
    "print(\"a:\", a)\n",
    "print(\"b:\", b)\n",
    "print(\">> b 객체만 수정했는데 a 객체도 수정되었다!!! 왜??\")"
   ]
  },
  {
   "cell_type": "markdown",
   "id": "8fe5ba68",
   "metadata": {},
   "source": [
    "다음과 같이 copy() 로 복사를 해줬음에도 불구하고 b 를 수정하니 a 도 같이 수정되었다. </br>\n",
    "⇒ copy() 메서드는 ***‘얕은 복사’***를 하기 때문에 이러한 문제가 발생한다. </br></br>\n",
    "이런 ***‘얕은 복사’***로 인한 문제점을 해결하기 위해서 파이썬에선 **<module ‘copy’>**가 존재한다."
   ]
  },
  {
   "cell_type": "markdown",
   "id": "804acd64",
   "metadata": {},
   "source": [
    "### 3. **세 번째 방법**\n",
    "\n",
    "- **<module ‘copy’>**\n",
    "    - copy 모듈에는 2가지 메서드만이 존재한다.\n",
    "    1. **copy.copy() method**\n",
    "        - 해당 객체만 메모리를 새로 할당\n",
    "        - 하위 객체들은 메모리 주소 유지\n",
    "        - [:]이나, .copy() 등과 같은 기능\n",
    "\n",
    "        ⇒ a 라는 배열이 있고 둘 다 월, 화를 가리키고 있었고 이걸 복사할 경우  b 라는 리스트 자체는 아예 새로 생성되지만 결국 동일한 월, 화를 가리키고 있다!\n",
    "\n",
    "    2. **copy.deepcopy()**\n",
    "        - 해당 객체와 하위 객체들의 메모리를 새로 할당\n",
    "        - 완전히 새로운 객체를 만든다."
   ]
  },
  {
   "cell_type": "code",
   "execution_count": 12,
   "id": "4a7a4dbf",
   "metadata": {},
   "outputs": [
    {
     "name": "stdout",
     "output_type": "stream",
     "text": [
      "['Head', ['Sub']]\n",
      "['Head', ['Sub', 'Sub2']]\n"
     ]
    }
   ],
   "source": [
    "import copy\n",
    "\n",
    "a = [\"Head\", [\"Sub\"]]\n",
    "b = copy.deepcopy(a)\n",
    "b[1].append(\"Sub2\")\n",
    "\n",
    "print(a)\n",
    "print(b)\n",
    "\n",
    "# [:], .copy() 같이 얕은 복사로 인한 문제 해결!"
   ]
  }
 ],
 "metadata": {
  "kernelspec": {
   "display_name": "Python 3 (ipykernel)",
   "language": "python",
   "name": "python3"
  },
  "language_info": {
   "codemirror_mode": {
    "name": "ipython",
    "version": 3
   },
   "file_extension": ".py",
   "mimetype": "text/x-python",
   "name": "python",
   "nbconvert_exporter": "python",
   "pygments_lexer": "ipython3",
   "version": "3.9.13"
  }
 },
 "nbformat": 4,
 "nbformat_minor": 5
}
