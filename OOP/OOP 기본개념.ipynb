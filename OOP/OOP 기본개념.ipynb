{
 "cells": [
  {
   "cell_type": "markdown",
   "id": "e5662a78",
   "metadata": {},
   "source": [
    "# 객체지향 프로그래밍(OOP) 기본 개념\n",
    "\n",
    "#### 객체지향 프로그래밍: 객체(object) 단위로 데이터와 기능(함수)를 하나로 묶어서 쓰는 언어\n",
    "\n",
    "### Class 란?\n",
    "- 설계도\n",
    "- 속성(attribute)와 동작(method)을 갖는 데이터 타입\n",
    "- 속성(attribute)는 **변수**와 유사\n",
    "- 동작(method)는 **함수**와 유사\n",
    "\n",
    "### Object 란?\n",
    "- 선언된 설계도(Class)를 기반으로 만들어진 실체( **_객체(object) or 인스턴스(instance)_** 라고 한다.)\n",
    "- 선언된 클래스 설계도를 기반으로 매우 많은 **객체/인스턴스** 생성이 가능하다.\n",
    "\n",
    "### 객체지향 프로그램\n",
    "1. 클래스 설계(attribute, method 구성)\n",
    "2. 설계한 클래스를 기반으로 클래스를 코드로 작성\n",
    "3. 클래스를 기반으로 필요한 객체 생성\n",
    "4. 해당 객체의 attribute와 method를 조작하여 프로그램 수행\n",
    "\n",
    "## 1: 객체지향 문법(class, object)\n",
    "\n",
    "#### 1. class 선언하기\n",
    "객체 생성 전 미리 class를 선언해야 한다."
   ]
  },
  {
   "cell_type": "code",
   "execution_count": 1,
   "id": "1fa8da61",
   "metadata": {},
   "outputs": [
    {
     "data": {
      "text/plain": [
       "['__class__',\n",
       " '__delattr__',\n",
       " '__dict__',\n",
       " '__dir__',\n",
       " '__doc__',\n",
       " '__eq__',\n",
       " '__format__',\n",
       " '__ge__',\n",
       " '__getattribute__',\n",
       " '__gt__',\n",
       " '__hash__',\n",
       " '__init__',\n",
       " '__init_subclass__',\n",
       " '__le__',\n",
       " '__lt__',\n",
       " '__module__',\n",
       " '__ne__',\n",
       " '__new__',\n",
       " '__reduce__',\n",
       " '__reduce_ex__',\n",
       " '__repr__',\n",
       " '__setattr__',\n",
       " '__sizeof__',\n",
       " '__str__',\n",
       " '__subclasshook__',\n",
       " '__weakref__']"
      ]
     },
     "execution_count": 1,
     "metadata": {},
     "output_type": "execute_result"
    }
   ],
   "source": [
    "class Quadrangle:\n",
    "    pass\n",
    "\n",
    "class SingleWord:\n",
    "    pass\n",
    "\n",
    "dir(SingleWord)"
   ]
  },
  {
   "cell_type": "markdown",
   "id": "a71a3eee",
   "metadata": {},
   "source": [
    "- 클래스명은 PEP Coding Convention에 가이드된 대로 각 단어의 첫 문자를 대문자로 하는 CapWords 방식을 사용\n",
    "- **dir 함수**: python 내장 함수로 어떤 객체를 인자로 넣어주면 해당 객체가 어떤 변수(attribute)와 메서드(method)를 가지고 있는지 나열"
   ]
  },
  {
   "cell_type": "code",
   "execution_count": 2,
   "id": "eb2383d0",
   "metadata": {},
   "outputs": [],
   "source": [
    "square = Quadrangle()"
   ]
  },
  {
   "cell_type": "code",
   "execution_count": 3,
   "id": "7b9c2729",
   "metadata": {},
   "outputs": [
    {
     "data": {
      "text/plain": [
       "['__class__',\n",
       " '__delattr__',\n",
       " '__dict__',\n",
       " '__dir__',\n",
       " '__doc__',\n",
       " '__eq__',\n",
       " '__format__',\n",
       " '__ge__',\n",
       " '__getattribute__',\n",
       " '__gt__',\n",
       " '__hash__',\n",
       " '__init__',\n",
       " '__init_subclass__',\n",
       " '__le__',\n",
       " '__lt__',\n",
       " '__module__',\n",
       " '__ne__',\n",
       " '__new__',\n",
       " '__reduce__',\n",
       " '__reduce_ex__',\n",
       " '__repr__',\n",
       " '__setattr__',\n",
       " '__sizeof__',\n",
       " '__str__',\n",
       " '__subclasshook__',\n",
       " '__weakref__']"
      ]
     },
     "execution_count": 3,
     "metadata": {},
     "output_type": "execute_result"
    }
   ],
   "source": [
    "dir(square)"
   ]
  },
  {
   "cell_type": "code",
   "execution_count": 4,
   "id": "85c685ac",
   "metadata": {},
   "outputs": [
    {
     "data": {
      "text/plain": [
       "__main__.Quadrangle"
      ]
     },
     "execution_count": 4,
     "metadata": {},
     "output_type": "execute_result"
    }
   ],
   "source": [
    "# 객체 square 는 Quadrangle의 인스턴스\n",
    "type(square)"
   ]
  },
  {
   "cell_type": "markdown",
   "id": "3b571085",
   "metadata": {},
   "source": [
    "#### 2. attribute 넣어보기\n",
    "만들고자 하는 속성 생각하고 넣기"
   ]
  },
  {
   "cell_type": "code",
   "execution_count": 7,
   "id": "d2b5e5a7",
   "metadata": {},
   "outputs": [],
   "source": [
    "class Quadrangle:\n",
    "    width = 0\n",
    "    height = 0\n",
    "    color = \"black\""
   ]
  },
  {
   "cell_type": "code",
   "execution_count": 8,
   "id": "4c446ebe",
   "metadata": {},
   "outputs": [
    {
     "data": {
      "text/plain": [
       "['__class__',\n",
       " '__delattr__',\n",
       " '__dict__',\n",
       " '__dir__',\n",
       " '__doc__',\n",
       " '__eq__',\n",
       " '__format__',\n",
       " '__ge__',\n",
       " '__getattribute__',\n",
       " '__gt__',\n",
       " '__hash__',\n",
       " '__init__',\n",
       " '__init_subclass__',\n",
       " '__le__',\n",
       " '__lt__',\n",
       " '__module__',\n",
       " '__ne__',\n",
       " '__new__',\n",
       " '__reduce__',\n",
       " '__reduce_ex__',\n",
       " '__repr__',\n",
       " '__setattr__',\n",
       " '__sizeof__',\n",
       " '__str__',\n",
       " '__subclasshook__',\n",
       " '__weakref__',\n",
       " 'color',\n",
       " 'height',\n",
       " 'width']"
      ]
     },
     "execution_count": 8,
     "metadata": {},
     "output_type": "execute_result"
    }
   ],
   "source": [
    "# width, height, color attribute 확인하기\n",
    "dir(Quadrangle)"
   ]
  },
  {
   "cell_type": "code",
   "execution_count": 10,
   "id": "d0af159c",
   "metadata": {},
   "outputs": [
    {
     "data": {
      "text/plain": [
       "'black'"
      ]
     },
     "execution_count": 10,
     "metadata": {},
     "output_type": "execute_result"
    }
   ],
   "source": [
    "square1 = Quadrangle()\n",
    "square2 = Quadrangle()\n",
    "\n",
    "# 객체(object)의 attribute 접근하기: 객체명.attribute명\n",
    "square1.color"
   ]
  },
  {
   "cell_type": "code",
   "execution_count": 12,
   "id": "8e67bc2a",
   "metadata": {},
   "outputs": [
    {
     "name": "stdout",
     "output_type": "stream",
     "text": [
      "black\n",
      "red\n"
     ]
    }
   ],
   "source": [
    "square1.color = 'red'\n",
    "print(square2.color)\n",
    "print(square1.color)"
   ]
  },
  {
   "cell_type": "markdown",
   "id": "84e901d6",
   "metadata": {},
   "source": [
    "#### 3. method 넣어보기\n",
    "사각형 넓이 구하는 기능"
   ]
  },
  {
   "cell_type": "code",
   "execution_count": 14,
   "id": "2db903b6",
   "metadata": {},
   "outputs": [],
   "source": [
    "class Quadrangle:\n",
    "    width = 0\n",
    "    height = 0\n",
    "    color = 'black'\n",
    "    \n",
    "    # 사각형 넓이 method\n",
    "    def get_area(self):\n",
    "        return self.width * self.height\n",
    "    \n",
    "    # 사각형 width, height 설정 method\n",
    "    def set_area(self, width, height):\n",
    "        self.width = width\n",
    "        self.height = height"
   ]
  },
  {
   "cell_type": "markdown",
   "id": "0232dc96",
   "metadata": {},
   "source": [
    "- 파이썬 method는 항상 첫 번째 파라미터로 self 사용\n",
    "    - 인자가 필요없을 때도 self는 사용\n",
    "- 클래스의 attribute는 내부에서 접근시, **self.attribute명**으로 접근"
   ]
  },
  {
   "cell_type": "code",
   "execution_count": 17,
   "id": "64e6e767",
   "metadata": {},
   "outputs": [
    {
     "name": "stdout",
     "output_type": "stream",
     "text": [
      "10\n",
      "30\n"
     ]
    }
   ],
   "source": [
    "# 객체 method 접근하기\n",
    "square = Quadrangle()\n",
    "square.set_area(10, 3)\n",
    "print(square.width)\n",
    "print(square.get_area())"
   ]
  },
  {
   "cell_type": "markdown",
   "id": "95f72721",
   "metadata": {},
   "source": [
    "## 2: 객체지향 문법(생성자와 소멸자 메서드)\n",
    "- **생성자**는 객체 생성시 자동 호출, **소멸자**는 객체 소멸시 자동 호출\n",
    "\n",
    "#### 생성자: __init__(self)\n",
    "- method 이므로 첫 번째 인자는 self로 설정\n",
    "- 생성자에서는 보통 해당 클래스가 다루는 attribute 정의"
   ]
  },
  {
   "cell_type": "code",
   "execution_count": 18,
   "id": "495ba2a6",
   "metadata": {},
   "outputs": [],
   "source": [
    "class Quadrangle:\n",
    "    def __init__(self, width, height, color):\n",
    "        self.width = width\n",
    "        self.height = height\n",
    "        self.color = color"
   ]
  },
  {
   "cell_type": "code",
   "execution_count": 19,
   "id": "eb254487",
   "metadata": {},
   "outputs": [],
   "source": [
    "square = Quadrangle(5, 5, 'blue')"
   ]
  },
  {
   "cell_type": "code",
   "execution_count": 20,
   "id": "5f49e0ea",
   "metadata": {},
   "outputs": [
    {
     "name": "stdout",
     "output_type": "stream",
     "text": [
      "5 5 blue\n"
     ]
    }
   ],
   "source": [
    "print(square.width, square.height, square.color)"
   ]
  },
  {
   "cell_type": "markdown",
   "id": "b1b70ae9",
   "metadata": {},
   "source": [
    "#### 소멸자: __del__(self)\n",
    "- method 이므로 첫 번째 인자는 self 로 설정\n",
    "- 클래스 소멸시 호출"
   ]
  },
  {
   "cell_type": "code",
   "execution_count": 21,
   "id": "53f7ad96",
   "metadata": {},
   "outputs": [],
   "source": [
    "class Quadrangle:\n",
    "    def __init__(self, width, height, color):\n",
    "        self.width = width\n",
    "        self.height = height\n",
    "        self.color = color\n",
    "    \n",
    "    def __del__(self):\n",
    "        print(\"Quadrangle object is deleted!\")"
   ]
  },
  {
   "cell_type": "code",
   "execution_count": 22,
   "id": "0c4fb6a2",
   "metadata": {},
   "outputs": [],
   "source": [
    "square = Quadrangle(5, 5, 'black')"
   ]
  },
  {
   "cell_type": "code",
   "execution_count": 23,
   "id": "401753bc",
   "metadata": {},
   "outputs": [
    {
     "name": "stdout",
     "output_type": "stream",
     "text": [
      "Quadrangle object is deleted!\n"
     ]
    }
   ],
   "source": [
    "# 객체 삭제 문법: del 객체명\n",
    "del square"
   ]
  },
  {
   "cell_type": "markdown",
   "id": "13d171b7",
   "metadata": {},
   "source": [
    "#### 문제: 정삼각형 클래스 만들고 넓이 출력하기"
   ]
  },
  {
   "cell_type": "code",
   "execution_count": 25,
   "id": "d37c1dcb",
   "metadata": {},
   "outputs": [
    {
     "data": {
      "text/plain": [
       "86.60254037844386"
      ]
     },
     "execution_count": 25,
     "metadata": {},
     "output_type": "execute_result"
    }
   ],
   "source": [
    "import math\n",
    "\n",
    "class Quadrangle:\n",
    "    def __init__(self, length):\n",
    "        self.length = length\n",
    "    \n",
    "    def get_area(self):\n",
    "        return (math.sqrt(3) / 2) * self.length**2\n",
    "    \n",
    "    def __del__(self):\n",
    "        print(\"Quadrangle object is deleted!\")\n",
    "\n",
    "square = Quadrangle(10)\n",
    "square.get_area()"
   ]
  },
  {
   "cell_type": "markdown",
   "id": "df33e723",
   "metadata": {},
   "source": [
    "## 3. 객체지향 문법(public, private, protected)\n",
    "\n",
    "#### private, protected, public\n",
    "- 정보 은닉(Information Hiding) 방식\n",
    "    - class의 attribute, method 에 대해 **접근을 제어**할 수 있는 기능\n",
    "- private -> protected -> public\n",
    "    - private: private로 선언된 attribute, method는 해당 클래스에서만 접근 가능\n",
    "    - protected: protected로 선언된 attribute, method는 해당 클래스 또는 해당 클래스를 **상속**받은 클래스에서만 접근 가능\n",
    "    - public: public으로 선언된 attribute, method는 어떤 클래스라도 접근 가능\n",
    "\n",
    "#### Python 에서 private, protected, public\n",
    "- java, c++언어 등의 객체지향 언어와 달리, 파이썬에서는 모든 attribute, method는 기본적으로 public\n",
    "- 즉, 클래스 외부에서 attribute, method 접근 가능(사용 가능)\n",
    "\n",
    "### public"
   ]
  },
  {
   "cell_type": "code",
   "execution_count": 26,
   "id": "2c53ba6e",
   "metadata": {},
   "outputs": [],
   "source": [
    "class Quadrangle:\n",
    "    def __init__(self, width, height, color):\n",
    "        self.width = width\n",
    "        self.height = height\n",
    "        self.color = color\n",
    "    \n",
    "    def get_area(self):\n",
    "        return self.width * self.height\n",
    "    \n",
    "    def set_area(self, width, height):\n",
    "        self.width = width\n",
    "        self.height = height"
   ]
  },
  {
   "cell_type": "code",
   "execution_count": 28,
   "id": "da59ba57",
   "metadata": {},
   "outputs": [
    {
     "name": "stdout",
     "output_type": "stream",
     "text": [
      "5 5 black\n"
     ]
    }
   ],
   "source": [
    "square = Quadrangle(5, 5, \"black\")\n",
    "print(square.width, square.height, square.color)"
   ]
  },
  {
   "cell_type": "code",
   "execution_count": 29,
   "id": "b25a5712",
   "metadata": {},
   "outputs": [
    {
     "data": {
      "text/plain": [
       "['__class__',\n",
       " '__delattr__',\n",
       " '__dict__',\n",
       " '__dir__',\n",
       " '__doc__',\n",
       " '__eq__',\n",
       " '__format__',\n",
       " '__ge__',\n",
       " '__getattribute__',\n",
       " '__gt__',\n",
       " '__hash__',\n",
       " '__init__',\n",
       " '__init_subclass__',\n",
       " '__le__',\n",
       " '__lt__',\n",
       " '__module__',\n",
       " '__ne__',\n",
       " '__new__',\n",
       " '__reduce__',\n",
       " '__reduce_ex__',\n",
       " '__repr__',\n",
       " '__setattr__',\n",
       " '__sizeof__',\n",
       " '__str__',\n",
       " '__subclasshook__',\n",
       " '__weakref__',\n",
       " 'color',\n",
       " 'get_area',\n",
       " 'height',\n",
       " 'set_area',\n",
       " 'width']"
      ]
     },
     "execution_count": 29,
     "metadata": {},
     "output_type": "execute_result"
    }
   ],
   "source": [
    "dir(square)"
   ]
  },
  {
   "cell_type": "markdown",
   "id": "d653942e",
   "metadata": {},
   "source": [
    "### protected\n",
    "- python에서는 해당 속성의 앞에 **\\_(sigle underscore)를 붙여서 표시만 함.**\n",
    "- 실제 **제약되지는 않고 일종의 경고 표시로 사용**"
   ]
  },
  {
   "cell_type": "code",
   "execution_count": 38,
   "id": "ca1c6477",
   "metadata": {},
   "outputs": [],
   "source": [
    "class Quadrangle:\n",
    "    def __init__(self, width, height, color):\n",
    "        self._width = width\n",
    "        self._height = height\n",
    "        self._color = color\n",
    "    \n",
    "    def get_area(self):\n",
    "        return self._width * self._height\n",
    "    \n",
    "    def set_area(self, width, height):\n",
    "        self._width = width\n",
    "        self._height = height"
   ]
  },
  {
   "cell_type": "code",
   "execution_count": 39,
   "id": "55d57234",
   "metadata": {},
   "outputs": [
    {
     "name": "stdout",
     "output_type": "stream",
     "text": [
      "15\n"
     ]
    }
   ],
   "source": [
    "square = Quadrangle(5, 5, \"black\")\n",
    "square.set_area(3, 5)\n",
    "print(square.get_area())"
   ]
  },
  {
   "cell_type": "code",
   "execution_count": 40,
   "id": "0dc1ad04",
   "metadata": {},
   "outputs": [
    {
     "data": {
      "text/plain": [
       "['__class__',\n",
       " '__delattr__',\n",
       " '__dict__',\n",
       " '__dir__',\n",
       " '__doc__',\n",
       " '__eq__',\n",
       " '__format__',\n",
       " '__ge__',\n",
       " '__getattribute__',\n",
       " '__gt__',\n",
       " '__hash__',\n",
       " '__init__',\n",
       " '__init_subclass__',\n",
       " '__le__',\n",
       " '__lt__',\n",
       " '__module__',\n",
       " '__ne__',\n",
       " '__new__',\n",
       " '__reduce__',\n",
       " '__reduce_ex__',\n",
       " '__repr__',\n",
       " '__setattr__',\n",
       " '__sizeof__',\n",
       " '__str__',\n",
       " '__subclasshook__',\n",
       " '__weakref__',\n",
       " '_color',\n",
       " '_height',\n",
       " '_width',\n",
       " 'get_area',\n",
       " 'set_area']"
      ]
     },
     "execution_count": 40,
     "metadata": {},
     "output_type": "execute_result"
    }
   ],
   "source": [
    "dir(square)"
   ]
  },
  {
   "cell_type": "markdown",
   "id": "eda94601",
   "metadata": {},
   "source": [
    "### private\n",
    "- Python 에서는 attribute, method 앞에 \\_\\_(double underscore)를 붙이면 실제로 해당 이름으로 접근이 허용되지 않는다.\n",
    "- 실은 \\_\\_(double underscore)를 붙이면, 해당 이름이 \\_classname\\_\\_ 해당 속성 또는 메서드 이름으로 변경되기 때문이다."
   ]
  },
  {
   "cell_type": "code",
   "execution_count": 44,
   "id": "9cc7e6ad",
   "metadata": {},
   "outputs": [],
   "source": [
    "class Quadrangle:\n",
    "    def __init__(self, width, height, color):\n",
    "        self.__width = width\n",
    "        self.__height = height\n",
    "        self.__color = color\n",
    "    \n",
    "    def get_area(self):\n",
    "        return self.__width * self.__height\n",
    "    \n",
    "    def __set_area(self, width, height):\n",
    "        self.__width = width\n",
    "        self.__height = height"
   ]
  },
  {
   "cell_type": "code",
   "execution_count": 45,
   "id": "366ee96c",
   "metadata": {},
   "outputs": [],
   "source": [
    "square = Quadrangle(5, 5, 'black')"
   ]
  },
  {
   "cell_type": "code",
   "execution_count": 46,
   "id": "9052e797",
   "metadata": {},
   "outputs": [
    {
     "data": {
      "text/plain": [
       "['_Quadrangle__color',\n",
       " '_Quadrangle__height',\n",
       " '_Quadrangle__set_area',\n",
       " '_Quadrangle__width',\n",
       " '__class__',\n",
       " '__delattr__',\n",
       " '__dict__',\n",
       " '__dir__',\n",
       " '__doc__',\n",
       " '__eq__',\n",
       " '__format__',\n",
       " '__ge__',\n",
       " '__getattribute__',\n",
       " '__gt__',\n",
       " '__hash__',\n",
       " '__init__',\n",
       " '__init_subclass__',\n",
       " '__le__',\n",
       " '__lt__',\n",
       " '__module__',\n",
       " '__ne__',\n",
       " '__new__',\n",
       " '__reduce__',\n",
       " '__reduce_ex__',\n",
       " '__repr__',\n",
       " '__setattr__',\n",
       " '__sizeof__',\n",
       " '__str__',\n",
       " '__subclasshook__',\n",
       " '__weakref__',\n",
       " 'get_area']"
      ]
     },
     "execution_count": 46,
     "metadata": {},
     "output_type": "execute_result"
    }
   ],
   "source": [
    "dir(square)"
   ]
  },
  {
   "cell_type": "code",
   "execution_count": 48,
   "id": "b0c90743",
   "metadata": {},
   "outputs": [
    {
     "ename": "AttributeError",
     "evalue": "'Quadrangle' object has no attribute 'width'",
     "output_type": "error",
     "traceback": [
      "\u001b[0;31m---------------------------------------------------------------------------\u001b[0m",
      "\u001b[0;31mAttributeError\u001b[0m                            Traceback (most recent call last)",
      "Input \u001b[0;32mIn [48]\u001b[0m, in \u001b[0;36m<cell line: 1>\u001b[0;34m()\u001b[0m\n\u001b[0;32m----> 1\u001b[0m \u001b[38;5;28mprint\u001b[39m(\u001b[43msquare\u001b[49m\u001b[38;5;241;43m.\u001b[39;49m\u001b[43mwidth\u001b[49m)\n",
      "\u001b[0;31mAttributeError\u001b[0m: 'Quadrangle' object has no attribute 'width'"
     ]
    }
   ],
   "source": [
    "print(square.width)"
   ]
  },
  {
   "cell_type": "code",
   "execution_count": 49,
   "id": "7e23d0dd",
   "metadata": {},
   "outputs": [
    {
     "name": "stdout",
     "output_type": "stream",
     "text": [
      "25\n"
     ]
    }
   ],
   "source": [
    "print(square.get_area())"
   ]
  },
  {
   "cell_type": "markdown",
   "id": "66614773",
   "metadata": {},
   "source": [
    "#### 문제: 학생 성적 관리 class 관리\n",
    "- attribute: 국어, 영어, 수학, 학생 이름 4 개의 속성\n",
    "- 생성자에서 각 속성을 객체 생성시 전달된 인자값을 설정\n",
    "- 각 속성은 private 으로 설정\n",
    "- method: 전체 과목 점수 평균, 전체 과목 총점 두 가지 method 구현\n",
    "- 각 method 는 private 으로 설정"
   ]
  },
  {
   "cell_type": "code",
   "execution_count": 58,
   "id": "1ad67f9d",
   "metadata": {},
   "outputs": [],
   "source": [
    "class Student:\n",
    "    def __init__(self, kor, eng, math, name):\n",
    "        self.__k_score = kor\n",
    "        self.__e_score = eng\n",
    "        self.__m_score = math\n",
    "        self.__name = name\n",
    "    \n",
    "    def get_avg(self):\n",
    "        return self.get_total_score() / 3\n",
    "\n",
    "    def get_total_score(self):\n",
    "        return self.__k_score + self.__e_score + self.__m_score\n",
    "    \n",
    "    def get_info(self):\n",
    "        print(self.__k_score)"
   ]
  },
  {
   "cell_type": "code",
   "execution_count": 60,
   "id": "8caa9818",
   "metadata": {},
   "outputs": [
    {
     "name": "stdout",
     "output_type": "stream",
     "text": [
      "240 80.0\n",
      "80\n"
     ]
    }
   ],
   "source": [
    "student1 = Student(80, 70, 90, '지호')\n",
    "print(student1.get_total_score(), student1.get_avg())\n",
    "student1.get_info()"
   ]
  },
  {
   "cell_type": "code",
   "execution_count": 53,
   "id": "95c4fea6",
   "metadata": {},
   "outputs": [
    {
     "ename": "AttributeError",
     "evalue": "'Student' object has no attribute '__k_score'",
     "output_type": "error",
     "traceback": [
      "\u001b[0;31m---------------------------------------------------------------------------\u001b[0m",
      "\u001b[0;31mAttributeError\u001b[0m                            Traceback (most recent call last)",
      "Input \u001b[0;32mIn [53]\u001b[0m, in \u001b[0;36m<cell line: 1>\u001b[0;34m()\u001b[0m\n\u001b[0;32m----> 1\u001b[0m \u001b[43mstudent1\u001b[49m\u001b[38;5;241;43m.\u001b[39;49m\u001b[43m__k_score\u001b[49m\n",
      "\u001b[0;31mAttributeError\u001b[0m: 'Student' object has no attribute '__k_score'"
     ]
    }
   ],
   "source": [
    "student1.__k_score"
   ]
  },
  {
   "cell_type": "markdown",
   "id": "84ea92f7",
   "metadata": {},
   "source": [
    "## 4. 객체지향 문법(Inheritance)\n",
    "\n",
    "### Class Inheritance(상속)\n",
    "- **추상화(abstraction)**: 여러 클래스에 중복되는 속성 or 메서드를 하나의 기본 클래스로 작성하는 작업\n",
    "- **상속(inheritance)**: 기본 클래스의 공통 기능을 물려받고, 다른 부분만 추가 또는 변경하는 것\n",
    "    - 이 때 기본 클래스는 부모 클래스(또는 상위 클래스), Parent, Super, Base class 라고 부른다.\n",
    "    - 기본 클래스 기능을 물려받는 클래스는 자식 클래스(또는 하위 클래스), Child, Sub, Derived class 라고 부른다.\n",
    "- 코드 재사용이 가능, 공통 기능의 경우 기본 클래스 코드만 수정하면 된다는 장점\n",
    "- 부모 클래스가 둘 이상인 경우는 **다중 상속** 이라 부른다.\n",
    "\n",
    "### 예) 사각형, 삼각형, 원 클래스\n",
    "- 부모 클래스를 자식 클래스에 인자로 넣으면 상속이 된다.\n",
    "    - 다음 코드는 \\_\\_init\\_\\_(self, name, color) 메서드가 상속되고,\n",
    "    - self.name과 self.color 도 \\_\\_init\\_\\_ 실행시 생성됨."
   ]
  },
  {
   "cell_type": "code",
   "execution_count": 72,
   "id": "55f40892",
   "metadata": {},
   "outputs": [],
   "source": [
    "class Figure:\n",
    "    def __init__(self, name, color):\n",
    "        self.__name = name\n",
    "        self.__color = color"
   ]
  },
  {
   "cell_type": "code",
   "execution_count": 73,
   "id": "ea071fc4",
   "metadata": {},
   "outputs": [],
   "source": [
    "class Quadrangle(Figure):\n",
    "    def set_area(self, width, height):\n",
    "        self.__width = width\n",
    "        self.__height = height\n",
    "    \n",
    "    def get_info(self):\n",
    "        print(self.__name, self.__color, self.__width * self.__height)"
   ]
  },
  {
   "cell_type": "code",
   "execution_count": 56,
   "id": "7f3fbaca",
   "metadata": {},
   "outputs": [
    {
     "ename": "TypeError",
     "evalue": "__init__() missing 2 required positional arguments: 'name' and 'color'",
     "output_type": "error",
     "traceback": [
      "\u001b[0;31m---------------------------------------------------------------------------\u001b[0m",
      "\u001b[0;31mTypeError\u001b[0m                                 Traceback (most recent call last)",
      "Input \u001b[0;32mIn [56]\u001b[0m, in \u001b[0;36m<cell line: 1>\u001b[0;34m()\u001b[0m\n\u001b[0;32m----> 1\u001b[0m square \u001b[38;5;241m=\u001b[39m \u001b[43mQuadrangle\u001b[49m\u001b[43m(\u001b[49m\u001b[43m)\u001b[49m\n",
      "\u001b[0;31mTypeError\u001b[0m: __init__() missing 2 required positional arguments: 'name' and 'color'"
     ]
    }
   ],
   "source": [
    "square = Quadrangle()"
   ]
  },
  {
   "cell_type": "code",
   "execution_count": 64,
   "id": "d1589765",
   "metadata": {},
   "outputs": [
    {
     "ename": "AttributeError",
     "evalue": "'Quadrangle' object has no attribute '_Quadrangle__name'",
     "output_type": "error",
     "traceback": [
      "\u001b[0;31m---------------------------------------------------------------------------\u001b[0m",
      "\u001b[0;31mAttributeError\u001b[0m                            Traceback (most recent call last)",
      "Input \u001b[0;32mIn [64]\u001b[0m, in \u001b[0;36m<cell line: 3>\u001b[0;34m()\u001b[0m\n\u001b[1;32m      1\u001b[0m square \u001b[38;5;241m=\u001b[39m Quadrangle(\u001b[38;5;124m'\u001b[39m\u001b[38;5;124m직사각형\u001b[39m\u001b[38;5;124m'\u001b[39m, \u001b[38;5;124m'\u001b[39m\u001b[38;5;124mgreen\u001b[39m\u001b[38;5;124m'\u001b[39m)\n\u001b[1;32m      2\u001b[0m square\u001b[38;5;241m.\u001b[39mset_area(\u001b[38;5;241m5\u001b[39m, \u001b[38;5;241m10\u001b[39m)\n\u001b[0;32m----> 3\u001b[0m \u001b[43msquare\u001b[49m\u001b[38;5;241;43m.\u001b[39;49m\u001b[43mget_info\u001b[49m\u001b[43m(\u001b[49m\u001b[43m)\u001b[49m\n",
      "Input \u001b[0;32mIn [63]\u001b[0m, in \u001b[0;36mQuadrangle.get_info\u001b[0;34m(self)\u001b[0m\n\u001b[1;32m      6\u001b[0m \u001b[38;5;28;01mdef\u001b[39;00m \u001b[38;5;21mget_info\u001b[39m(\u001b[38;5;28mself\u001b[39m):\n\u001b[0;32m----> 7\u001b[0m     \u001b[38;5;28mprint\u001b[39m(\u001b[38;5;28;43mself\u001b[39;49m\u001b[38;5;241;43m.\u001b[39;49m\u001b[43m__name\u001b[49m, \u001b[38;5;28mself\u001b[39m\u001b[38;5;241m.\u001b[39m__color, \u001b[38;5;28mself\u001b[39m\u001b[38;5;241m.\u001b[39m__width \u001b[38;5;241m*\u001b[39m \u001b[38;5;28mself\u001b[39m\u001b[38;5;241m.\u001b[39m__height)\n",
      "\u001b[0;31mAttributeError\u001b[0m: 'Quadrangle' object has no attribute '_Quadrangle__name'"
     ]
    }
   ],
   "source": [
    "square = Quadrangle('직사각형', 'green')\n",
    "square.set_area(5, 10)\n",
    "square.get_info()"
   ]
  },
  {
   "cell_type": "markdown",
   "id": "7af4de67",
   "metadata": {},
   "source": [
    "바로 위의 코드의 경우 private 설정된 부모의 attribute는 자식 클래스 내에서 접근이 불가!"
   ]
  },
  {
   "cell_type": "code",
   "execution_count": 69,
   "id": "32fc557c",
   "metadata": {},
   "outputs": [
    {
     "data": {
      "text/plain": [
       "['_Figure__color',\n",
       " '_Figure__name',\n",
       " '_Quadrangle__height',\n",
       " '_Quadrangle__width',\n",
       " '__class__',\n",
       " '__delattr__',\n",
       " '__dict__',\n",
       " '__dir__',\n",
       " '__doc__',\n",
       " '__eq__',\n",
       " '__format__',\n",
       " '__ge__',\n",
       " '__getattribute__',\n",
       " '__gt__',\n",
       " '__hash__',\n",
       " '__init__',\n",
       " '__init_subclass__',\n",
       " '__le__',\n",
       " '__lt__',\n",
       " '__module__',\n",
       " '__ne__',\n",
       " '__new__',\n",
       " '__reduce__',\n",
       " '__reduce_ex__',\n",
       " '__repr__',\n",
       " '__setattr__',\n",
       " '__sizeof__',\n",
       " '__str__',\n",
       " '__subclasshook__',\n",
       " '__weakref__',\n",
       " 'get_info',\n",
       " 'set_area']"
      ]
     },
     "execution_count": 69,
     "metadata": {},
     "output_type": "execute_result"
    }
   ],
   "source": [
    "dir(square)"
   ]
  },
  {
   "cell_type": "markdown",
   "id": "10e8bd7f",
   "metadata": {},
   "source": [
    "### 상속 관계인 클래스 확인하기\n",
    "- 내장함수 **issubclass(자식 클래스, 부모 클래스)** 사용하기"
   ]
  },
  {
   "cell_type": "code",
   "execution_count": 74,
   "id": "dbd648ab",
   "metadata": {},
   "outputs": [
    {
     "data": {
      "text/plain": [
       "True"
      ]
     },
     "execution_count": 74,
     "metadata": {},
     "output_type": "execute_result"
    }
   ],
   "source": [
    "# Quadrangle 클래스가 Figure 클래스의 자식 클래스인지 확인\n",
    "issubclass(Quadrangle, Figure)"
   ]
  },
  {
   "cell_type": "markdown",
   "id": "742ec93f",
   "metadata": {},
   "source": [
    "### 클래스와 객체간의 관계 확인하기\n",
    "- 내장함수 **isinstance(객체, 클래스)** 사용하기"
   ]
  },
  {
   "cell_type": "code",
   "execution_count": 75,
   "id": "3519ab5d",
   "metadata": {},
   "outputs": [],
   "source": [
    "figure = Figure('figure1', 'black')\n",
    "square = Quadrangle('square', 'red')"
   ]
  },
  {
   "cell_type": "code",
   "execution_count": 77,
   "id": "16c391d3",
   "metadata": {},
   "outputs": [
    {
     "name": "stdout",
     "output_type": "stream",
     "text": [
      "True\n",
      "True\n",
      "False\n",
      "True\n"
     ]
    }
   ],
   "source": [
    "print(isinstance(figure, Figure))\n",
    "print(isinstance(square, Figure))\n",
    "print(isinstance(figure, Quadrangle))\n",
    "print(isinstance(square, Quadrangle))"
   ]
  },
  {
   "cell_type": "markdown",
   "id": "1ff885bf",
   "metadata": {},
   "source": [
    "## 예: 사람, 학생, 직원"
   ]
  },
  {
   "cell_type": "code",
   "execution_count": 78,
   "id": "baa7f91a",
   "metadata": {},
   "outputs": [],
   "source": [
    "# 클래스 선언\n",
    "class Person:\n",
    "    def __init__(self, name):\n",
    "        self.name = name\n",
    "\n",
    "class Student(Person):\n",
    "    def study(self):\n",
    "        print(self.name + \" studies hard\")\n",
    "\n",
    "class Employee(Person):\n",
    "    def work(self):\n",
    "        print(self.name + \" works hard\")"
   ]
  },
  {
   "cell_type": "code",
   "execution_count": 79,
   "id": "4e4d8e87",
   "metadata": {},
   "outputs": [],
   "source": [
    "# 객체(인스턴스) 생성\n",
    "student = Student(\"Jiho\")\n",
    "employee = Employee(\"Who\")"
   ]
  },
  {
   "cell_type": "code",
   "execution_count": 80,
   "id": "c2af2cf6",
   "metadata": {},
   "outputs": [
    {
     "name": "stdout",
     "output_type": "stream",
     "text": [
      "Jiho studies hard\n",
      "Who works hard\n"
     ]
    }
   ],
   "source": [
    "# 객체 실행\n",
    "student.study()\n",
    "employee.work()"
   ]
  },
  {
   "cell_type": "markdown",
   "id": "b4e9bcbb",
   "metadata": {},
   "source": [
    "### Method Override(메서드 재정의)\n",
    "- 부모 클래스의 method를 자식 클래스에서 재정의(override)\n",
    "- 자식 클래스 객체에서는 재정의된 메서드가 호출된다.\n",
    "- 자식 클래스에서 부모 클래스의 메서드와 이름만 동일하면 메서드 재정의가 가능하다.\n",
    "    - C++/Java 언어 등에서는 메서드와 인자도 동일해야 한다."
   ]
  },
  {
   "cell_type": "code",
   "execution_count": 81,
   "id": "befd1dff",
   "metadata": {},
   "outputs": [],
   "source": [
    "# 클래스 선언\n",
    "class Person:\n",
    "    def __init__(self, name):\n",
    "        self.name = name\n",
    "    \n",
    "    def work(self):\n",
    "        print(self.name + \" works hard!\")\n",
    "    \n",
    "class Student(Person):\n",
    "    def work(self):\n",
    "        print(self.name + \" studies hard!\")"
   ]
  },
  {
   "cell_type": "code",
   "execution_count": 82,
   "id": "17227fcb",
   "metadata": {},
   "outputs": [
    {
     "name": "stdout",
     "output_type": "stream",
     "text": [
      "Jiho studies hard!\n"
     ]
    }
   ],
   "source": [
    "# 객체 생성\n",
    "student1 = Student(\"Jiho\")\n",
    "# 자식 클래스(Student)의 재정의된 work(self) 호출\n",
    "student1.work()"
   ]
  },
  {
   "cell_type": "markdown",
   "id": "55b6d53b",
   "metadata": {},
   "source": [
    "#### Child, Sub 클래스에 메서드를 더 추가 가능!"
   ]
  },
  {
   "cell_type": "code",
   "execution_count": 83,
   "id": "c01d7da3",
   "metadata": {},
   "outputs": [],
   "source": [
    "# 클래스 선언\n",
    "class Person:\n",
    "    def work(self):\n",
    "        print(\"Work hard!\")\n",
    "    \n",
    "class Student(Person):\n",
    "    def work(self):\n",
    "        print(\"Study hard!\")\n",
    "    \n",
    "    def go_to_school(self):\n",
    "        print(\"Go to school!\")"
   ]
  },
  {
   "cell_type": "code",
   "execution_count": 96,
   "id": "6ea190cb",
   "metadata": {},
   "outputs": [],
   "source": [
    "# 예: Car, Eletronic Car, Gasoline Car class 생성\n",
    "class Car:\n",
    "    def __init__(self, name):\n",
    "        self.name = name\n",
    "    \n",
    "    def get_info(self):\n",
    "        print(self.name)\n",
    "\n",
    "class ElecCar(Car):\n",
    "    def get_info(self):\n",
    "        print(self.name, 'Fuel: Electronic')\n",
    "\n",
    "class GasoCar(Car):\n",
    "    def get_info(self):\n",
    "        print(self.name, 'Fuel: Gasoline')"
   ]
  },
  {
   "cell_type": "code",
   "execution_count": 99,
   "id": "fc94d4eb",
   "metadata": {},
   "outputs": [
    {
     "name": "stdout",
     "output_type": "stream",
     "text": [
      "전기 자동차 Fuel: Electronic\n",
      "None\n",
      "가솔린 자동차 Fuel: Gasoline\n",
      "None\n"
     ]
    }
   ],
   "source": [
    "elec = ElecCar('전기 자동차')\n",
    "gaso = GasoCar('가솔린 자동차')\n",
    "print(elec.get_info())\n",
    "print(gaso.get_info())"
   ]
  },
  {
   "cell_type": "markdown",
   "id": "0e16158f",
   "metadata": {},
   "source": [
    "### 자식 클래스에서 부모 클래스 메서드 호출(super, self)\n",
    "### super\n",
    "- 자식 클래스에서 부모 클래스의 method를 호출할 때 사용\n",
    "    - **super().부모 클래스의 method명**\n",
    "    \n",
    "### self\n",
    "- self는 현재의 객체를 나타냄\n",
    "    - self.method명 or attribute명 으로 호출\n",
    "- C++/C#, Java언어에서는 this 라는 키워드 사용    "
   ]
  },
  {
   "cell_type": "code",
   "execution_count": 100,
   "id": "b848592a",
   "metadata": {},
   "outputs": [],
   "source": [
    "# 클래스 선언\n",
    "class person:\n",
    "    def work(self):\n",
    "        print('Work hard!')\n",
    "\n",
    "class Student(Person):\n",
    "    def work(self):\n",
    "        print('Study hard!')\n",
    "    \n",
    "    def parttime(self):\n",
    "        super().work()\n",
    "    \n",
    "    def general(self):\n",
    "        self.work()"
   ]
  },
  {
   "cell_type": "code",
   "execution_count": 101,
   "id": "1bcfc7c5",
   "metadata": {},
   "outputs": [
    {
     "name": "stdout",
     "output_type": "stream",
     "text": [
      "Study hard!\n",
      "Work hard!\n",
      "Study hard!\n"
     ]
    }
   ],
   "source": [
    "student = Student()\n",
    "student.work()\n",
    "student.parttime()\n",
    "student.general()"
   ]
  },
  {
   "cell_type": "markdown",
   "id": "d37e9208",
   "metadata": {},
   "source": [
    "### 자식 클래스에서 부모 클래스 메서드 확장하는 방법(심화)\n",
    "- 부모 클래스 메서드 기능에 추가적인 기능이 필요한 경우\n",
    "    - 부모 클래스 메서드는 그대로 이용하면서 자식 클래스 메서드에서 필요한 기능만 정의하는 기법\n",
    "    - 해당 메서드에서 상속 받은 **클래스명.메서드명** 을 호출하고, 필요한 기능 추가 정의"
   ]
  },
  {
   "cell_type": "code",
   "execution_count": 102,
   "id": "bd4893ee",
   "metadata": {},
   "outputs": [],
   "source": [
    "class Person:\n",
    "    def work(self):\n",
    "        print('Work Hard!')\n",
    "\n",
    "class Student(Person):\n",
    "    def work(self):\n",
    "        Person.work(self) # 부모 클래스 메서드 호출\n",
    "        print('Study Hard!')"
   ]
  },
  {
   "cell_type": "code",
   "execution_count": 103,
   "id": "0f1e47da",
   "metadata": {},
   "outputs": [
    {
     "name": "stdout",
     "output_type": "stream",
     "text": [
      "Work Hard!\n",
      "Study Hard!\n"
     ]
    }
   ],
   "source": [
    "student = Student()\n",
    "student.work()"
   ]
  },
  {
   "cell_type": "code",
   "execution_count": 105,
   "id": "e202a647",
   "metadata": {},
   "outputs": [],
   "source": [
    "class Figure:\n",
    "    # 생성자 (initializer)\n",
    "    def __init__(self, width, height):\n",
    "        self.width = width\n",
    "        self.height = height\n",
    "    \n",
    "    def print_info(self):\n",
    "        print('사이즈: ', self.width, self.height)\n",
    "\n",
    "class Rectangle(Figure):\n",
    "    def print_info(self):\n",
    "        Figure.print_info(self) # 부모 클래스 메서드 호출\n",
    "        print('너비: ', self.width * self.height)"
   ]
  },
  {
   "cell_type": "code",
   "execution_count": 108,
   "id": "471472dc",
   "metadata": {},
   "outputs": [
    {
     "name": "stdout",
     "output_type": "stream",
     "text": [
      "사이즈:  10 20\n",
      "너비:  200\n"
     ]
    }
   ],
   "source": [
    "rectangle = Rectangle(10, 20)\n",
    "rectangle.print_info()"
   ]
  },
  {
   "cell_type": "markdown",
   "id": "7938eca0",
   "metadata": {},
   "source": [
    "### 추상 클래스 사용하기\n",
    "- 메서드 목록만 가진 클래스, 상속받는 클래스에서 해당 메서드 구현해야함.\n",
    "- 예: 게임에서 모든 캐릭터는 공격하기, 이동하기의 공통 기능을 가지고 있다.\n",
    "    - 공통 기능을 추상 클래스로 만들고, 각 세부 기능은 해당 메서드에서 구현하는 것.\n",
    "    \n",
    "#### 사용법\n",
    "- abc 라이브러리 사용 (from abc import *)\n",
    "- 클래스 선언시 () 괄호 안에 metaclass=ABCMeta 를 지정\n",
    "- 해당 클래스에서 메서드 선언시 상단에 @abstractmethod 를 붙여줘야 함."
   ]
  },
  {
   "cell_type": "code",
   "execution_count": 109,
   "id": "9bdacba6",
   "metadata": {},
   "outputs": [],
   "source": [
    "# 추상 클래스 선언하기\n",
    "from abc import *\n",
    "\n",
    "class Character(metaclass=ABCMeta):\n",
    "    @abstractmethod\n",
    "    def attack(self):\n",
    "        pass\n",
    "    \n",
    "    @abstractmethod\n",
    "    def move(self):\n",
    "        pass"
   ]
  },
  {
   "cell_type": "code",
   "execution_count": 110,
   "id": "515e06c9",
   "metadata": {},
   "outputs": [],
   "source": [
    "# 추상 클래스 상속하기\n",
    "class Elf(Character):\n",
    "    def attack(self):\n",
    "        print(\"Practice the black art\")\n",
    "    \n",
    "    def move(self):\n",
    "        print(\"Fly\")\n",
    "\n",
    "class Human(Character):\n",
    "    def attack(self):\n",
    "        print(\"Plunge a knife\")\n",
    "    \n",
    "    def move(self):\n",
    "        print(\"Run\")"
   ]
  },
  {
   "cell_type": "code",
   "execution_count": 111,
   "id": "36b80248",
   "metadata": {},
   "outputs": [
    {
     "name": "stdout",
     "output_type": "stream",
     "text": [
      "Practice the black art\n",
      "Fly\n",
      "Plunge a knife\n",
      "Run\n"
     ]
    }
   ],
   "source": [
    "# 객체 실행하기\n",
    "elf = Elf()\n",
    "human = Human()\n",
    "\n",
    "elf.attack()\n",
    "elf.move()\n",
    "human.attack()\n",
    "human.move()"
   ]
  },
  {
   "cell_type": "code",
   "execution_count": 113,
   "id": "e63ab3b9",
   "metadata": {},
   "outputs": [],
   "source": [
    "# 추상 클래스 선언하기\n",
    "from abc import *\n",
    "\n",
    "class Character(metaclass=ABCMeta):\n",
    "    def __init__(self, hp):\n",
    "        self.hp = hp\n",
    "    \n",
    "    def get_hp(self):\n",
    "        return self.hp\n",
    "    \n",
    "    @abstractmethod\n",
    "    def attack(self):\n",
    "        pass\n",
    "    \n",
    "    @abstractmethod\n",
    "    def move(self):\n",
    "        pass"
   ]
  },
  {
   "cell_type": "code",
   "execution_count": 115,
   "id": "d31b71b9",
   "metadata": {},
   "outputs": [
    {
     "ename": "TypeError",
     "evalue": "Can't instantiate abstract class Character with abstract methods attack, move",
     "output_type": "error",
     "traceback": [
      "\u001b[0;31m---------------------------------------------------------------------------\u001b[0m",
      "\u001b[0;31mTypeError\u001b[0m                                 Traceback (most recent call last)",
      "Input \u001b[0;32mIn [115]\u001b[0m, in \u001b[0;36m<cell line: 2>\u001b[0;34m()\u001b[0m\n\u001b[1;32m      1\u001b[0m \u001b[38;5;66;03m# 추상 클래스는 객체로 만들 수 없다!!\u001b[39;00m\n\u001b[0;32m----> 2\u001b[0m character \u001b[38;5;241m=\u001b[39m \u001b[43mCharacter\u001b[49m\u001b[43m(\u001b[49m\u001b[38;5;241;43m10\u001b[39;49m\u001b[43m)\u001b[49m\n",
      "\u001b[0;31mTypeError\u001b[0m: Can't instantiate abstract class Character with abstract methods attack, move"
     ]
    }
   ],
   "source": [
    "# 추상 클래스는 객체로 만들 수 없다!!\n",
    "character = Character(10)"
   ]
  },
  {
   "cell_type": "code",
   "execution_count": 116,
   "id": "4db486e6",
   "metadata": {},
   "outputs": [
    {
     "name": "stdout",
     "output_type": "stream",
     "text": [
      "Jiho Electronic\n"
     ]
    }
   ],
   "source": [
    "# Car, Electronic Car class\n",
    "from abc import *\n",
    "\n",
    "class Car(metaclass=ABCMeta):\n",
    "    def __init__(self, name):\n",
    "        self.name = name\n",
    "    \n",
    "    def get_info(self):\n",
    "        return self.name\n",
    "\n",
    "    @abstractmethod\n",
    "    def fuel(self):\n",
    "        pass\n",
    "    \n",
    "class ElecCar(Car):\n",
    "    def fuel(self):\n",
    "        return 'Electronic'\n",
    "\n",
    "elec_car = ElecCar('Jiho')\n",
    "print(elec_car.get_info(), elec_car.fuel())"
   ]
  }
 ],
 "metadata": {
  "kernelspec": {
   "display_name": "Python 3 (ipykernel)",
   "language": "python",
   "name": "python3"
  },
  "language_info": {
   "codemirror_mode": {
    "name": "ipython",
    "version": 3
   },
   "file_extension": ".py",
   "mimetype": "text/x-python",
   "name": "python",
   "nbconvert_exporter": "python",
   "pygments_lexer": "ipython3",
   "version": "3.9.13"
  }
 },
 "nbformat": 4,
 "nbformat_minor": 5
}
