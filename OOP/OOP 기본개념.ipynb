{
 "cells": [
  {
   "cell_type": "markdown",
   "id": "e5662a78",
   "metadata": {},
   "source": [
    "# 객체지향 프로그래밍(OOP) 기본 개념\n",
    "\n",
    "#### 객체지향 프로그래밍: 객체(object) 단위로 데이터와 기능(함수)를 하나로 묶어서 쓰는 언어\n",
    "\n",
    "### Class 란?\n",
    "- 설계도\n",
    "- 속성(attribute)와 동작(method)을 갖는 데이터 타입\n",
    "- 속성(attribute)는 **변수**와 유사\n",
    "- 동작(method)는 **함수**와 유사\n",
    "\n",
    "### Object 란?\n",
    "- 선언된 설계도(Class)를 기반으로 만들어진 실체( **_객체(object) or 인스턴스(instance)_** 라고 한다.)\n",
    "- 선언된 클래스 설계도를 기반으로 매우 많은 **객체/인스턴스** 생성이 가능하다.\n",
    "\n",
    "### 객체지향 프로그램\n",
    "1. 클래스 설계(attribute, method 구성)\n",
    "2. 설계한 클래스를 기반으로 클래스를 코드로 작성\n",
    "3. 클래스를 기반으로 필요한 객체 생성\n",
    "4. 해당 객체의 attribute와 method를 조작하여 프로그램 수행\n",
    "\n",
    "## 1: 객체지향 문법(class, object)\n",
    "\n",
    "#### 1. class 선언하기\n",
    "객체 생성 전 미리 class를 선언해야 한다."
   ]
  },
  {
   "cell_type": "code",
   "execution_count": 1,
   "id": "1fa8da61",
   "metadata": {},
   "outputs": [
    {
     "data": {
      "text/plain": [
       "['__class__',\n",
       " '__delattr__',\n",
       " '__dict__',\n",
       " '__dir__',\n",
       " '__doc__',\n",
       " '__eq__',\n",
       " '__format__',\n",
       " '__ge__',\n",
       " '__getattribute__',\n",
       " '__gt__',\n",
       " '__hash__',\n",
       " '__init__',\n",
       " '__init_subclass__',\n",
       " '__le__',\n",
       " '__lt__',\n",
       " '__module__',\n",
       " '__ne__',\n",
       " '__new__',\n",
       " '__reduce__',\n",
       " '__reduce_ex__',\n",
       " '__repr__',\n",
       " '__setattr__',\n",
       " '__sizeof__',\n",
       " '__str__',\n",
       " '__subclasshook__',\n",
       " '__weakref__']"
      ]
     },
     "execution_count": 1,
     "metadata": {},
     "output_type": "execute_result"
    }
   ],
   "source": [
    "class Quadrangle:\n",
    "    pass\n",
    "\n",
    "class SingleWord:\n",
    "    pass\n",
    "\n",
    "dir(SingleWord)"
   ]
  },
  {
   "cell_type": "markdown",
   "id": "a71a3eee",
   "metadata": {},
   "source": [
    "- 클래스명은 PEP Coding Convention에 가이드된 대로 각 단어의 첫 문자를 대문자로 하는 CapWords 방식을 사용\n",
    "- **dir 함수**: python 내장 함수로 어떤 객체를 인자로 넣어주면 해당 객체가 어떤 변수(attribute)와 메서드(method)를 가지고 있는지 나열"
   ]
  },
  {
   "cell_type": "code",
   "execution_count": 2,
   "id": "eb2383d0",
   "metadata": {},
   "outputs": [],
   "source": [
    "square = Quadrangle()"
   ]
  },
  {
   "cell_type": "code",
   "execution_count": 3,
   "id": "7b9c2729",
   "metadata": {},
   "outputs": [
    {
     "data": {
      "text/plain": [
       "['__class__',\n",
       " '__delattr__',\n",
       " '__dict__',\n",
       " '__dir__',\n",
       " '__doc__',\n",
       " '__eq__',\n",
       " '__format__',\n",
       " '__ge__',\n",
       " '__getattribute__',\n",
       " '__gt__',\n",
       " '__hash__',\n",
       " '__init__',\n",
       " '__init_subclass__',\n",
       " '__le__',\n",
       " '__lt__',\n",
       " '__module__',\n",
       " '__ne__',\n",
       " '__new__',\n",
       " '__reduce__',\n",
       " '__reduce_ex__',\n",
       " '__repr__',\n",
       " '__setattr__',\n",
       " '__sizeof__',\n",
       " '__str__',\n",
       " '__subclasshook__',\n",
       " '__weakref__']"
      ]
     },
     "execution_count": 3,
     "metadata": {},
     "output_type": "execute_result"
    }
   ],
   "source": [
    "dir(square)"
   ]
  },
  {
   "cell_type": "code",
   "execution_count": 4,
   "id": "85c685ac",
   "metadata": {},
   "outputs": [
    {
     "data": {
      "text/plain": [
       "__main__.Quadrangle"
      ]
     },
     "execution_count": 4,
     "metadata": {},
     "output_type": "execute_result"
    }
   ],
   "source": [
    "# 객체 square 는 Quadrangle의 인스턴스\n",
    "type(square)"
   ]
  },
  {
   "cell_type": "markdown",
   "id": "3b571085",
   "metadata": {},
   "source": [
    "#### 2. attribute 넣어보기\n",
    "만들고자 하는 속성 생각하고 넣기"
   ]
  },
  {
   "cell_type": "code",
   "execution_count": 7,
   "id": "d2b5e5a7",
   "metadata": {},
   "outputs": [],
   "source": [
    "class Quadrangle:\n",
    "    width = 0\n",
    "    height = 0\n",
    "    color = \"black\""
   ]
  },
  {
   "cell_type": "code",
   "execution_count": 8,
   "id": "4c446ebe",
   "metadata": {},
   "outputs": [
    {
     "data": {
      "text/plain": [
       "['__class__',\n",
       " '__delattr__',\n",
       " '__dict__',\n",
       " '__dir__',\n",
       " '__doc__',\n",
       " '__eq__',\n",
       " '__format__',\n",
       " '__ge__',\n",
       " '__getattribute__',\n",
       " '__gt__',\n",
       " '__hash__',\n",
       " '__init__',\n",
       " '__init_subclass__',\n",
       " '__le__',\n",
       " '__lt__',\n",
       " '__module__',\n",
       " '__ne__',\n",
       " '__new__',\n",
       " '__reduce__',\n",
       " '__reduce_ex__',\n",
       " '__repr__',\n",
       " '__setattr__',\n",
       " '__sizeof__',\n",
       " '__str__',\n",
       " '__subclasshook__',\n",
       " '__weakref__',\n",
       " 'color',\n",
       " 'height',\n",
       " 'width']"
      ]
     },
     "execution_count": 8,
     "metadata": {},
     "output_type": "execute_result"
    }
   ],
   "source": [
    "# width, height, color attribute 확인하기\n",
    "dir(Quadrangle)"
   ]
  },
  {
   "cell_type": "code",
   "execution_count": 10,
   "id": "d0af159c",
   "metadata": {},
   "outputs": [
    {
     "data": {
      "text/plain": [
       "'black'"
      ]
     },
     "execution_count": 10,
     "metadata": {},
     "output_type": "execute_result"
    }
   ],
   "source": [
    "square1 = Quadrangle()\n",
    "square2 = Quadrangle()\n",
    "\n",
    "# 객체(object)의 attribute 접근하기: 객체명.attribute명\n",
    "square1.color"
   ]
  },
  {
   "cell_type": "code",
   "execution_count": 12,
   "id": "8e67bc2a",
   "metadata": {},
   "outputs": [
    {
     "name": "stdout",
     "output_type": "stream",
     "text": [
      "black\n",
      "red\n"
     ]
    }
   ],
   "source": [
    "square1.color = 'red'\n",
    "print(square2.color)\n",
    "print(square1.color)"
   ]
  },
  {
   "cell_type": "markdown",
   "id": "84e901d6",
   "metadata": {},
   "source": [
    "#### 3. method 넣어보기\n",
    "사각형 넓이 구하는 기능"
   ]
  },
  {
   "cell_type": "code",
   "execution_count": 14,
   "id": "2db903b6",
   "metadata": {},
   "outputs": [],
   "source": [
    "class Quadrangle:\n",
    "    width = 0\n",
    "    height = 0\n",
    "    color = 'black'\n",
    "    \n",
    "    # 사각형 넓이 method\n",
    "    def get_area(self):\n",
    "        return self.width * self.height\n",
    "    \n",
    "    # 사각형 width, height 설정 method\n",
    "    def set_area(self, width, height):\n",
    "        self.width = width\n",
    "        self.height = height"
   ]
  },
  {
   "cell_type": "markdown",
   "id": "0232dc96",
   "metadata": {},
   "source": [
    "- 파이썬 method는 항상 첫 번째 파라미터로 self 사용\n",
    "    - 인자가 필요없을 때도 self는 사용\n",
    "- 클래스의 attribute는 내부에서 접근시, **self.attribute명**으로 접근"
   ]
  },
  {
   "cell_type": "code",
   "execution_count": 17,
   "id": "64e6e767",
   "metadata": {},
   "outputs": [
    {
     "name": "stdout",
     "output_type": "stream",
     "text": [
      "10\n",
      "30\n"
     ]
    }
   ],
   "source": [
    "# 객체 method 접근하기\n",
    "square = Quadrangle()\n",
    "square.set_area(10, 3)\n",
    "print(square.width)\n",
    "print(square.get_area())"
   ]
  },
  {
   "cell_type": "markdown",
   "id": "95f72721",
   "metadata": {},
   "source": [
    "## 2: 객체지향 문법(생성자와 소멸자 메서드)\n",
    "- **생성자**는 객체 생성시 자동 호출, **소멸자**는 객체 소멸시 자동 호출\n",
    "\n",
    "#### 생성자: __init__(self)\n",
    "- method 이므로 첫 번째 인자는 self로 설정\n",
    "- 생성자에서는 보통 해당 클래스가 다루는 attribute 정의"
   ]
  },
  {
   "cell_type": "code",
   "execution_count": 18,
   "id": "495ba2a6",
   "metadata": {},
   "outputs": [],
   "source": [
    "class Quadrangle:\n",
    "    def __init__(self, width, height, color):\n",
    "        self.width = width\n",
    "        self.height = height\n",
    "        self.color = color"
   ]
  },
  {
   "cell_type": "code",
   "execution_count": 19,
   "id": "eb254487",
   "metadata": {},
   "outputs": [],
   "source": [
    "square = Quadrangle(5, 5, 'blue')"
   ]
  },
  {
   "cell_type": "code",
   "execution_count": 20,
   "id": "5f49e0ea",
   "metadata": {},
   "outputs": [
    {
     "name": "stdout",
     "output_type": "stream",
     "text": [
      "5 5 blue\n"
     ]
    }
   ],
   "source": [
    "print(square.width, square.height, square.color)"
   ]
  },
  {
   "cell_type": "markdown",
   "id": "b1b70ae9",
   "metadata": {},
   "source": [
    "#### 소멸자: __del__(self)\n",
    "- method 이므로 첫 번째 인자는 self 로 설정\n",
    "- 클래스 소멸시 호출"
   ]
  },
  {
   "cell_type": "code",
   "execution_count": 21,
   "id": "53f7ad96",
   "metadata": {},
   "outputs": [],
   "source": [
    "class Quadrangle:\n",
    "    def __init__(self, width, height, color):\n",
    "        self.width = width\n",
    "        self.height = height\n",
    "        self.color = color\n",
    "    \n",
    "    def __del__(self):\n",
    "        print(\"Quadrangle object is deleted!\")"
   ]
  },
  {
   "cell_type": "code",
   "execution_count": 22,
   "id": "0c4fb6a2",
   "metadata": {},
   "outputs": [],
   "source": [
    "square = Quadrangle(5, 5, 'black')"
   ]
  },
  {
   "cell_type": "code",
   "execution_count": 23,
   "id": "401753bc",
   "metadata": {},
   "outputs": [
    {
     "name": "stdout",
     "output_type": "stream",
     "text": [
      "Quadrangle object is deleted!\n"
     ]
    }
   ],
   "source": [
    "# 객체 삭제 문법: del 객체명\n",
    "del square"
   ]
  },
  {
   "cell_type": "markdown",
   "id": "13d171b7",
   "metadata": {},
   "source": [
    "#### 문제: 정삼각형 클래스 만들고 넓이 출력하기"
   ]
  },
  {
   "cell_type": "code",
   "execution_count": 25,
   "id": "d37c1dcb",
   "metadata": {},
   "outputs": [
    {
     "data": {
      "text/plain": [
       "86.60254037844386"
      ]
     },
     "execution_count": 25,
     "metadata": {},
     "output_type": "execute_result"
    }
   ],
   "source": [
    "import math\n",
    "\n",
    "class Quadrangle:\n",
    "    def __init__(self, length):\n",
    "        self.length = length\n",
    "    \n",
    "    def get_area(self):\n",
    "        return (math.sqrt(3) / 2) * self.length**2\n",
    "    \n",
    "    def __del__(self):\n",
    "        print(\"Quadrangle object is deleted!\")\n",
    "\n",
    "square = Quadrangle(10)\n",
    "square.get_area()"
   ]
  },
  {
   "cell_type": "markdown",
   "id": "df33e723",
   "metadata": {},
   "source": [
    "## 3. 객체지향 문법(public, private, protected)\n",
    "\n",
    "#### private, protected, public\n",
    "- 정보 은닉(Information Hiding) 방식\n",
    "    - class의 attribute, method 에 대해 **접근을 제어**할 수 있는 기능\n",
    "- private -> protected -> public\n",
    "    - private: private로 선언된 attribute, method는 해당 클래스에서만 접근 가능\n",
    "    - protected: protected로 선언된 attribute, method는 해당 클래스 또는 해당 클래스를 **상속**받은 클래스에서만 접근 가능\n",
    "    - public: public으로 선언된 attribute, method는 어떤 클래스라도 접근 가능\n",
    "\n",
    "#### Python 에서 private, protected, public\n",
    "- java, c++언어 등의 객체지향 언어와 달리, 파이썬에서는 모든 attribute, method는 기본적으로 public\n",
    "- 즉, 클래스 외부에서 attribute, method 접근 가능(사용 가능)\n",
    "\n",
    "### public"
   ]
  },
  {
   "cell_type": "code",
   "execution_count": 26,
   "id": "2c53ba6e",
   "metadata": {},
   "outputs": [],
   "source": [
    "class Quadrangle:\n",
    "    def __init__(self, width, height, color):\n",
    "        self.width = width\n",
    "        self.height = height\n",
    "        self.color = color\n",
    "    \n",
    "    def get_area(self):\n",
    "        return self.width * self.height\n",
    "    \n",
    "    def set_area(self, width, height):\n",
    "        self.width = width\n",
    "        self.height = height"
   ]
  },
  {
   "cell_type": "code",
   "execution_count": 28,
   "id": "da59ba57",
   "metadata": {},
   "outputs": [
    {
     "name": "stdout",
     "output_type": "stream",
     "text": [
      "5 5 black\n"
     ]
    }
   ],
   "source": [
    "square = Quadrangle(5, 5, \"black\")\n",
    "print(square.width, square.height, square.color)"
   ]
  },
  {
   "cell_type": "code",
   "execution_count": 29,
   "id": "b25a5712",
   "metadata": {},
   "outputs": [
    {
     "data": {
      "text/plain": [
       "['__class__',\n",
       " '__delattr__',\n",
       " '__dict__',\n",
       " '__dir__',\n",
       " '__doc__',\n",
       " '__eq__',\n",
       " '__format__',\n",
       " '__ge__',\n",
       " '__getattribute__',\n",
       " '__gt__',\n",
       " '__hash__',\n",
       " '__init__',\n",
       " '__init_subclass__',\n",
       " '__le__',\n",
       " '__lt__',\n",
       " '__module__',\n",
       " '__ne__',\n",
       " '__new__',\n",
       " '__reduce__',\n",
       " '__reduce_ex__',\n",
       " '__repr__',\n",
       " '__setattr__',\n",
       " '__sizeof__',\n",
       " '__str__',\n",
       " '__subclasshook__',\n",
       " '__weakref__',\n",
       " 'color',\n",
       " 'get_area',\n",
       " 'height',\n",
       " 'set_area',\n",
       " 'width']"
      ]
     },
     "execution_count": 29,
     "metadata": {},
     "output_type": "execute_result"
    }
   ],
   "source": [
    "dir(square)"
   ]
  },
  {
   "cell_type": "markdown",
   "id": "d653942e",
   "metadata": {},
   "source": [
    "### protected\n",
    "- python에서는 해당 속성의 앞에 **\\_(sigle underscore)를 붙여서 표시만 함.**\n",
    "- 실제 **제약되지는 않고 일종의 경고 표시로 사용**"
   ]
  },
  {
   "cell_type": "code",
   "execution_count": 38,
   "id": "ca1c6477",
   "metadata": {},
   "outputs": [],
   "source": [
    "class Quadrangle:\n",
    "    def __init__(self, width, height, color):\n",
    "        self._width = width\n",
    "        self._height = height\n",
    "        self._color = color\n",
    "    \n",
    "    def get_area(self):\n",
    "        return self._width * self._height\n",
    "    \n",
    "    def set_area(self, width, height):\n",
    "        self._width = width\n",
    "        self._height = height"
   ]
  },
  {
   "cell_type": "code",
   "execution_count": 39,
   "id": "55d57234",
   "metadata": {},
   "outputs": [
    {
     "name": "stdout",
     "output_type": "stream",
     "text": [
      "15\n"
     ]
    }
   ],
   "source": [
    "square = Quadrangle(5, 5, \"black\")\n",
    "square.set_area(3, 5)\n",
    "print(square.get_area())"
   ]
  },
  {
   "cell_type": "code",
   "execution_count": 40,
   "id": "0dc1ad04",
   "metadata": {},
   "outputs": [
    {
     "data": {
      "text/plain": [
       "['__class__',\n",
       " '__delattr__',\n",
       " '__dict__',\n",
       " '__dir__',\n",
       " '__doc__',\n",
       " '__eq__',\n",
       " '__format__',\n",
       " '__ge__',\n",
       " '__getattribute__',\n",
       " '__gt__',\n",
       " '__hash__',\n",
       " '__init__',\n",
       " '__init_subclass__',\n",
       " '__le__',\n",
       " '__lt__',\n",
       " '__module__',\n",
       " '__ne__',\n",
       " '__new__',\n",
       " '__reduce__',\n",
       " '__reduce_ex__',\n",
       " '__repr__',\n",
       " '__setattr__',\n",
       " '__sizeof__',\n",
       " '__str__',\n",
       " '__subclasshook__',\n",
       " '__weakref__',\n",
       " '_color',\n",
       " '_height',\n",
       " '_width',\n",
       " 'get_area',\n",
       " 'set_area']"
      ]
     },
     "execution_count": 40,
     "metadata": {},
     "output_type": "execute_result"
    }
   ],
   "source": [
    "dir(square)"
   ]
  },
  {
   "cell_type": "markdown",
   "id": "eda94601",
   "metadata": {},
   "source": [
    "### private\n",
    "- Python 에서는 attribute, method 앞에 \\_\\_(double underscore)를 붙이면 실제로 해당 이름으로 접근이 허용되지 않는다.\n",
    "- 실은 \\_\\_(double underscore)를 붙이면, 해당 이름이 \\_classname\\_\\_ 해당 속성 또는 메서드 이름으로 변경되기 때문이다."
   ]
  },
  {
   "cell_type": "code",
   "execution_count": 44,
   "id": "9cc7e6ad",
   "metadata": {},
   "outputs": [],
   "source": [
    "class Quadrangle:\n",
    "    def __init__(self, width, height, color):\n",
    "        self.__width = width\n",
    "        self.__height = height\n",
    "        self.__color = color\n",
    "    \n",
    "    def get_area(self):\n",
    "        return self.__width * self.__height\n",
    "    \n",
    "    def __set_area(self, width, height):\n",
    "        self.__width = width\n",
    "        self.__height = height"
   ]
  },
  {
   "cell_type": "code",
   "execution_count": 45,
   "id": "366ee96c",
   "metadata": {},
   "outputs": [],
   "source": [
    "square = Quadrangle(5, 5, 'black')"
   ]
  },
  {
   "cell_type": "code",
   "execution_count": 46,
   "id": "9052e797",
   "metadata": {},
   "outputs": [
    {
     "data": {
      "text/plain": [
       "['_Quadrangle__color',\n",
       " '_Quadrangle__height',\n",
       " '_Quadrangle__set_area',\n",
       " '_Quadrangle__width',\n",
       " '__class__',\n",
       " '__delattr__',\n",
       " '__dict__',\n",
       " '__dir__',\n",
       " '__doc__',\n",
       " '__eq__',\n",
       " '__format__',\n",
       " '__ge__',\n",
       " '__getattribute__',\n",
       " '__gt__',\n",
       " '__hash__',\n",
       " '__init__',\n",
       " '__init_subclass__',\n",
       " '__le__',\n",
       " '__lt__',\n",
       " '__module__',\n",
       " '__ne__',\n",
       " '__new__',\n",
       " '__reduce__',\n",
       " '__reduce_ex__',\n",
       " '__repr__',\n",
       " '__setattr__',\n",
       " '__sizeof__',\n",
       " '__str__',\n",
       " '__subclasshook__',\n",
       " '__weakref__',\n",
       " 'get_area']"
      ]
     },
     "execution_count": 46,
     "metadata": {},
     "output_type": "execute_result"
    }
   ],
   "source": [
    "dir(square)"
   ]
  },
  {
   "cell_type": "code",
   "execution_count": 48,
   "id": "b0c90743",
   "metadata": {},
   "outputs": [
    {
     "ename": "AttributeError",
     "evalue": "'Quadrangle' object has no attribute 'width'",
     "output_type": "error",
     "traceback": [
      "\u001b[0;31m---------------------------------------------------------------------------\u001b[0m",
      "\u001b[0;31mAttributeError\u001b[0m                            Traceback (most recent call last)",
      "Input \u001b[0;32mIn [48]\u001b[0m, in \u001b[0;36m<cell line: 1>\u001b[0;34m()\u001b[0m\n\u001b[0;32m----> 1\u001b[0m \u001b[38;5;28mprint\u001b[39m(\u001b[43msquare\u001b[49m\u001b[38;5;241;43m.\u001b[39;49m\u001b[43mwidth\u001b[49m)\n",
      "\u001b[0;31mAttributeError\u001b[0m: 'Quadrangle' object has no attribute 'width'"
     ]
    }
   ],
   "source": [
    "print(square.width)"
   ]
  },
  {
   "cell_type": "code",
   "execution_count": 49,
   "id": "7e23d0dd",
   "metadata": {},
   "outputs": [
    {
     "name": "stdout",
     "output_type": "stream",
     "text": [
      "25\n"
     ]
    }
   ],
   "source": [
    "print(square.get_area())"
   ]
  },
  {
   "cell_type": "markdown",
   "id": "66614773",
   "metadata": {},
   "source": [
    "#### 문제: 학생 성적 관리 class 관리\n",
    "- attribute: 국어, 영어, 수학, 학생 이름 4 개의 속성\n",
    "- 생성자에서 각 속성을 객체 생성시 전달된 인자값을 설정\n",
    "- 각 속성은 private 으로 설정\n",
    "- method: 전체 과목 점수 평균, 전체 과목 총점 두 가지 method 구현\n",
    "- 각 method 는 private 으로 설정"
   ]
  },
  {
   "cell_type": "code",
   "execution_count": 58,
   "id": "1ad67f9d",
   "metadata": {},
   "outputs": [],
   "source": [
    "class Student:\n",
    "    def __init__(self, kor, eng, math, name):\n",
    "        self.__k_score = kor\n",
    "        self.__e_score = eng\n",
    "        self.__m_score = math\n",
    "        self.__name = name\n",
    "    \n",
    "    def get_avg(self):\n",
    "        return self.get_total_score() / 3\n",
    "\n",
    "    def get_total_score(self):\n",
    "        return self.__k_score + self.__e_score + self.__m_score\n",
    "    \n",
    "    def get_info(self):\n",
    "        print(self.__k_score)"
   ]
  },
  {
   "cell_type": "code",
   "execution_count": 60,
   "id": "8caa9818",
   "metadata": {},
   "outputs": [
    {
     "name": "stdout",
     "output_type": "stream",
     "text": [
      "240 80.0\n",
      "80\n"
     ]
    }
   ],
   "source": [
    "student1 = Student(80, 70, 90, '지호')\n",
    "print(student1.get_total_score(), student1.get_avg())\n",
    "student1.get_info()"
   ]
  },
  {
   "cell_type": "code",
   "execution_count": 53,
   "id": "95c4fea6",
   "metadata": {},
   "outputs": [
    {
     "ename": "AttributeError",
     "evalue": "'Student' object has no attribute '__k_score'",
     "output_type": "error",
     "traceback": [
      "\u001b[0;31m---------------------------------------------------------------------------\u001b[0m",
      "\u001b[0;31mAttributeError\u001b[0m                            Traceback (most recent call last)",
      "Input \u001b[0;32mIn [53]\u001b[0m, in \u001b[0;36m<cell line: 1>\u001b[0;34m()\u001b[0m\n\u001b[0;32m----> 1\u001b[0m \u001b[43mstudent1\u001b[49m\u001b[38;5;241;43m.\u001b[39;49m\u001b[43m__k_score\u001b[49m\n",
      "\u001b[0;31mAttributeError\u001b[0m: 'Student' object has no attribute '__k_score'"
     ]
    }
   ],
   "source": [
    "student1.__k_score"
   ]
  },
  {
   "cell_type": "markdown",
   "id": "84ea92f7",
   "metadata": {},
   "source": [
    "## 4. 객체지향 문법(Inheritance)\n",
    "\n",
    "### Class Inheritance(상속)\n",
    "- **추상화(abstraction)**: 여러 클래스에 중복되는 속성 or 메서드를 하나의 기본 클래스로 작성하는 작업\n",
    "- **상속(inheritance)**: 기본 클래스의 공통 기능을 물려받고, 다른 부분만 추가 또는 변경하는 것\n",
    "    - 이 때 기본 클래스는 부모 클래스(또는 상위 클래스), Parent, Super, Base class 라고 부른다.\n",
    "    - 기본 클래스 기능을 물려받는 클래스는 자식 클래스(또는 하위 클래스), Child, Sub, Derived class 라고 부른다.\n",
    "- 코드 재사용이 가능, 공통 기능의 경우 기본 클래스 코드만 수정하면 된다는 장점\n",
    "- 부모 클래스가 둘 이상인 경우는 **다중 상속** 이라 부른다.\n",
    "\n",
    "### 예) 사각형, 삼각형, 원 클래스\n",
    "- 부모 클래스를 자식 클래스에 인자로 넣으면 상속이 된다.\n",
    "    - 다음 코드는 \\_\\_init\\_\\_(self, name, color) 메서드가 상속되고,\n",
    "    - self.name과 self.color 도 \\_\\_init\\_\\_ 실행시 생성됨."
   ]
  },
  {
   "cell_type": "code",
   "execution_count": 72,
   "id": "55f40892",
   "metadata": {},
   "outputs": [],
   "source": [
    "class Figure:\n",
    "    def __init__(self, name, color):\n",
    "        self.__name = name\n",
    "        self.__color = color"
   ]
  },
  {
   "cell_type": "code",
   "execution_count": 73,
   "id": "ea071fc4",
   "metadata": {},
   "outputs": [],
   "source": [
    "class Quadrangle(Figure):\n",
    "    def set_area(self, width, height):\n",
    "        self.__width = width\n",
    "        self.__height = height\n",
    "    \n",
    "    def get_info(self):\n",
    "        print(self.__name, self.__color, self.__width * self.__height)"
   ]
  },
  {
   "cell_type": "code",
   "execution_count": 56,
   "id": "7f3fbaca",
   "metadata": {},
   "outputs": [
    {
     "ename": "TypeError",
     "evalue": "__init__() missing 2 required positional arguments: 'name' and 'color'",
     "output_type": "error",
     "traceback": [
      "\u001b[0;31m---------------------------------------------------------------------------\u001b[0m",
      "\u001b[0;31mTypeError\u001b[0m                                 Traceback (most recent call last)",
      "Input \u001b[0;32mIn [56]\u001b[0m, in \u001b[0;36m<cell line: 1>\u001b[0;34m()\u001b[0m\n\u001b[0;32m----> 1\u001b[0m square \u001b[38;5;241m=\u001b[39m \u001b[43mQuadrangle\u001b[49m\u001b[43m(\u001b[49m\u001b[43m)\u001b[49m\n",
      "\u001b[0;31mTypeError\u001b[0m: __init__() missing 2 required positional arguments: 'name' and 'color'"
     ]
    }
   ],
   "source": [
    "square = Quadrangle()"
   ]
  },
  {
   "cell_type": "code",
   "execution_count": 64,
   "id": "d1589765",
   "metadata": {},
   "outputs": [
    {
     "ename": "AttributeError",
     "evalue": "'Quadrangle' object has no attribute '_Quadrangle__name'",
     "output_type": "error",
     "traceback": [
      "\u001b[0;31m---------------------------------------------------------------------------\u001b[0m",
      "\u001b[0;31mAttributeError\u001b[0m                            Traceback (most recent call last)",
      "Input \u001b[0;32mIn [64]\u001b[0m, in \u001b[0;36m<cell line: 3>\u001b[0;34m()\u001b[0m\n\u001b[1;32m      1\u001b[0m square \u001b[38;5;241m=\u001b[39m Quadrangle(\u001b[38;5;124m'\u001b[39m\u001b[38;5;124m직사각형\u001b[39m\u001b[38;5;124m'\u001b[39m, \u001b[38;5;124m'\u001b[39m\u001b[38;5;124mgreen\u001b[39m\u001b[38;5;124m'\u001b[39m)\n\u001b[1;32m      2\u001b[0m square\u001b[38;5;241m.\u001b[39mset_area(\u001b[38;5;241m5\u001b[39m, \u001b[38;5;241m10\u001b[39m)\n\u001b[0;32m----> 3\u001b[0m \u001b[43msquare\u001b[49m\u001b[38;5;241;43m.\u001b[39;49m\u001b[43mget_info\u001b[49m\u001b[43m(\u001b[49m\u001b[43m)\u001b[49m\n",
      "Input \u001b[0;32mIn [63]\u001b[0m, in \u001b[0;36mQuadrangle.get_info\u001b[0;34m(self)\u001b[0m\n\u001b[1;32m      6\u001b[0m \u001b[38;5;28;01mdef\u001b[39;00m \u001b[38;5;21mget_info\u001b[39m(\u001b[38;5;28mself\u001b[39m):\n\u001b[0;32m----> 7\u001b[0m     \u001b[38;5;28mprint\u001b[39m(\u001b[38;5;28;43mself\u001b[39;49m\u001b[38;5;241;43m.\u001b[39;49m\u001b[43m__name\u001b[49m, \u001b[38;5;28mself\u001b[39m\u001b[38;5;241m.\u001b[39m__color, \u001b[38;5;28mself\u001b[39m\u001b[38;5;241m.\u001b[39m__width \u001b[38;5;241m*\u001b[39m \u001b[38;5;28mself\u001b[39m\u001b[38;5;241m.\u001b[39m__height)\n",
      "\u001b[0;31mAttributeError\u001b[0m: 'Quadrangle' object has no attribute '_Quadrangle__name'"
     ]
    }
   ],
   "source": [
    "square = Quadrangle('직사각형', 'green')\n",
    "square.set_area(5, 10)\n",
    "square.get_info()"
   ]
  },
  {
   "cell_type": "markdown",
   "id": "7af4de67",
   "metadata": {},
   "source": [
    "바로 위의 코드의 경우 private 설정된 부모의 attribute는 자식 클래스 내에서 접근이 불가!"
   ]
  },
  {
   "cell_type": "code",
   "execution_count": 69,
   "id": "32fc557c",
   "metadata": {},
   "outputs": [
    {
     "data": {
      "text/plain": [
       "['_Figure__color',\n",
       " '_Figure__name',\n",
       " '_Quadrangle__height',\n",
       " '_Quadrangle__width',\n",
       " '__class__',\n",
       " '__delattr__',\n",
       " '__dict__',\n",
       " '__dir__',\n",
       " '__doc__',\n",
       " '__eq__',\n",
       " '__format__',\n",
       " '__ge__',\n",
       " '__getattribute__',\n",
       " '__gt__',\n",
       " '__hash__',\n",
       " '__init__',\n",
       " '__init_subclass__',\n",
       " '__le__',\n",
       " '__lt__',\n",
       " '__module__',\n",
       " '__ne__',\n",
       " '__new__',\n",
       " '__reduce__',\n",
       " '__reduce_ex__',\n",
       " '__repr__',\n",
       " '__setattr__',\n",
       " '__sizeof__',\n",
       " '__str__',\n",
       " '__subclasshook__',\n",
       " '__weakref__',\n",
       " 'get_info',\n",
       " 'set_area']"
      ]
     },
     "execution_count": 69,
     "metadata": {},
     "output_type": "execute_result"
    }
   ],
   "source": [
    "dir(square)"
   ]
  },
  {
   "cell_type": "markdown",
   "id": "10e8bd7f",
   "metadata": {},
   "source": [
    "### 상속 관계인 클래스 확인하기\n",
    "- 내장함수 **issubclass(자식 클래스, 부모 클래스)** 사용하기"
   ]
  },
  {
   "cell_type": "code",
   "execution_count": 74,
   "id": "dbd648ab",
   "metadata": {},
   "outputs": [
    {
     "data": {
      "text/plain": [
       "True"
      ]
     },
     "execution_count": 74,
     "metadata": {},
     "output_type": "execute_result"
    }
   ],
   "source": [
    "# Quadrangle 클래스가 Figure 클래스의 자식 클래스인지 확인\n",
    "issubclass(Quadrangle, Figure)"
   ]
  },
  {
   "cell_type": "markdown",
   "id": "742ec93f",
   "metadata": {},
   "source": [
    "### 클래스와 객체간의 관계 확인하기\n",
    "- 내장함수 **isinstance(객체, 클래스)** 사용하기"
   ]
  },
  {
   "cell_type": "code",
   "execution_count": 75,
   "id": "3519ab5d",
   "metadata": {},
   "outputs": [],
   "source": [
    "figure = Figure('figure1', 'black')\n",
    "square = Quadrangle('square', 'red')"
   ]
  },
  {
   "cell_type": "code",
   "execution_count": 77,
   "id": "16c391d3",
   "metadata": {},
   "outputs": [
    {
     "name": "stdout",
     "output_type": "stream",
     "text": [
      "True\n",
      "True\n",
      "False\n",
      "True\n"
     ]
    }
   ],
   "source": [
    "print(isinstance(figure, Figure))\n",
    "print(isinstance(square, Figure))\n",
    "print(isinstance(figure, Quadrangle))\n",
    "print(isinstance(square, Quadrangle))"
   ]
  },
  {
   "cell_type": "markdown",
   "id": "1ff885bf",
   "metadata": {},
   "source": [
    "## 예: 사람, 학생, 직원"
   ]
  },
  {
   "cell_type": "code",
   "execution_count": 78,
   "id": "baa7f91a",
   "metadata": {},
   "outputs": [],
   "source": [
    "# 클래스 선언\n",
    "class Person:\n",
    "    def __init__(self, name):\n",
    "        self.name = name\n",
    "\n",
    "class Student(Person):\n",
    "    def study(self):\n",
    "        print(self.name + \" studies hard\")\n",
    "\n",
    "class Employee(Person):\n",
    "    def work(self):\n",
    "        print(self.name + \" works hard\")"
   ]
  },
  {
   "cell_type": "code",
   "execution_count": 79,
   "id": "4e4d8e87",
   "metadata": {},
   "outputs": [],
   "source": [
    "# 객체(인스턴스) 생성\n",
    "student = Student(\"Jiho\")\n",
    "employee = Employee(\"Who\")"
   ]
  },
  {
   "cell_type": "code",
   "execution_count": 80,
   "id": "c2af2cf6",
   "metadata": {},
   "outputs": [
    {
     "name": "stdout",
     "output_type": "stream",
     "text": [
      "Jiho studies hard\n",
      "Who works hard\n"
     ]
    }
   ],
   "source": [
    "# 객체 실행\n",
    "student.study()\n",
    "employee.work()"
   ]
  },
  {
   "cell_type": "markdown",
   "id": "b4e9bcbb",
   "metadata": {},
   "source": [
    "### Method Override(메서드 재정의)\n",
    "- 부모 클래스의 method를 자식 클래스에서 재정의(override)\n",
    "- 자식 클래스 객체에서는 재정의된 메서드가 호출된다.\n",
    "- 자식 클래스에서 부모 클래스의 메서드와 이름만 동일하면 메서드 재정의가 가능하다.\n",
    "    - C++/Java 언어 등에서는 메서드와 인자도 동일해야 한다."
   ]
  },
  {
   "cell_type": "code",
   "execution_count": 81,
   "id": "befd1dff",
   "metadata": {},
   "outputs": [],
   "source": [
    "# 클래스 선언\n",
    "class Person:\n",
    "    def __init__(self, name):\n",
    "        self.name = name\n",
    "    \n",
    "    def work(self):\n",
    "        print(self.name + \" works hard!\")\n",
    "    \n",
    "class Student(Person):\n",
    "    def work(self):\n",
    "        print(self.name + \" studies hard!\")"
   ]
  },
  {
   "cell_type": "code",
   "execution_count": 82,
   "id": "17227fcb",
   "metadata": {},
   "outputs": [
    {
     "name": "stdout",
     "output_type": "stream",
     "text": [
      "Jiho studies hard!\n"
     ]
    }
   ],
   "source": [
    "# 객체 생성\n",
    "student1 = Student(\"Jiho\")\n",
    "# 자식 클래스(Student)의 재정의된 work(self) 호출\n",
    "student1.work()"
   ]
  },
  {
   "cell_type": "markdown",
   "id": "55b6d53b",
   "metadata": {},
   "source": [
    "#### Child, Sub 클래스에 메서드를 더 추가 가능!"
   ]
  },
  {
   "cell_type": "code",
   "execution_count": 83,
   "id": "c01d7da3",
   "metadata": {},
   "outputs": [],
   "source": [
    "# 클래스 선언\n",
    "class Person:\n",
    "    def work(self):\n",
    "        print(\"Work hard!\")\n",
    "    \n",
    "class Student(Person):\n",
    "    def work(self):\n",
    "        print(\"Study hard!\")\n",
    "    \n",
    "    def go_to_school(self):\n",
    "        print(\"Go to school!\")"
   ]
  },
  {
   "cell_type": "code",
   "execution_count": 96,
   "id": "6ea190cb",
   "metadata": {},
   "outputs": [],
   "source": [
    "# 예: Car, Eletronic Car, Gasoline Car class 생성\n",
    "class Car:\n",
    "    def __init__(self, name):\n",
    "        self.name = name\n",
    "    \n",
    "    def get_info(self):\n",
    "        print(self.name)\n",
    "\n",
    "class ElecCar(Car):\n",
    "    def get_info(self):\n",
    "        print(self.name, 'Fuel: Electronic')\n",
    "\n",
    "class GasoCar(Car):\n",
    "    def get_info(self):\n",
    "        print(self.name, 'Fuel: Gasoline')"
   ]
  },
  {
   "cell_type": "code",
   "execution_count": 99,
   "id": "fc94d4eb",
   "metadata": {},
   "outputs": [
    {
     "name": "stdout",
     "output_type": "stream",
     "text": [
      "전기 자동차 Fuel: Electronic\n",
      "None\n",
      "가솔린 자동차 Fuel: Gasoline\n",
      "None\n"
     ]
    }
   ],
   "source": [
    "elec = ElecCar('전기 자동차')\n",
    "gaso = GasoCar('가솔린 자동차')\n",
    "print(elec.get_info())\n",
    "print(gaso.get_info())"
   ]
  },
  {
   "cell_type": "markdown",
   "id": "0e16158f",
   "metadata": {},
   "source": [
    "### 자식 클래스에서 부모 클래스 메서드 호출(super, self)\n",
    "### super\n",
    "- 자식 클래스에서 부모 클래스의 method를 호출할 때 사용\n",
    "    - **super().부모 클래스의 method명**\n",
    "    \n",
    "### self\n",
    "- self는 현재의 객체를 나타냄\n",
    "    - self.method명 or attribute명 으로 호출\n",
    "- C++/C#, Java언어에서는 this 라는 키워드 사용    "
   ]
  },
  {
   "cell_type": "code",
   "execution_count": 100,
   "id": "b848592a",
   "metadata": {},
   "outputs": [],
   "source": [
    "# 클래스 선언\n",
    "class person:\n",
    "    def work(self):\n",
    "        print('Work hard!')\n",
    "\n",
    "class Student(Person):\n",
    "    def work(self):\n",
    "        print('Study hard!')\n",
    "    \n",
    "    def parttime(self):\n",
    "        super().work()\n",
    "    \n",
    "    def general(self):\n",
    "        self.work()"
   ]
  },
  {
   "cell_type": "code",
   "execution_count": 101,
   "id": "1bcfc7c5",
   "metadata": {},
   "outputs": [
    {
     "name": "stdout",
     "output_type": "stream",
     "text": [
      "Study hard!\n",
      "Work hard!\n",
      "Study hard!\n"
     ]
    }
   ],
   "source": [
    "student = Student()\n",
    "student.work()\n",
    "student.parttime()\n",
    "student.general()"
   ]
  },
  {
   "cell_type": "markdown",
   "id": "d37e9208",
   "metadata": {},
   "source": [
    "### 자식 클래스에서 부모 클래스 메서드 확장하는 방법(심화)\n",
    "- 부모 클래스 메서드 기능에 추가적인 기능이 필요한 경우\n",
    "    - 부모 클래스 메서드는 그대로 이용하면서 자식 클래스 메서드에서 필요한 기능만 정의하는 기법\n",
    "    - 해당 메서드에서 상속 받은 **클래스명.메서드명** 을 호출하고, 필요한 기능 추가 정의"
   ]
  },
  {
   "cell_type": "code",
   "execution_count": 102,
   "id": "bd4893ee",
   "metadata": {},
   "outputs": [],
   "source": [
    "class Person:\n",
    "    def work(self):\n",
    "        print('Work Hard!')\n",
    "\n",
    "class Student(Person):\n",
    "    def work(self):\n",
    "        Person.work(self) # 부모 클래스 메서드 호출\n",
    "        print('Study Hard!')"
   ]
  },
  {
   "cell_type": "code",
   "execution_count": 103,
   "id": "0f1e47da",
   "metadata": {},
   "outputs": [
    {
     "name": "stdout",
     "output_type": "stream",
     "text": [
      "Work Hard!\n",
      "Study Hard!\n"
     ]
    }
   ],
   "source": [
    "student = Student()\n",
    "student.work()"
   ]
  },
  {
   "cell_type": "code",
   "execution_count": 105,
   "id": "e202a647",
   "metadata": {},
   "outputs": [],
   "source": [
    "class Figure:\n",
    "    # 생성자 (initializer)\n",
    "    def __init__(self, width, height):\n",
    "        self.width = width\n",
    "        self.height = height\n",
    "    \n",
    "    def print_info(self):\n",
    "        print('사이즈: ', self.width, self.height)\n",
    "\n",
    "class Rectangle(Figure):\n",
    "    def print_info(self):\n",
    "        Figure.print_info(self) # 부모 클래스 메서드 호출\n",
    "        print('너비: ', self.width * self.height)"
   ]
  },
  {
   "cell_type": "code",
   "execution_count": 108,
   "id": "471472dc",
   "metadata": {},
   "outputs": [
    {
     "name": "stdout",
     "output_type": "stream",
     "text": [
      "사이즈:  10 20\n",
      "너비:  200\n"
     ]
    }
   ],
   "source": [
    "rectangle = Rectangle(10, 20)\n",
    "rectangle.print_info()"
   ]
  },
  {
   "cell_type": "markdown",
   "id": "7938eca0",
   "metadata": {},
   "source": [
    "### 추상 클래스 사용하기\n",
    "- 메서드 목록만 가진 클래스, 상속받는 클래스에서 해당 메서드 구현해야함.\n",
    "- 예: 게임에서 모든 캐릭터는 공격하기, 이동하기의 공통 기능을 가지고 있다.\n",
    "    - 공통 기능을 추상 클래스로 만들고, 각 세부 기능은 해당 메서드에서 구현하는 것.\n",
    "    \n",
    "#### 사용법\n",
    "- abc 라이브러리 사용 (from abc import *)\n",
    "- 클래스 선언시 () 괄호 안에 metaclass=ABCMeta 를 지정\n",
    "- 해당 클래스에서 메서드 선언시 상단에 @abstractmethod 를 붙여줘야 함."
   ]
  },
  {
   "cell_type": "code",
   "execution_count": 109,
   "id": "9bdacba6",
   "metadata": {},
   "outputs": [],
   "source": [
    "# 추상 클래스 선언하기\n",
    "from abc import *\n",
    "\n",
    "class Character(metaclass=ABCMeta):\n",
    "    @abstractmethod\n",
    "    def attack(self):\n",
    "        pass\n",
    "    \n",
    "    @abstractmethod\n",
    "    def move(self):\n",
    "        pass"
   ]
  },
  {
   "cell_type": "code",
   "execution_count": 110,
   "id": "515e06c9",
   "metadata": {},
   "outputs": [],
   "source": [
    "# 추상 클래스 상속하기\n",
    "class Elf(Character):\n",
    "    def attack(self):\n",
    "        print(\"Practice the black art\")\n",
    "    \n",
    "    def move(self):\n",
    "        print(\"Fly\")\n",
    "\n",
    "class Human(Character):\n",
    "    def attack(self):\n",
    "        print(\"Plunge a knife\")\n",
    "    \n",
    "    def move(self):\n",
    "        print(\"Run\")"
   ]
  },
  {
   "cell_type": "code",
   "execution_count": 111,
   "id": "36b80248",
   "metadata": {},
   "outputs": [
    {
     "name": "stdout",
     "output_type": "stream",
     "text": [
      "Practice the black art\n",
      "Fly\n",
      "Plunge a knife\n",
      "Run\n"
     ]
    }
   ],
   "source": [
    "# 객체 실행하기\n",
    "elf = Elf()\n",
    "human = Human()\n",
    "\n",
    "elf.attack()\n",
    "elf.move()\n",
    "human.attack()\n",
    "human.move()"
   ]
  },
  {
   "cell_type": "code",
   "execution_count": 113,
   "id": "e63ab3b9",
   "metadata": {},
   "outputs": [],
   "source": [
    "# 추상 클래스 선언하기\n",
    "from abc import *\n",
    "\n",
    "class Character(metaclass=ABCMeta):\n",
    "    def __init__(self, hp):\n",
    "        self.hp = hp\n",
    "    \n",
    "    def get_hp(self):\n",
    "        return self.hp\n",
    "    \n",
    "    @abstractmethod\n",
    "    def attack(self):\n",
    "        pass\n",
    "    \n",
    "    @abstractmethod\n",
    "    def move(self):\n",
    "        pass"
   ]
  },
  {
   "cell_type": "code",
   "execution_count": 115,
   "id": "d31b71b9",
   "metadata": {},
   "outputs": [
    {
     "ename": "TypeError",
     "evalue": "Can't instantiate abstract class Character with abstract methods attack, move",
     "output_type": "error",
     "traceback": [
      "\u001b[0;31m---------------------------------------------------------------------------\u001b[0m",
      "\u001b[0;31mTypeError\u001b[0m                                 Traceback (most recent call last)",
      "Input \u001b[0;32mIn [115]\u001b[0m, in \u001b[0;36m<cell line: 2>\u001b[0;34m()\u001b[0m\n\u001b[1;32m      1\u001b[0m \u001b[38;5;66;03m# 추상 클래스는 객체로 만들 수 없다!!\u001b[39;00m\n\u001b[0;32m----> 2\u001b[0m character \u001b[38;5;241m=\u001b[39m \u001b[43mCharacter\u001b[49m\u001b[43m(\u001b[49m\u001b[38;5;241;43m10\u001b[39;49m\u001b[43m)\u001b[49m\n",
      "\u001b[0;31mTypeError\u001b[0m: Can't instantiate abstract class Character with abstract methods attack, move"
     ]
    }
   ],
   "source": [
    "# 추상 클래스는 객체로 만들 수 없다!!\n",
    "character = Character(10)"
   ]
  },
  {
   "cell_type": "code",
   "execution_count": 116,
   "id": "4db486e6",
   "metadata": {
    "scrolled": true
   },
   "outputs": [
    {
     "name": "stdout",
     "output_type": "stream",
     "text": [
      "Jiho Electronic\n"
     ]
    }
   ],
   "source": [
    "# Car, Electronic Car class\n",
    "from abc import *\n",
    "\n",
    "class Car(metaclass=ABCMeta):\n",
    "    def __init__(self, name):\n",
    "        self.name = name\n",
    "    \n",
    "    def get_info(self):\n",
    "        return self.name\n",
    "\n",
    "    @abstractmethod\n",
    "    def fuel(self):\n",
    "        pass\n",
    "    \n",
    "class ElecCar(Car):\n",
    "    def fuel(self):\n",
    "        return 'Electronic'\n",
    "\n",
    "elec_car = ElecCar('Jiho')\n",
    "print(elec_car.get_info(), elec_car.fuel())"
   ]
  },
  {
   "cell_type": "markdown",
   "id": "3dc8b704",
   "metadata": {},
   "source": [
    "# 5. 클래스 속성과 메서드\n",
    "\n",
    "## 5.1 클래스 변수와 인스턴스 변수\n",
    "- **클래스 변수**: 클래스 정의에서 메서드 밖에 존재하는 변수\n",
    "    - 해당 클래스를 사용하는 모두에게 공용으로 사용되는 변수\n",
    "    - 클래스 변수는 클래스 **내외부**에서 **\"클래스명.변수명\"** 엑세스 가능\n",
    "- **인스턴스 변수**: 클래스 정의에서 메서드 안에서 사용되며, \"self.변수명\"으로 사용되는 변수\n",
    "    - 각 객체별로 서로 다른 값을 갖는다.\n",
    "    - 클래스 내부에서는 **self.인스턴스변수명**을 사용하여 액세스, 클래스 밖에서는 **객체명.인스턴스변수명**으로 엑세스"
   ]
  },
  {
   "cell_type": "code",
   "execution_count": 1,
   "id": "6e58e218",
   "metadata": {},
   "outputs": [],
   "source": [
    "class Figure:\n",
    "    count = 0 # 클래스 변수\n",
    "    \n",
    "    def __init__(self, width, height):\n",
    "        self.width = width\n",
    "        self.height = height\n",
    "        # 클래스 변수 접근\n",
    "        Figure.count += 1\n",
    "    \n",
    "    def __del__(self):\n",
    "        Figure.count -= 1\n",
    "    \n",
    "    # Method\n",
    "    def calc_area(self):\n",
    "        return self.width * self.height"
   ]
  },
  {
   "cell_type": "code",
   "execution_count": 2,
   "id": "6296999b",
   "metadata": {},
   "outputs": [
    {
     "data": {
      "text/plain": [
       "2"
      ]
     },
     "execution_count": 2,
     "metadata": {},
     "output_type": "execute_result"
    }
   ],
   "source": [
    "figure1 = Figure(2, 3)\n",
    "Figure.count\n",
    "figure2 = Figure(2, 3)\n",
    "Figure.count"
   ]
  },
  {
   "cell_type": "code",
   "execution_count": 4,
   "id": "d55ed6ca",
   "metadata": {},
   "outputs": [
    {
     "name": "stdout",
     "output_type": "stream",
     "text": [
      "0\n",
      "1\n",
      "2\n",
      "2\n",
      "4\n",
      "1\n",
      "0\n"
     ]
    }
   ],
   "source": [
    "print(Figure.count)\n",
    "figure1 = Figure(2, 3)\n",
    "print(Figure.count)\n",
    "figure2 = Figure(4, 5)\n",
    "print(Figure.count)\n",
    "print(figure1.width)\n",
    "print(figure2.width)\n",
    "del figure1\n",
    "print(Figure.count)\n",
    "del figure2\n",
    "print(Figure.count)"
   ]
  },
  {
   "cell_type": "markdown",
   "id": "b4bff249",
   "metadata": {},
   "source": [
    "## 5.2 instance method, static method, class method\n",
    "\n",
    "### **instance method**: 해당 객체 안에서 호출(self.메서드명 의미)    \n",
    "- 해당 메서드를 호출한 객체에만 영향을 미침\n",
    "- **객체 속성에 접근 가능**\n",
    "    \n",
    "### **static method**: 객체와 독립적이지만, 로직상 클래스내에 포함되는 메서드    \n",
    "- self 파라미터를 갖고 있지 않는다.\n",
    "- 객체 속성에 접근 불가\n",
    "- **정적 메서드는 메서드 앞에 @staticmethod 라는 Decorator 를 넣어야 한다.**\n",
    "- **클래스명.정적메서드명 or 객체명.정적메서드명** 둘 다 호출 가능"
   ]
  },
  {
   "cell_type": "code",
   "execution_count": 5,
   "id": "ecb940ae",
   "metadata": {},
   "outputs": [],
   "source": [
    "class Figure:\n",
    "    def __init__(self, width, height):\n",
    "        self.width = width\n",
    "        self.height = height\n",
    "    \n",
    "    # method\n",
    "    def calc_area(self):\n",
    "        return self.width * self.height\n",
    "    \n",
    "    # static method (Figure 에 너비와 높이가 같은 도형은 정사각형임을 알려주는 기능)\n",
    "    @staticmethod\n",
    "    def is_square(rect_width, rect_height):\n",
    "        if rect_width == rect_height:\n",
    "            print(\"정사각형 가능\")\n",
    "        else:\n",
    "            print(\"정사각형 불가능\")"
   ]
  },
  {
   "cell_type": "code",
   "execution_count": 6,
   "id": "be6eaae0",
   "metadata": {},
   "outputs": [
    {
     "name": "stdout",
     "output_type": "stream",
     "text": [
      "정사각형 불가능\n",
      "정사각형 가능\n"
     ]
    }
   ],
   "source": [
    "figure1 = Figure(2, 3)\n",
    "figure1.is_square(3, 5) # 객체명.정적메서드명 호출 가능\n",
    "Figure.is_square(3, 3) # 클래스명.정적메서드명 호출 가능"
   ]
  },
  {
   "cell_type": "code",
   "execution_count": 8,
   "id": "58420544",
   "metadata": {},
   "outputs": [],
   "source": [
    "class Figure:\n",
    "    count = 0\n",
    "    \n",
    "    def __init__(self, width, height):\n",
    "        self.width = width\n",
    "        self.height = height\n",
    "        # 클래스 변수 접근\n",
    "        Figure.count += 1\n",
    "    \n",
    "    # 정적 메서드 (정적 메서드에서는 클래스 attribute 는 접근 가능)\n",
    "    @staticmethod\n",
    "    def print_count():\n",
    "        print(Figure.count)\n",
    "        \n",
    "    # 정적 메서드 (Error: 정적 메서드에서는 객체 attribute 는 접근 불가)\n",
    "    @staticmethod\n",
    "    def print_width():\n",
    "        print(self.width)"
   ]
  },
  {
   "cell_type": "code",
   "execution_count": 10,
   "id": "c16cb19c",
   "metadata": {},
   "outputs": [
    {
     "name": "stdout",
     "output_type": "stream",
     "text": [
      "2\n",
      "2\n",
      "None\n"
     ]
    },
    {
     "ename": "NameError",
     "evalue": "name 'self' is not defined",
     "output_type": "error",
     "traceback": [
      "\u001b[0;31m---------------------------------------------------------------------------\u001b[0m",
      "\u001b[0;31mNameError\u001b[0m                                 Traceback (most recent call last)",
      "Input \u001b[0;32mIn [10]\u001b[0m, in \u001b[0;36m<cell line: 4>\u001b[0;34m()\u001b[0m\n\u001b[1;32m      2\u001b[0m \u001b[38;5;28mprint\u001b[39m(Figure\u001b[38;5;241m.\u001b[39mcount)\n\u001b[1;32m      3\u001b[0m \u001b[38;5;28mprint\u001b[39m(figure1\u001b[38;5;241m.\u001b[39mprint_count())\n\u001b[0;32m----> 4\u001b[0m \u001b[38;5;28mprint\u001b[39m(\u001b[43mfigure1\u001b[49m\u001b[38;5;241;43m.\u001b[39;49m\u001b[43mprint_width\u001b[49m\u001b[43m(\u001b[49m\u001b[43m)\u001b[49m)\n",
      "Input \u001b[0;32mIn [8]\u001b[0m, in \u001b[0;36mFigure.print_width\u001b[0;34m()\u001b[0m\n\u001b[1;32m     16\u001b[0m \u001b[38;5;129m@staticmethod\u001b[39m\n\u001b[1;32m     17\u001b[0m \u001b[38;5;28;01mdef\u001b[39;00m \u001b[38;5;21mprint_width\u001b[39m():\n\u001b[0;32m---> 18\u001b[0m     \u001b[38;5;28mprint\u001b[39m(\u001b[38;5;28;43mself\u001b[39;49m\u001b[38;5;241m.\u001b[39mwidth)\n",
      "\u001b[0;31mNameError\u001b[0m: name 'self' is not defined"
     ]
    }
   ],
   "source": [
    "figure1 = Figure(1, 2)\n",
    "print(Figure.count)\n",
    "print(figure1.print_count())\n",
    "print(figure1.print_width())"
   ]
  },
  {
   "cell_type": "markdown",
   "id": "d06a48b6",
   "metadata": {},
   "source": [
    "### class method: 해당 class 안에서 호출 (해당 클래스로 만들어진 객체에서 호출되지 않고, 직접 클래스 자체에서 호출)\n",
    "- self 파라미터 대신, **cls 파라미터**를 갖는다.\n",
    "- 클래스 변수 접근이 가능하며, **cls.클래스변수명** 으로 엑세스 가능 (단, 객체 속성/메서드는 접근 불가)\n",
    "- 클래스 메서드는 메서드 앞에 **@classmethod** 라는 Decorator 를 넣어야 한다.\n",
    "- **클래스명.클래스메서드명** or **객체명.클래스메서드명** 둘 다 호출 가능"
   ]
  },
  {
   "cell_type": "code",
   "execution_count": 16,
   "id": "960d89e2",
   "metadata": {},
   "outputs": [
    {
     "name": "stdout",
     "output_type": "stream",
     "text": [
      "2\n",
      "2\n",
      "2\n"
     ]
    }
   ],
   "source": [
    "class Figure:\n",
    "    count = 0 # 클래스 변수\n",
    "    \n",
    "    def __init__(self, width, height):\n",
    "        self.width = width\n",
    "        self.height = height\n",
    "        # 클래스 변수 접근\n",
    "        Figure.count += 1\n",
    "    \n",
    "    # Method\n",
    "    def calc_area(self):\n",
    "        return self.width * self.height\n",
    "    \n",
    "    # 클래스 메서드\n",
    "    @classmethod\n",
    "    def print_count(cls):\n",
    "        return cls.count\n",
    "\n",
    "figure1 = Figure(2, 3)\n",
    "figure2 = Figure(4, 5)\n",
    "print(Figure.count)\n",
    "print(Figure.print_count())\n",
    "print(figure2.print_count())"
   ]
  },
  {
   "cell_type": "code",
   "execution_count": 18,
   "id": "b6ea99ea",
   "metadata": {
    "scrolled": true
   },
   "outputs": [
    {
     "name": "stdout",
     "output_type": "stream",
     "text": [
      "1\n",
      "2\n",
      "44\n",
      "3\n"
     ]
    }
   ],
   "source": [
    "class A(object):\n",
    "    count = 0 # static member (class variable)\n",
    "    \n",
    "    def __init__(self, cnt):\n",
    "        self.cnt = cnt # member variable, attribute\n",
    "        A.count += 1\n",
    "    \n",
    "    def print_cnt(self): # member function, method\n",
    "        print(self.cnt)\n",
    "    \n",
    "    # 다중 상속 관계에서 많이 쓰일 듯!\n",
    "    @classmethod # class method, static function\n",
    "    def print_count(cls):\n",
    "        print(cls.count)\n",
    "        \n",
    "a1 = A(1)\n",
    "a2 = A(2)\n",
    "a3 = A(44)\n",
    "\n",
    "a1.print_cnt()\n",
    "a2.print_cnt()\n",
    "a3.print_cnt()\n",
    "\n",
    "A.print_count()"
   ]
  },
  {
   "cell_type": "markdown",
   "id": "4eefbd51",
   "metadata": {},
   "source": [
    "# 6. 다형성(Polymorphism)\n",
    "- 같은 모양의 코드가 다른 동작을 하는 것\n",
    "- attack(weapon) 공격한다는 동일한 코드에 대해\n",
    "    - sword, magic, fist 등 공격할 수 있는 무기에 따라 공격이 다른 것을 의미\n",
    "- 다형성은 코드의 양을 줄이고, 여러 객체 타입을 하나의 타입으로 관리가 가능하여 유지보수에 좋다.\n",
    "\n",
    "## 6.1 Method Overriede(메서드 재정의)"
   ]
  },
  {
   "cell_type": "code",
   "execution_count": 1,
   "id": "72061c45",
   "metadata": {},
   "outputs": [],
   "source": [
    "# 클래스 선언\n",
    "class Person:\n",
    "    def __init__(self, name):\n",
    "        self.name = name\n",
    "\n",
    "    def work(self):\n",
    "        print(self.name + \" works hard\")\n",
    "    \n",
    "class Student(Person):\n",
    "    def work(self):\n",
    "        print(self.name + \" studies hard\")\n",
    "    \n",
    "class Engineer(Person):\n",
    "    def work(self):\n",
    "        print(self.name + \" develops something\")"
   ]
  },
  {
   "cell_type": "code",
   "execution_count": 2,
   "id": "253341a0",
   "metadata": {},
   "outputs": [
    {
     "name": "stdout",
     "output_type": "stream",
     "text": [
      "Jiho studies hard\n",
      "Ju develops something\n"
     ]
    }
   ],
   "source": [
    "# 객체 생성\n",
    "student = Student(\"Jiho\")\n",
    "developer = Engineer(\"Ju\")\n",
    "\n",
    "student.work()\n",
    "developer.work()"
   ]
  },
  {
   "cell_type": "markdown",
   "id": "f2829b7c",
   "metadata": {},
   "source": [
    "위의 코드는 메서드명을 동일하게 해서 같은 모양의 코드가 다른 동작을 하도록 하는 다형성의 예다.\n",
    "\n",
    "### 다형성 Practice\n",
    "- 요성(Elf), 파이터(Fighter) 클래스 선언\n",
    "- 이름을 입력 받는다 - Elf의 attack 메서드: 출력 \"마법으로 공격합니다.\"\n",
    "- Fighter의 attack 메서드: 출력 \"주먹으로 공격합니다.\""
   ]
  },
  {
   "cell_type": "code",
   "execution_count": 3,
   "id": "ebb9f802",
   "metadata": {},
   "outputs": [
    {
     "name": "stdout",
     "output_type": "stream",
     "text": [
      "마법으로 공격합니다.\n",
      "주먹으로 공격합니다.\n"
     ]
    }
   ],
   "source": [
    "class Elf:\n",
    "    def __init__(self, name):\n",
    "        self.name = name\n",
    "    \n",
    "    def attack(self):\n",
    "        print(\"마법으로 공격합니다.\")\n",
    "    \n",
    "class Fighter:\n",
    "    def __init__(self, name):\n",
    "        self.name = name\n",
    "        \n",
    "    def attack(self):\n",
    "        print(\"주먹으로 공격합니다.\")\n",
    "\n",
    "elf = Elf(\"Jiho\")\n",
    "fighter = Fighter(\"Ju\")\n",
    "ourteam = [elf, fighter]\n",
    "\n",
    "for attacker in ourteam:\n",
    "    attacker.attack()"
   ]
  },
  {
   "cell_type": "markdown",
   "id": "a6bd462e",
   "metadata": {},
   "source": [
    "### Abstract Class 사용\n",
    "\n",
    "위의 코드를 Abstract Class 를 사용해서 변경"
   ]
  },
  {
   "cell_type": "code",
   "execution_count": 5,
   "id": "f2f38581",
   "metadata": {},
   "outputs": [
    {
     "name": "stdout",
     "output_type": "stream",
     "text": [
      "마법으로 공격합니다.\n",
      "주먹으로 공격합니다.\n"
     ]
    }
   ],
   "source": [
    "from abc import ABC, abstractmethod\n",
    "\n",
    "class Character(ABC):\n",
    "    def __init__(self, name):\n",
    "        self.name = name\n",
    "    \n",
    "    @abstractmethod\n",
    "    def attack(self):\n",
    "        pass\n",
    "    \n",
    "class Elf(Character):\n",
    "    def attack(self):\n",
    "        print(\"마법으로 공격합니다.\")\n",
    "    \n",
    "class Fighter(Character):\n",
    "    def attack(self):\n",
    "        print(\"주먹으로 공격합니다.\")\n",
    "        \n",
    "elf = Elf(\"Jiho\")\n",
    "fighter = Fighter(\"Ju\")\n",
    "ourteam = [elf, fighter]\n",
    "\n",
    "for attacker in ourteam:\n",
    "    attacker.attack()"
   ]
  },
  {
   "cell_type": "markdown",
   "id": "6e07de7c",
   "metadata": {},
   "source": [
    "# 7. 연산자 중복 (Operator Overloading)\n",
    "- 객체에서 필요한 연산자를 재정의하는 것\n",
    "- 연산자 중복을 위해 미리 정의된 특별한 메서드 존재: \\_로 시작 \\_로 끝나는 특수 함수\n",
    "- 해당 메서드들을 구현하면, 객체에 여러가지 파이썬 내장 함수나 연산자를 재정의하여 사용 가능\n",
    "- https://docs.python.org/3/reference/datamodel.html"
   ]
  },
  {
   "cell_type": "markdown",
   "id": "af511f65",
   "metadata": {},
   "source": [
    "### Quadrangle + Figure = Quadrangle(widths, heights)"
   ]
  },
  {
   "cell_type": "code",
   "execution_count": 1,
   "id": "164e1664",
   "metadata": {},
   "outputs": [],
   "source": [
    "class Figure:\n",
    "    def __init__(self, width, height):\n",
    "        self.width = width\n",
    "        self.height = height"
   ]
  },
  {
   "cell_type": "code",
   "execution_count": 4,
   "id": "36cfd4e5",
   "metadata": {},
   "outputs": [],
   "source": [
    "class Quadrangle:\n",
    "    def __init__(self, width, height):\n",
    "        self.width = width\n",
    "        self.height = height\n",
    "    \n",
    "    def __add__(self, second):\n",
    "        return Quadrangle(self.width + second.width, self.height + second.height)"
   ]
  },
  {
   "cell_type": "code",
   "execution_count": 5,
   "id": "db4d32fa",
   "metadata": {},
   "outputs": [
    {
     "name": "stdout",
     "output_type": "stream",
     "text": [
      "5 7\n"
     ]
    }
   ],
   "source": [
    "rectangle1 = Quadrangle(2, 3)\n",
    "figure = Figure(3, 4)\n",
    "rectangle2 = rectangle1 + figure\n",
    "print(rectangle2.width, rectangle2.height)"
   ]
  },
  {
   "cell_type": "code",
   "execution_count": 10,
   "id": "85247c05",
   "metadata": {},
   "outputs": [],
   "source": [
    "class Quadrangle:\n",
    "    def __init__(self, width, height):\n",
    "        self.width = width\n",
    "        self.height = height\n",
    "    \n",
    "    def __add__(self, second):\n",
    "        return Quadrangle(self.width + second, self.height + second)\n",
    "    \n",
    "    # 연산자 곱셉\n",
    "    def __mul__(self, num):\n",
    "        return Quadrangle(self.width * num, self.height * num)\n",
    "    \n",
    "    # 연산자 len() - 길이\n",
    "    def __len__(self):\n",
    "        return self.width * 2 + self.height * 2\n",
    "    \n",
    "    # 연산자 A[index] - 리스트\n",
    "    def __getitem__(self, index):\n",
    "        if index == 0:\n",
    "            return self.width\n",
    "        elif index == 1:\n",
    "            return self.height\n",
    "    \n",
    "    # 연산자 str() - 문자열 변환\n",
    "    def __str__(self):\n",
    "        return 'width : {}, height : {}'.format(self.width, self.height)"
   ]
  },
  {
   "cell_type": "code",
   "execution_count": 11,
   "id": "eed4f9cd",
   "metadata": {},
   "outputs": [
    {
     "name": "stdout",
     "output_type": "stream",
     "text": [
      "6 7\n",
      "width : 2, height : 3\n",
      "width : 6, height : 9\n",
      "10\n"
     ]
    }
   ],
   "source": [
    "rectangle1 = Quadrangle(2, 3)\n",
    "rectangle3 = rectangle1 + 4\n",
    "print(rectangle3.width, rectangle3.height)\n",
    "rectangle4 = rectangle1 * 3\n",
    "print(str(rectangle1))\n",
    "print(str(rectangle4))\n",
    "print(len(rectangle1))"
   ]
  },
  {
   "cell_type": "markdown",
   "id": "933d5e70",
   "metadata": {},
   "source": [
    "### 7.1 객체 주소 확인하기와 is, == 연산자 이해\n",
    "- id(객체명): 객체가 가리키는 실제 주소값\n",
    "- is 와 == 연산자 차이\n",
    "    - is : 가리키는 객체 자체가 같은 경우 True\n",
    "    - == : 가리키는 값들이 같은 경우 True"
   ]
  },
  {
   "cell_type": "code",
   "execution_count": 12,
   "id": "fbf7aff3",
   "metadata": {},
   "outputs": [
    {
     "name": "stdout",
     "output_type": "stream",
     "text": [
      "rectangle1: 4419975152\n",
      "rectangle2: 4419973280\n",
      "rectangle3: 4419975152\n",
      "rectangle1 is rectangle2 : False\n",
      "rectangle1 is rectangle3 : True\n",
      "rectangle1 == rectangle2 : False\n",
      "rectangle1.width == rectangle2.width : True\n"
     ]
    }
   ],
   "source": [
    "class Figure(Quadrangle):\n",
    "    pass\n",
    "\n",
    "rectangle1 = Quadrangle(1, 2)\n",
    "rectangle2 = Quadrangle(1, 2)\n",
    "rectangle3 = rectangle1\n",
    "print(f\"rectangle1: {id(rectangle1)}\")\n",
    "print(f\"rectangle2: {id(rectangle2)}\")\n",
    "print(f\"rectangle3: {id(rectangle3)}\")\n",
    "print(f\"rectangle1 is rectangle2 : {rectangle1 is rectangle2}\")\n",
    "print(f\"rectangle1 is rectangle3 : {rectangle1 is rectangle3}\")\n",
    "print(f\"rectangle1 == rectangle2 : {rectangle1 == rectangle2}\")\n",
    "print(f\"rectangle1.width == rectangle2.width : {rectangle1.width == rectangle2.width}\")"
   ]
  },
  {
   "cell_type": "markdown",
   "id": "2074281c",
   "metadata": {},
   "source": [
    "### 위 코드에서 == 연산자 overloading 해보기"
   ]
  },
  {
   "cell_type": "code",
   "execution_count": 14,
   "id": "cca11900",
   "metadata": {},
   "outputs": [
    {
     "name": "stdout",
     "output_type": "stream",
     "text": [
      "rectangle1: 4421759424\n",
      "rectangle2: 4420113840\n",
      "rectangle3: 4421759424\n",
      "rectangle1 is rectangle2 : False\n",
      "rectangle1 is rectangle3 : True\n",
      "rectangle1 == rectangle2 : True\n",
      "rectangle1.width == rectangle2.width : True\n"
     ]
    }
   ],
   "source": [
    "class Figure(Quadrangle):\n",
    "    # 연산자 ==\n",
    "    def __eq__(self, p):\n",
    "        if ((self.width == p.width) and (self.height == p.height)):\n",
    "            return True\n",
    "        else:\n",
    "            return False\n",
    "        \n",
    "rectangle1 = Figure(1, 2)\n",
    "rectangle2 = Figure(1, 2)\n",
    "rectangle3 = rectangle1\n",
    "print(f\"rectangle1: {id(rectangle1)}\")\n",
    "print(f\"rectangle2: {id(rectangle2)}\")\n",
    "print(f\"rectangle3: {id(rectangle3)}\")\n",
    "print(f\"rectangle1 is rectangle2 : {rectangle1 is rectangle2}\")\n",
    "print(f\"rectangle1 is rectangle3 : {rectangle1 is rectangle3}\")\n",
    "print(f\"rectangle1 == rectangle2 : {rectangle1 == rectangle2}\")\n",
    "print(f\"rectangle1.width == rectangle2.width : {rectangle1.width == rectangle2.width}\")"
   ]
  },
  {
   "cell_type": "markdown",
   "id": "d43068c0",
   "metadata": {},
   "source": [
    "### 7. 2 Operator Overloading 실습\n",
    "- Keyword 클래스 생성\n",
    "    - 클래스 인자로 영어 단어 한 개를 받는다.\n",
    "    - attribute: 영어 단어\n",
    "    - method: 연산자 오버로딩 - len() : 영어 단어 길이 리턴\n",
    "- 프로그래밍 1. Keyword 클래스로 10개의 임의 영어 단어를 가지고 각각 객체로 만들어서 하나의 리스트에 넣는다.\n",
    "\n",
    "- 2. 영어 단어 길이를 기준으로 리스트를 정렬\n",
    "    - \\_len\\_(self) 정의하기\n",
    "    - sorted 함수와 lambda 로 길이 순 정렬 기법 사용\n",
    "    \n",
    "- 3. 영어 단어의 두 번째 알파벳을 기준으로 리스트 정렬\n",
    "    - \\_getitem\\_(self, key) 정의"
   ]
  },
  {
   "cell_type": "code",
   "execution_count": 1,
   "id": "e856e5a9",
   "metadata": {
    "scrolled": true
   },
   "outputs": [
    {
     "name": "stdout",
     "output_type": "stream",
     "text": [
      "hi\n",
      "bye\n",
      "hello\n",
      "hello\n",
      "hi\n",
      "bye\n"
     ]
    }
   ],
   "source": [
    "class Keyword:\n",
    "    def __init__(self, word):\n",
    "        self.word = word\n",
    "    \n",
    "    # 연산자 len() - 길이\n",
    "    def __len__(self):\n",
    "        return len(self.word)\n",
    "    \n",
    "    # 연산자 A[index] - 리스트\n",
    "    def __getitem__(self, index):\n",
    "        return self.word[index]\n",
    "    \n",
    "    def get_word(self):\n",
    "        return self.word\n",
    "\n",
    "hi = Keyword('hi')\n",
    "hello = Keyword('hello')\n",
    "bye = Keyword('bye')\n",
    "len(hi)\n",
    "keywords = [hi, hello, bye]\n",
    "\n",
    "keywords = sorted(keywords, key=lambda x:len(x))\n",
    "\n",
    "for keyword in keywords:\n",
    "    print(keyword.get_word())\n",
    "\n",
    "keywords = sorted(keywords, key=lambda x:x[1])\n",
    "\n",
    "for keyword in keywords:\n",
    "    print(keyword.get_word())"
   ]
  },
  {
   "cell_type": "markdown",
   "id": "cc1f7b77",
   "metadata": {},
   "source": [
    "# 8. 다중 상속\n",
    "- **다중 상속**: 2개 이상의 클래스를 상속받는 경우\n",
    "- 상속 받은 모든 클래스의 attribute와 method를 모두 사용 가능"
   ]
  },
  {
   "cell_type": "code",
   "execution_count": 1,
   "id": "36f07d0c",
   "metadata": {},
   "outputs": [],
   "source": [
    "class Person:\n",
    "    def sleep(self):\n",
    "        print('sleep')\n",
    "    \n",
    "class Student(Person):\n",
    "    def study(self):\n",
    "        print('Study hard')\n",
    "\n",
    "class Worker(Person):\n",
    "    def work(self):\n",
    "        print('Work hard')\n",
    "\n",
    "# 다중 상속\n",
    "class PartTimer(Student, Worker):\n",
    "    def find_job(self):\n",
    "        print('Find a job')"
   ]
  },
  {
   "cell_type": "code",
   "execution_count": 3,
   "id": "5687d150",
   "metadata": {},
   "outputs": [
    {
     "name": "stdout",
     "output_type": "stream",
     "text": [
      "sleep\n",
      "Study hard\n",
      "Work hard\n",
      "Find a job\n"
     ]
    }
   ],
   "source": [
    "parttimer = PartTimer()\n",
    "parttimer.sleep() # Person 클래스에 정의된 method\n",
    "parttimer.study() # Student 클래스에 정의된 method\n",
    "parttimer.work()  # Worker 클래스에 정의된 method\n",
    "parttimer.find_job()"
   ]
  },
  {
   "cell_type": "markdown",
   "id": "d92428cc",
   "metadata": {},
   "source": [
    "다중 상속을 받을 때, 부모 클래스에 동일한 이름의 메소드를 호출하려 할 때 어떤 부모의 메소드를 호출해야 할 지 모르기에 문제가 발생할 수 있다.<br>\n",
    "=> 하나의 구문이 두 가지 이상의 의미로 해석될 수 있을 때 발생\n",
    "\n",
    "#### 파이썬은 MRO 를 통해 이 문제를 해결한다. MRO는 자식과 부모 클래스를 전부 포함하여 메소드의 실행 순서를 지정하는 것이다.\n",
    "- 다중 상속된 클래스의 나열 순서에 따라 MRO가 결정된다.\n",
    "    - 상속된 클래스 중 앞에 나열된 클래스부터 속성을 찾는다."
   ]
  },
  {
   "cell_type": "code",
   "execution_count": 16,
   "id": "9ac6d299",
   "metadata": {},
   "outputs": [],
   "source": [
    "class Person:\n",
    "    def sleep(self):\n",
    "        print('sleep')\n",
    "    \n",
    "class Student(Person):\n",
    "    def study(self):\n",
    "        print('Study hard')\n",
    "    \n",
    "    def play(self):\n",
    "        print('Play with friends')\n",
    "\n",
    "class Worker(Person):\n",
    "    def work(self):\n",
    "        print('Work hard')\n",
    "\n",
    "    def play(self):\n",
    "        print('Drinks alone')\n",
    "\n",
    "# 다중 상속\n",
    "class PartTimer(Student, Worker):\n",
    "    def find_job(self):\n",
    "        print('Find a job')"
   ]
  },
  {
   "cell_type": "code",
   "execution_count": 7,
   "id": "e72e810c",
   "metadata": {},
   "outputs": [
    {
     "name": "stdout",
     "output_type": "stream",
     "text": [
      "Study hard\n",
      "Work hard\n",
      "Play with friends\n",
      "Find a job\n"
     ]
    }
   ],
   "source": [
    "parttimer = PartTimer()\n",
    "parttimer.study() # Student 클래스에 정의된 method\n",
    "parttimer.work()  # Worker 클래스에 정의된 method\n",
    "parttimer.play()  # play method 는 상속된 클래스의 나열 순서에 영향을 받는다. -> 먼저 온 클래스 메서드부터!!\n",
    "parttimer.find_job()"
   ]
  },
  {
   "cell_type": "markdown",
   "id": "8a7111cf",
   "metadata": {},
   "source": [
    "#### => play method 는 상속된 클래스의 나열 순서에 영향을 받는다. -> 먼저 온 클래스 메서드부터!!\n",
    "#### 연습: Saladent(공부하는 직장인) 클래스 만들기 해당 객체는 Worker와 Student 클래스를 상속받고, play() 메서드 호출 시 'drinks alone'이 출력"
   ]
  },
  {
   "cell_type": "code",
   "execution_count": 17,
   "id": "7e73908c",
   "metadata": {},
   "outputs": [
    {
     "name": "stdout",
     "output_type": "stream",
     "text": [
      "Drinks alone\n"
     ]
    },
    {
     "data": {
      "text/plain": [
       "(__main__.Saladent, __main__.Worker, __main__.Student, __main__.Person, object)"
      ]
     },
     "execution_count": 17,
     "metadata": {},
     "output_type": "execute_result"
    }
   ],
   "source": [
    "class Saladent(Worker, Student):\n",
    "    pass\n",
    "\n",
    "salaent = Saladent()\n",
    "salaent.play()\n",
    "\n",
    "Saladent.__mro__"
   ]
  },
  {
   "cell_type": "markdown",
   "id": "23d3b231",
   "metadata": {},
   "source": [
    "### 다음 코드는 최상위 클래스 메서드를 두 번 호출하게 되는 문제점이 있다!!"
   ]
  },
  {
   "cell_type": "code",
   "execution_count": 9,
   "id": "4e61d022",
   "metadata": {},
   "outputs": [],
   "source": [
    "class Person:\n",
    "    def __init__(self):\n",
    "        print('I am a person')\n",
    "\n",
    "class Student(Person):\n",
    "    def __init__(self):\n",
    "        Person.__init__(self)\n",
    "        print('I am a student')\n",
    "\n",
    "class Worker(Person):\n",
    "    def __init__(self):\n",
    "        Person.__init__(self)\n",
    "        print('I am a worker')\n",
    "\n",
    "# 다중 상속\n",
    "class PartTimer(Student, Worker):\n",
    "    def __init__(self):\n",
    "        Student.__init__(self)\n",
    "        Worker.__init__(self)\n",
    "        print('I am a part-timer and student') "
   ]
  },
  {
   "cell_type": "code",
   "execution_count": 10,
   "id": "506f160a",
   "metadata": {},
   "outputs": [
    {
     "name": "stdout",
     "output_type": "stream",
     "text": [
      "I am a person\n",
      "I am a student\n",
      "I am a person\n",
      "I am a worker\n",
      "I am a part-timer and student\n"
     ]
    }
   ],
   "source": [
    "parttimer = PartTimer()"
   ]
  },
  {
   "cell_type": "markdown",
   "id": "f3ec1929",
   "metadata": {},
   "source": [
    "### super() 내장함수를 사용하면 위의 문제를 해결 가능!!!"
   ]
  },
  {
   "cell_type": "code",
   "execution_count": 25,
   "id": "ce6a39ba",
   "metadata": {},
   "outputs": [],
   "source": [
    "class Person:\n",
    "    def __init__(self):\n",
    "        print('I am a person')\n",
    "\n",
    "class Student(Person):\n",
    "    def __init__(self):\n",
    "        super().__init__() # super 클래스가 없다면 이 메소드 -> PartTime 메소드만 출력!\n",
    "        print('I am a student')\n",
    "\n",
    "class Worker(Person):\n",
    "    def __init__(self):\n",
    "        super().__init__() # super 클래스가 없다면 이 메소드 -> Student 메소드 -> PartTime 메소드만 출력!\n",
    "        print('I am a worker')\n",
    "\n",
    "# 다중 상속\n",
    "class PartTimer(Student, Worker):\n",
    "    def __init__(self):\n",
    "        super().__init__()\n",
    "        print('I am a part-timer and student') "
   ]
  },
  {
   "cell_type": "code",
   "execution_count": 26,
   "id": "da9590b3",
   "metadata": {
    "scrolled": false
   },
   "outputs": [
    {
     "name": "stdout",
     "output_type": "stream",
     "text": [
      "I am a person\n",
      "I am a worker\n",
      "I am a student\n",
      "I am a part-timer and student\n",
      "(<class '__main__.PartTimer'>, <class '__main__.Student'>, <class '__main__.Worker'>, <class '__main__.Person'>, <class 'object'>)\n"
     ]
    }
   ],
   "source": [
    "parttimer = PartTimer()\n",
    "\n",
    "print(PartTimer.__mro__)"
   ]
  },
  {
   "cell_type": "markdown",
   "id": "f1666bee",
   "metadata": {},
   "source": [
    "### mro 우선순위 상 Student 의 메소드가 먼저 실행이 되야하는데 왜 Person 메소드가 먼저?\n",
    "- Student 클래스의 다음 우선순위는 Worker 이고 Worker 클래스의 다음 우선순위는 Person 이다. \n",
    "- Student와 Worker 클래스의 super 클래스가 다음 우선순위를 가리킨다.\n",
    "- Person -> Worker -> Student -> PartTime 메서드 순으로 출력한다.\n",
    "\n",
    "### 다양한 상속구조에서 메서드 이름을 찾는 순서는 '_mro_'에 튜플로 정의되어 있다.\n",
    "- MRO: Method Resolution Order 의 약자"
   ]
  },
  {
   "cell_type": "code",
   "execution_count": 14,
   "id": "b3809e1f",
   "metadata": {
    "scrolled": true
   },
   "outputs": [
    {
     "data": {
      "text/plain": [
       "(__main__.PartTimer,\n",
       " __main__.Student,\n",
       " __main__.Worker,\n",
       " __main__.Person,\n",
       " object)"
      ]
     },
     "execution_count": 14,
     "metadata": {},
     "output_type": "execute_result"
    }
   ],
   "source": [
    "PartTimer.__mro__"
   ]
  },
  {
   "cell_type": "markdown",
   "id": "7fa954b9",
   "metadata": {},
   "source": [
    "# 9. 포함(Composition)\n",
    "\n",
    "## Composition\n",
    "- 다른 클래스의 일부 기능을 그대로 이용하고 싶으나, 전체 기능 상속은 피하고 싶을 때 사용\n",
    "- Composition or Aggregation 이라고 한다.\n",
    "- 상속관계가 복잡할 경우, 코드 이해가 어려운 경우가 많음.\n",
    "- 컴포지션은 명시적 선언, 상속은 암시적 선언\n",
    "- 다만, 컴포지션, 상속에 대한 개념 이해는 역시나 한번에 이해하고, 활용하기는 어려움."
   ]
  },
  {
   "cell_type": "code",
   "execution_count": 29,
   "id": "1e52bee0",
   "metadata": {},
   "outputs": [],
   "source": [
    "class Calc:\n",
    "    def __init__(self, x, y):\n",
    "        self.x = x\n",
    "        self.y = y\n",
    "    \n",
    "    def add(self):\n",
    "        return self.x + self.y\n",
    "\n",
    "    def subtract(self):\n",
    "        return self.x - self.y\n",
    "\n",
    "class Calc2:\n",
    "    def __init__(self, x, y):\n",
    "        self.x = x\n",
    "        self.y = y\n",
    "    \n",
    "    def add(self):\n",
    "        return self.x + self.y\n",
    "\n",
    "    def multiply(self):\n",
    "        return self.x * self.y"
   ]
  },
  {
   "cell_type": "markdown",
   "id": "52179a56",
   "metadata": {},
   "source": [
    "#### Calc 클래스에서 Cal2의 multiply() 메서드를 활용하고 싶지만, Calc2 전체를 상속 받고 싶지는 않음."
   ]
  },
  {
   "cell_type": "code",
   "execution_count": 30,
   "id": "89bbc81c",
   "metadata": {},
   "outputs": [],
   "source": [
    "class Calc:\n",
    "    def __init__(self, x, y):\n",
    "        self.x = x\n",
    "        self.y = y\n",
    "        self.calc2 = Calc2(x, y) # 해당 클래스의 객체를 명시적으로 가져옴.\n",
    "    \n",
    "    def add(self):\n",
    "        return self.x + self.y\n",
    "\n",
    "    def subtract(self):\n",
    "        return self.x - self.y\n",
    "    \n",
    "    def multiply(self):\n",
    "        return self.calc2.multiply() # 해당 클래스의 객체에 있는 메서드를 명시적으로 활용"
   ]
  },
  {
   "cell_type": "code",
   "execution_count": 31,
   "id": "022b79b7",
   "metadata": {},
   "outputs": [
    {
     "name": "stdout",
     "output_type": "stream",
     "text": [
      "2\n",
      "6\n"
     ]
    }
   ],
   "source": [
    "calc1 = Calc(1, 2)\n",
    "print(calc1.multiply())\n",
    "calc2 = Calc(x = 2, y = 3) # 함수 인자와 마찬가지로 직접 인자명과 값을 써도 된다.\n",
    "print(calc2.multiply())"
   ]
  },
  {
   "cell_type": "markdown",
   "id": "a0ece784",
   "metadata": {},
   "source": [
    "## 실습\n",
    "\n",
    "### 클래스 설계해보기 1. 게임 케릭터 클래스 만들기\n",
    "- attribute: name, health_point, striking_power, defensive_power\n",
    "- attribute 명시적 입력이 없으면, name='yourname', health_point=100, striking_power=3, defensive_power=3이 디폴트로 입력됨.\n",
    "- method: info() - 게임 케릭터 name, health_point, striking_power, defensive_power 출력\n",
    "- 다음 시나리오가 동작할 수 있게 한다.\n",
    "\n",
    "게임 케릭터는 다음과 같이 3명이 존재한다.\n",
    "#### Warrior\n",
    "- name: 원하는 이름\n",
    "- health_point = 100\n",
    "- striking_power = 3\n",
    "- defensive_power = 1\n",
    "\n",
    "#### Elf\n",
    "- name: 원하는 이름\n",
    "- health_point = 100\n",
    "- striking_power = 1\n",
    "- defensive_power = 3\n",
    "\n",
    "#### Wizard\n",
    "- name: 원하는 이름\n",
    "- health_point = 50\n",
    "- striking_power = 2\n",
    "- defensive_power = 2\n",
    "\n",
    "### 2. 각 3명의 캐릭터는 특별한 메서드를 갖는다.\n",
    "\n",
    "게임 케릭터는 다음과 같이 3명이 존재\n",
    "\n",
    "#### Warrior\n",
    "- attack: 상대방 객체를 입력받아서, '칼로 찌르다' 출력하고, 상대방의 receive 메서드를 호출해서, striking_power 만큼 상대방의 health_point 를 낮춘다.\n",
    "- receive: 상대방의 striking_point 를 입력 받아서, 자신의 health_point를 그만큼 낮추기, health_point가 0이하면 '죽었음' 출력\n",
    "\n",
    "#### Elf\n",
    "- attack: 상대방 객체를 입력받아서, '마법을 쓰다' 출력하고, 상대방의 receive 메서드를 호출해서, striking_power 만큼 상대방의 health_point 를 낮춘다.\n",
    "- receive: 상대방의 striking_point 를 입력 받아서, 자신의 health_point를 그만큼 낮추기, health_point가 0이하면 '죽었음' 출력\n",
    "- wear_manteau: 1번 공격을 막는다.\n",
    "\n",
    "#### Wizard\n",
    "- attack: 상대방 객체를 입력받아서, '마법을 쓰다' 출력하고, 상대방의 receive 메서드를 호출해서, striking_power 만큼 상대방의 health_point 를 낮춘다.\n",
    "- receive: 상대방의 striking_point 를 입력 받아서, 자신의 health_point를 그만큼 낮추기, health_point가 0이하면 '죽었음' 출력\n",
    "- use_wizard: 자신의 health_point를 3씩 올려준다.\n",
    "\n",
    "### 3. 각 3명의 캐릭터 객체를 만들어, attack 메서드를 호출해서 한명의 캐릭터 죽여보기"
   ]
  },
  {
   "cell_type": "code",
   "execution_count": 39,
   "id": "88b646e1",
   "metadata": {},
   "outputs": [],
   "source": [
    "from abc import *\n",
    "\n",
    "class Character(metaclass=ABCMeta):\n",
    "    def __init__(self, name='yourname', health_point=100, striking_power=3, defensive_power=3):\n",
    "        self.name = name\n",
    "        self.health_point = health_point\n",
    "        self.striking_power = striking_power\n",
    "        self.defensive_power = defensive_power\n",
    "    \n",
    "    def get_info(self):\n",
    "        print(self.name, self.health_point, \\\n",
    "              self.striking_power, self.defensive_power)\n",
    "    \n",
    "    @abstractmethod\n",
    "    def attack(self, opposite):\n",
    "        pass\n",
    "    \n",
    "    @abstractmethod\n",
    "    def receive(self, st):\n",
    "        pass\n",
    "    \n",
    "class Warrior(Character):\n",
    "    def attack(self, opposite):\n",
    "        print(\"칼로 찌르다\")\n",
    "        opposite.receive(self.striking_power)\n",
    "    \n",
    "    def receive(self, st):\n",
    "        self.health_point -= st\n",
    "        if self.health_point <= 0:\n",
    "            print(\"Warrior 죽었음\")\n",
    "    \n",
    "class Elf(Character):\n",
    "    def __init__(self, name='yourname', health_point=100, striking_power=3, defensive_power=3):\n",
    "        super().__init__(name, health_point, striking_power, defensive_power)\n",
    "        self.manteau = 1\n",
    "    \n",
    "    def attack(self, opposite):\n",
    "        print(\"마법을 쓰다\")\n",
    "        opposite.receive(self.striking_power)\n",
    "    \n",
    "    def receive(self, st):\n",
    "        if self.manteau == 1:\n",
    "            print('막았음')\n",
    "            self.manteau -= 1\n",
    "        else:\n",
    "            self.health_point -= st\n",
    "            if self.health_point <= 0:\n",
    "                print(\"ELf 죽었음\")"
   ]
  },
  {
   "cell_type": "code",
   "execution_count": 41,
   "id": "afc09306",
   "metadata": {
    "scrolled": true
   },
   "outputs": [
    {
     "name": "stdout",
     "output_type": "stream",
     "text": [
      "칼로 찌르다\n",
      "막았음\n",
      "마법을 쓰다\n",
      "칼로 찌르다\n",
      "마법을 쓰다\n",
      "칼로 찌르다\n",
      "마법을 쓰다\n",
      "칼로 찌르다\n",
      "마법을 쓰다\n",
      "칼로 찌르다\n",
      "마법을 쓰다\n",
      "칼로 찌르다\n",
      "마법을 쓰다\n",
      "칼로 찌르다\n",
      "마법을 쓰다\n",
      "칼로 찌르다\n",
      "마법을 쓰다\n",
      "칼로 찌르다\n",
      "마법을 쓰다\n",
      "칼로 찌르다\n",
      "마법을 쓰다\n",
      "칼로 찌르다\n",
      "마법을 쓰다\n",
      "칼로 찌르다\n",
      "마법을 쓰다\n",
      "칼로 찌르다\n",
      "마법을 쓰다\n",
      "칼로 찌르다\n",
      "마법을 쓰다\n",
      "칼로 찌르다\n",
      "마법을 쓰다\n",
      "칼로 찌르다\n",
      "마법을 쓰다\n",
      "칼로 찌르다\n",
      "마법을 쓰다\n",
      "칼로 찌르다\n",
      "마법을 쓰다\n",
      "칼로 찌르다\n",
      "마법을 쓰다\n",
      "칼로 찌르다\n",
      "마법을 쓰다\n",
      "칼로 찌르다\n",
      "마법을 쓰다\n",
      "칼로 찌르다\n",
      "마법을 쓰다\n",
      "칼로 찌르다\n",
      "마법을 쓰다\n",
      "칼로 찌르다\n",
      "마법을 쓰다\n",
      "칼로 찌르다\n",
      "마법을 쓰다\n",
      "칼로 찌르다\n",
      "마법을 쓰다\n",
      "칼로 찌르다\n",
      "마법을 쓰다\n",
      "칼로 찌르다\n",
      "마법을 쓰다\n",
      "칼로 찌르다\n",
      "마법을 쓰다\n",
      "칼로 찌르다\n",
      "마법을 쓰다\n",
      "칼로 찌르다\n",
      "마법을 쓰다\n",
      "칼로 찌르다\n",
      "마법을 쓰다\n",
      "칼로 찌르다\n",
      "마법을 쓰다\n",
      "칼로 찌르다\n",
      "마법을 쓰다\n",
      "칼로 찌르다\n",
      "ELf 죽었음\n"
     ]
    }
   ],
   "source": [
    "w = Warrior('J', 100, 3, 1)\n",
    "e = Elf('H', 100, 1, 3)\n",
    "\n",
    "while True:\n",
    "    w.attack(e)\n",
    "    if e.health_point <= 0:\n",
    "        break\n",
    "    e.attack(w)\n",
    "    if w.health_point <= 0:\n",
    "        break"
   ]
  }
 ],
 "metadata": {
  "kernelspec": {
   "display_name": "Python 3 (ipykernel)",
   "language": "python",
   "name": "python3"
  },
  "language_info": {
   "codemirror_mode": {
    "name": "ipython",
    "version": 3
   },
   "file_extension": ".py",
   "mimetype": "text/x-python",
   "name": "python",
   "nbconvert_exporter": "python",
   "pygments_lexer": "ipython3",
   "version": "3.9.13"
  }
 },
 "nbformat": 4,
 "nbformat_minor": 5
}
